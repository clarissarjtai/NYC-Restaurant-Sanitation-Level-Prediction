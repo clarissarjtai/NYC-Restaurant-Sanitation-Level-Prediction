{
 "cells": [
  {
   "cell_type": "markdown",
   "metadata": {},
   "source": [
    "# Model training"
   ]
  },
  {
   "cell_type": "code",
   "execution_count": 451,
   "metadata": {},
   "outputs": [],
   "source": [
    "import pandas as pd\n",
    "import numpy as np\n",
    "import seaborn as sn\n",
    "import matplotlib.pyplot as plt\n",
    "\n",
    "from category_encoders import TargetEncoder\n",
    "from sklearn.preprocessing import OneHotEncoder\n",
    "from sklearn.preprocessing import StandardScaler\n",
    "from sklearn.model_selection import train_test_split\n",
    "\n",
    "from xgboost import XGBRFRegressor\n",
    "from xgboost import XGBClassifier\n",
    "from xgboost import plot_importance\n",
    "\n",
    "from sklearn.metrics import accuracy_score\n",
    "from sklearn.metrics import confusion_matrix\n",
    "from sklearn.metrics import plot_confusion_matrix\n",
    "from sklearn.metrics import f1_score\n",
    "from sklearn.metrics import roc_auc_score\n",
    "\n",
    "from sklearn.ensemble import RandomForestClassifier\n",
    "\n",
    "from sklearn.model_selection import PredefinedSplit\n",
    "\n",
    "from sklearn.utils.class_weight import compute_sample_weight\n",
    "\n",
    "from sklearn.linear_model import LogisticRegression\n",
    "\n",
    "from sklearn.model_selection import cross_validate\n",
    "from sklearn.model_selection import RandomizedSearchCV\n",
    "from sklearn.model_selection import GridSearchCV\n",
    "\n",
    "from imblearn.over_sampling import SMOTE\n",
    "from imblearn.over_sampling import RandomOverSampler\n",
    "from imblearn.under_sampling import RandomUnderSampler\n",
    "\n",
    "from imblearn.pipeline import make_pipeline as imb_make_pipeline\n",
    "\n",
    "from sklearn.metrics import roc_curve\n",
    "from sklearn.metrics import average_precision_score\n",
    "from sklearn.metrics import precision_recall_curve"
   ]
  },
  {
   "cell_type": "code",
   "execution_count": 423,
   "metadata": {},
   "outputs": [
    {
     "data": {
      "text/html": [
       "<div>\n",
       "<style scoped>\n",
       "    .dataframe tbody tr th:only-of-type {\n",
       "        vertical-align: middle;\n",
       "    }\n",
       "\n",
       "    .dataframe tbody tr th {\n",
       "        vertical-align: top;\n",
       "    }\n",
       "\n",
       "    .dataframe thead th {\n",
       "        text-align: right;\n",
       "    }\n",
       "</style>\n",
       "<table border=\"1\" class=\"dataframe\">\n",
       "  <thead>\n",
       "    <tr style=\"text-align: right;\">\n",
       "      <th></th>\n",
       "      <th>Unnamed: 0</th>\n",
       "      <th>CAMIS</th>\n",
       "      <th>ZIPCODE</th>\n",
       "      <th>CUISINE DESCRIPTION</th>\n",
       "      <th>GRADE</th>\n",
       "      <th>ClosestWorkingTankDis</th>\n",
       "      <th>ClosestBadTankDis</th>\n",
       "      <th>BORO_Bronx</th>\n",
       "      <th>BORO_Brooklyn</th>\n",
       "      <th>BORO_Manhattan</th>\n",
       "      <th>...</th>\n",
       "      <th>BORO_Staten Island</th>\n",
       "      <th>RESULT</th>\n",
       "      <th>Pop</th>\n",
       "      <th>White</th>\n",
       "      <th>Black</th>\n",
       "      <th>Hispanic</th>\n",
       "      <th>Native</th>\n",
       "      <th>Asian</th>\n",
       "      <th>Inc</th>\n",
       "      <th>Unemp</th>\n",
       "    </tr>\n",
       "  </thead>\n",
       "  <tbody>\n",
       "    <tr>\n",
       "      <th>0</th>\n",
       "      <td>0</td>\n",
       "      <td>30112340</td>\n",
       "      <td>2.801389</td>\n",
       "      <td>2.913240</td>\n",
       "      <td>3.0</td>\n",
       "      <td>0.226460</td>\n",
       "      <td>4.392523</td>\n",
       "      <td>0.0</td>\n",
       "      <td>1.0</td>\n",
       "      <td>0.0</td>\n",
       "      <td>...</td>\n",
       "      <td>0.0</td>\n",
       "      <td>0.0</td>\n",
       "      <td>2501.0</td>\n",
       "      <td>12.2</td>\n",
       "      <td>63.2</td>\n",
       "      <td>18.4</td>\n",
       "      <td>2.4</td>\n",
       "      <td>1.6</td>\n",
       "      <td>35028.0</td>\n",
       "      <td>11.5</td>\n",
       "    </tr>\n",
       "    <tr>\n",
       "      <th>1</th>\n",
       "      <td>1</td>\n",
       "      <td>30112340</td>\n",
       "      <td>2.801389</td>\n",
       "      <td>2.913240</td>\n",
       "      <td>2.0</td>\n",
       "      <td>0.226460</td>\n",
       "      <td>4.392523</td>\n",
       "      <td>0.0</td>\n",
       "      <td>1.0</td>\n",
       "      <td>0.0</td>\n",
       "      <td>...</td>\n",
       "      <td>0.0</td>\n",
       "      <td>0.0</td>\n",
       "      <td>2501.0</td>\n",
       "      <td>12.2</td>\n",
       "      <td>63.2</td>\n",
       "      <td>18.4</td>\n",
       "      <td>2.4</td>\n",
       "      <td>1.6</td>\n",
       "      <td>35028.0</td>\n",
       "      <td>11.5</td>\n",
       "    </tr>\n",
       "    <tr>\n",
       "      <th>2</th>\n",
       "      <td>2</td>\n",
       "      <td>30191841</td>\n",
       "      <td>2.831125</td>\n",
       "      <td>2.814634</td>\n",
       "      <td>3.0</td>\n",
       "      <td>0.004614</td>\n",
       "      <td>1.120030</td>\n",
       "      <td>0.0</td>\n",
       "      <td>0.0</td>\n",
       "      <td>1.0</td>\n",
       "      <td>...</td>\n",
       "      <td>0.0</td>\n",
       "      <td>0.0</td>\n",
       "      <td>5195.0</td>\n",
       "      <td>72.9</td>\n",
       "      <td>3.6</td>\n",
       "      <td>8.4</td>\n",
       "      <td>0.0</td>\n",
       "      <td>12.3</td>\n",
       "      <td>141678.0</td>\n",
       "      <td>4.7</td>\n",
       "    </tr>\n",
       "    <tr>\n",
       "      <th>3</th>\n",
       "      <td>3</td>\n",
       "      <td>30191841</td>\n",
       "      <td>2.831125</td>\n",
       "      <td>2.814634</td>\n",
       "      <td>3.0</td>\n",
       "      <td>0.004614</td>\n",
       "      <td>1.120030</td>\n",
       "      <td>0.0</td>\n",
       "      <td>0.0</td>\n",
       "      <td>1.0</td>\n",
       "      <td>...</td>\n",
       "      <td>0.0</td>\n",
       "      <td>0.0</td>\n",
       "      <td>5195.0</td>\n",
       "      <td>72.9</td>\n",
       "      <td>3.6</td>\n",
       "      <td>8.4</td>\n",
       "      <td>0.0</td>\n",
       "      <td>12.3</td>\n",
       "      <td>141678.0</td>\n",
       "      <td>4.7</td>\n",
       "    </tr>\n",
       "    <tr>\n",
       "      <th>4</th>\n",
       "      <td>4</td>\n",
       "      <td>40356018</td>\n",
       "      <td>2.868895</td>\n",
       "      <td>2.834724</td>\n",
       "      <td>3.0</td>\n",
       "      <td>0.315359</td>\n",
       "      <td>9.367778</td>\n",
       "      <td>0.0</td>\n",
       "      <td>1.0</td>\n",
       "      <td>0.0</td>\n",
       "      <td>...</td>\n",
       "      <td>0.0</td>\n",
       "      <td>0.0</td>\n",
       "      <td>2185.0</td>\n",
       "      <td>38.0</td>\n",
       "      <td>2.2</td>\n",
       "      <td>40.8</td>\n",
       "      <td>0.0</td>\n",
       "      <td>19.1</td>\n",
       "      <td>20040.0</td>\n",
       "      <td>12.2</td>\n",
       "    </tr>\n",
       "  </tbody>\n",
       "</table>\n",
       "<p>5 rows × 21 columns</p>\n",
       "</div>"
      ],
      "text/plain": [
       "   Unnamed: 0     CAMIS   ZIPCODE  CUISINE DESCRIPTION  GRADE  \\\n",
       "0           0  30112340  2.801389             2.913240    3.0   \n",
       "1           1  30112340  2.801389             2.913240    2.0   \n",
       "2           2  30191841  2.831125             2.814634    3.0   \n",
       "3           3  30191841  2.831125             2.814634    3.0   \n",
       "4           4  40356018  2.868895             2.834724    3.0   \n",
       "\n",
       "   ClosestWorkingTankDis  ClosestBadTankDis  BORO_Bronx  BORO_Brooklyn  \\\n",
       "0               0.226460           4.392523         0.0            1.0   \n",
       "1               0.226460           4.392523         0.0            1.0   \n",
       "2               0.004614           1.120030         0.0            0.0   \n",
       "3               0.004614           1.120030         0.0            0.0   \n",
       "4               0.315359           9.367778         0.0            1.0   \n",
       "\n",
       "   BORO_Manhattan  ...  BORO_Staten Island  RESULT     Pop  White  Black  \\\n",
       "0             0.0  ...                 0.0     0.0  2501.0   12.2   63.2   \n",
       "1             0.0  ...                 0.0     0.0  2501.0   12.2   63.2   \n",
       "2             1.0  ...                 0.0     0.0  5195.0   72.9    3.6   \n",
       "3             1.0  ...                 0.0     0.0  5195.0   72.9    3.6   \n",
       "4             0.0  ...                 0.0     0.0  2185.0   38.0    2.2   \n",
       "\n",
       "   Hispanic  Native  Asian       Inc  Unemp  \n",
       "0      18.4     2.4    1.6   35028.0   11.5  \n",
       "1      18.4     2.4    1.6   35028.0   11.5  \n",
       "2       8.4     0.0   12.3  141678.0    4.7  \n",
       "3       8.4     0.0   12.3  141678.0    4.7  \n",
       "4      40.8     0.0   19.1   20040.0   12.2  \n",
       "\n",
       "[5 rows x 21 columns]"
      ]
     },
     "execution_count": 423,
     "metadata": {},
     "output_type": "execute_result"
    }
   ],
   "source": [
    "df_final = pd.read_csv(\"data_for_model.csv\")\n",
    "data = df_final.drop(columns=[\"Unnamed: 0\", \"CAMIS\"])\n",
    "df_final.head()"
   ]
  },
  {
   "cell_type": "markdown",
   "metadata": {},
   "source": [
    "### Convert To Binary Problem"
   ]
  },
  {
   "cell_type": "code",
   "execution_count": 476,
   "metadata": {},
   "outputs": [
    {
     "data": {
      "text/plain": [
       "0.0    39922\n",
       "1.0     4864\n",
       "Name: GRADE, dtype: int64"
      ]
     },
     "execution_count": 476,
     "metadata": {},
     "output_type": "execute_result"
    }
   ],
   "source": [
    "data.loc[data['GRADE'] == 1, 'GRADE'] = 1\n",
    "data.loc[data['GRADE'] == 2, \"GRADE\"] = 1\n",
    "data.loc[data['GRADE'] == 3, \"GRADE\"] = 0\n",
    "data[\"GRADE\"].value_counts()"
   ]
  },
  {
   "cell_type": "code",
   "execution_count": 425,
   "metadata": {},
   "outputs": [],
   "source": [
    "# plt.hist(data.loc[data['GRADE'] == 1][\"Asian\"], color='red')\n",
    "# plt.show()\n",
    "# plt.hist(data.loc[data['GRADE'] == 0][\"Asian\"], color='green')\n",
    "# plt.show()\n",
    "\n",
    "# print(\"PASSING RESTAURANTS\",data.loc[data['GRADE'] == 0][\"Pop\"].mean())"
   ]
  },
  {
   "cell_type": "markdown",
   "metadata": {},
   "source": [
    "### Train Test Split and Scaling"
   ]
  },
  {
   "cell_type": "code",
   "execution_count": 452,
   "metadata": {},
   "outputs": [
    {
     "data": {
      "text/html": [
       "<div>\n",
       "<style scoped>\n",
       "    .dataframe tbody tr th:only-of-type {\n",
       "        vertical-align: middle;\n",
       "    }\n",
       "\n",
       "    .dataframe tbody tr th {\n",
       "        vertical-align: top;\n",
       "    }\n",
       "\n",
       "    .dataframe thead th {\n",
       "        text-align: right;\n",
       "    }\n",
       "</style>\n",
       "<table border=\"1\" class=\"dataframe\">\n",
       "  <thead>\n",
       "    <tr style=\"text-align: right;\">\n",
       "      <th></th>\n",
       "      <th>ZIPCODE</th>\n",
       "      <th>CUISINE DESCRIPTION</th>\n",
       "      <th>ClosestWorkingTankDis</th>\n",
       "      <th>ClosestBadTankDis</th>\n",
       "      <th>BORO_Bronx</th>\n",
       "      <th>BORO_Brooklyn</th>\n",
       "      <th>BORO_Manhattan</th>\n",
       "      <th>BORO_Queens</th>\n",
       "      <th>BORO_Staten Island</th>\n",
       "      <th>RESULT</th>\n",
       "      <th>Pop</th>\n",
       "      <th>White</th>\n",
       "      <th>Black</th>\n",
       "      <th>Hispanic</th>\n",
       "      <th>Native</th>\n",
       "      <th>Asian</th>\n",
       "      <th>Inc</th>\n",
       "      <th>Unemp</th>\n",
       "    </tr>\n",
       "  </thead>\n",
       "  <tbody>\n",
       "    <tr>\n",
       "      <th>19196</th>\n",
       "      <td>2.876777</td>\n",
       "      <td>2.714226</td>\n",
       "      <td>0.011061</td>\n",
       "      <td>1.331296</td>\n",
       "      <td>1.0</td>\n",
       "      <td>0.0</td>\n",
       "      <td>0.0</td>\n",
       "      <td>0.0</td>\n",
       "      <td>0.0</td>\n",
       "      <td>1.0</td>\n",
       "      <td>-0.479976</td>\n",
       "      <td>-0.943447</td>\n",
       "      <td>-0.087544</td>\n",
       "      <td>1.908478</td>\n",
       "      <td>-0.264047</td>\n",
       "      <td>-0.933068</td>\n",
       "      <td>-0.857346</td>\n",
       "      <td>1.181238</td>\n",
       "    </tr>\n",
       "    <tr>\n",
       "      <th>15797</th>\n",
       "      <td>2.842294</td>\n",
       "      <td>2.834724</td>\n",
       "      <td>-0.358611</td>\n",
       "      <td>-0.208667</td>\n",
       "      <td>0.0</td>\n",
       "      <td>1.0</td>\n",
       "      <td>0.0</td>\n",
       "      <td>0.0</td>\n",
       "      <td>0.0</td>\n",
       "      <td>0.0</td>\n",
       "      <td>-1.202333</td>\n",
       "      <td>-0.323219</td>\n",
       "      <td>1.444511</td>\n",
       "      <td>-0.535207</td>\n",
       "      <td>-0.264047</td>\n",
       "      <td>-0.577255</td>\n",
       "      <td>-0.178274</td>\n",
       "      <td>0.356854</td>\n",
       "    </tr>\n",
       "    <tr>\n",
       "      <th>7215</th>\n",
       "      <td>2.731610</td>\n",
       "      <td>2.675366</td>\n",
       "      <td>0.014721</td>\n",
       "      <td>1.184310</td>\n",
       "      <td>1.0</td>\n",
       "      <td>0.0</td>\n",
       "      <td>0.0</td>\n",
       "      <td>0.0</td>\n",
       "      <td>0.0</td>\n",
       "      <td>0.0</td>\n",
       "      <td>0.083626</td>\n",
       "      <td>-1.478478</td>\n",
       "      <td>0.750376</td>\n",
       "      <td>1.934521</td>\n",
       "      <td>1.626343</td>\n",
       "      <td>-0.933068</td>\n",
       "      <td>-1.071807</td>\n",
       "      <td>1.425500</td>\n",
       "    </tr>\n",
       "    <tr>\n",
       "      <th>38359</th>\n",
       "      <td>2.604426</td>\n",
       "      <td>2.778831</td>\n",
       "      <td>-0.411364</td>\n",
       "      <td>0.743940</td>\n",
       "      <td>0.0</td>\n",
       "      <td>0.0</td>\n",
       "      <td>1.0</td>\n",
       "      <td>0.0</td>\n",
       "      <td>0.0</td>\n",
       "      <td>0.0</td>\n",
       "      <td>2.734736</td>\n",
       "      <td>-0.991157</td>\n",
       "      <td>-0.394946</td>\n",
       "      <td>2.294780</td>\n",
       "      <td>-0.264047</td>\n",
       "      <td>-0.752245</td>\n",
       "      <td>-0.913304</td>\n",
       "      <td>1.501832</td>\n",
       "    </tr>\n",
       "    <tr>\n",
       "      <th>21399</th>\n",
       "      <td>2.777661</td>\n",
       "      <td>2.804657</td>\n",
       "      <td>-0.483905</td>\n",
       "      <td>-0.776142</td>\n",
       "      <td>0.0</td>\n",
       "      <td>0.0</td>\n",
       "      <td>1.0</td>\n",
       "      <td>0.0</td>\n",
       "      <td>0.0</td>\n",
       "      <td>0.0</td>\n",
       "      <td>0.528068</td>\n",
       "      <td>1.540871</td>\n",
       "      <td>-0.627977</td>\n",
       "      <td>-0.791295</td>\n",
       "      <td>-0.264047</td>\n",
       "      <td>-0.810575</td>\n",
       "      <td>2.680585</td>\n",
       "      <td>-0.314866</td>\n",
       "    </tr>\n",
       "  </tbody>\n",
       "</table>\n",
       "</div>"
      ],
      "text/plain": [
       "        ZIPCODE  CUISINE DESCRIPTION  ClosestWorkingTankDis  \\\n",
       "19196  2.876777             2.714226               0.011061   \n",
       "15797  2.842294             2.834724              -0.358611   \n",
       "7215   2.731610             2.675366               0.014721   \n",
       "38359  2.604426             2.778831              -0.411364   \n",
       "21399  2.777661             2.804657              -0.483905   \n",
       "\n",
       "       ClosestBadTankDis  BORO_Bronx  BORO_Brooklyn  BORO_Manhattan  \\\n",
       "19196           1.331296         1.0            0.0             0.0   \n",
       "15797          -0.208667         0.0            1.0             0.0   \n",
       "7215            1.184310         1.0            0.0             0.0   \n",
       "38359           0.743940         0.0            0.0             1.0   \n",
       "21399          -0.776142         0.0            0.0             1.0   \n",
       "\n",
       "       BORO_Queens  BORO_Staten Island  RESULT       Pop     White     Black  \\\n",
       "19196          0.0                 0.0     1.0 -0.479976 -0.943447 -0.087544   \n",
       "15797          0.0                 0.0     0.0 -1.202333 -0.323219  1.444511   \n",
       "7215           0.0                 0.0     0.0  0.083626 -1.478478  0.750376   \n",
       "38359          0.0                 0.0     0.0  2.734736 -0.991157 -0.394946   \n",
       "21399          0.0                 0.0     0.0  0.528068  1.540871 -0.627977   \n",
       "\n",
       "       Hispanic    Native     Asian       Inc     Unemp  \n",
       "19196  1.908478 -0.264047 -0.933068 -0.857346  1.181238  \n",
       "15797 -0.535207 -0.264047 -0.577255 -0.178274  0.356854  \n",
       "7215   1.934521  1.626343 -0.933068 -1.071807  1.425500  \n",
       "38359  2.294780 -0.264047 -0.752245 -0.913304  1.501832  \n",
       "21399 -0.791295 -0.264047 -0.810575  2.680585 -0.314866  "
      ]
     },
     "execution_count": 452,
     "metadata": {},
     "output_type": "execute_result"
    }
   ],
   "source": [
    "dev, test = train_test_split(data, test_size=0.2, random_state=42, stratify=data[\"GRADE\"])\n",
    "train, val = train_test_split(dev, test_size = 0.2,  random_state=42)\n",
    "\n",
    "dev_Y = dev[\"GRADE\"].astype(int)\n",
    "train_Y = train[\"GRADE\"].astype(int)\n",
    "val_Y = val[\"GRADE\"].astype(int)\n",
    "test_Y = test[\"GRADE\"].astype(int)\n",
    "\n",
    "dev_X = dev.drop(columns=[\"GRADE\"])\n",
    "train_X = train.drop(columns=[\"GRADE\"])\n",
    "val_X = val.drop(columns=[\"GRADE\"])\n",
    "test_X = test.drop(columns=[\"GRADE\"])\n",
    "\n",
    "# scaling numerical_data\n",
    "scaler = StandardScaler()\n",
    "dev_X[[\"ClosestWorkingTankDis\", \"ClosestBadTankDis\", \"Pop\", \"White\", \"Hispanic\", \"Black\", \"Native\", \"Asian\", \"Inc\", \"Unemp\"]] = scaler.fit_transform(dev_X[[\"ClosestWorkingTankDis\", \"ClosestBadTankDis\", \"Pop\", \"White\", \"Hispanic\", \"Black\", \"Native\", \"Asian\", \"Inc\", \"Unemp\"]])\n",
    "train_X[[\"ClosestWorkingTankDis\", \"ClosestBadTankDis\", \"Pop\", \"White\", \"Hispanic\", \"Black\", \"Native\", \"Asian\", \"Inc\", \"Unemp\"]] = scaler.fit_transform(train_X[[\"ClosestWorkingTankDis\", \"ClosestBadTankDis\", \"Pop\", \"White\", \"Hispanic\", \"Black\", \"Native\", \"Asian\", \"Inc\", \"Unemp\"]])\n",
    "\n",
    "val_X[[\"ClosestWorkingTankDis\", \"ClosestBadTankDis\", \"Pop\", \"White\", \"Hispanic\", \"Black\", \"Native\", \"Asian\", \"Inc\", \"Unemp\"]] = scaler.transform(val_X[[\"ClosestWorkingTankDis\", \"ClosestBadTankDis\", \"Pop\", \"White\", \"Hispanic\", \"Black\", \"Native\", \"Asian\", \"Inc\", \"Unemp\"]])\n",
    "test_X[[\"ClosestWorkingTankDis\", \"ClosestBadTankDis\", \"Pop\", \"White\", \"Hispanic\", \"Black\", \"Native\", \"Asian\", \"Inc\", \"Unemp\"]] = scaler.transform(test_X[[\"ClosestWorkingTankDis\", \"ClosestBadTankDis\", \"Pop\", \"White\", \"Hispanic\", \"Black\", \"Native\", \"Asian\", \"Inc\", \"Unemp\"]])\n",
    "\n",
    "dev_X.head()"
   ]
  },
  {
   "cell_type": "markdown",
   "metadata": {},
   "source": [
    "### Baseline Model"
   ]
  },
  {
   "cell_type": "code",
   "execution_count": 453,
   "metadata": {},
   "outputs": [
    {
     "name": "stdout",
     "output_type": "stream",
     "text": [
      "ROC AUC from constant prediction model:  0.5\n",
      "Average Precision from constant prediction model:  0.4712860768458951\n"
     ]
    },
    {
     "data": {
      "text/plain": [
       "<AxesSubplot:>"
      ]
     },
     "execution_count": 453,
     "metadata": {},
     "output_type": "execute_result"
    },
    {
     "data": {
      "image/png": "[encoded data removed]",
      "text/plain": [
       "<Figure size 720x504 with 2 Axes>"
      ]
     },
     "metadata": {
      "needs_background": "light"
     },
     "output_type": "display_data"
    }
   ],
   "source": [
    "# Baseline model -- would just predict 3 everytime\n",
    "constant_pred = np.repeat(0, test.shape[0])\n",
    "base_acc = accuracy_score(constant_pred, test_Y)\n",
    "# base_roc_auc = roc_auc_score(constant_pred, test_Y)\n",
    "print(\"ROC AUC from constant prediction model: \", roc_auc_score(test_Y, constant_pred))\n",
    "print(\"Average Precision from constant prediction model: \", f1_score(test_Y, constant_pred, average=\"macro\"))\n",
    "base_conf = confusion_matrix(constant_pred, test_Y)\n",
    "plt.figure(figsize = (10,7))\n",
    "sn.heatmap(base_conf, annot=True,  fmt='g')"
   ]
  },
  {
   "cell_type": "markdown",
   "metadata": {},
   "source": [
    "### ROS"
   ]
  },
  {
   "cell_type": "code",
   "execution_count": 454,
   "metadata": {},
   "outputs": [],
   "source": [
    "# resampling or other feature engineering techniques\n",
    "ros = RandomOverSampler()\n",
    "train_ROS = ros.fit_resample(train_X, train_Y)\n",
    "train_ROS_X = train_ROS[0]\n",
    "train_ROS_Y = train_ROS[1]\n",
    "\n",
    "dev_ROS = ros.fit_resample(dev_X, dev_Y)\n",
    "dev_ROS_X = dev_ROS[0]\n",
    "dev_ROS_Y = dev_ROS[1]\n"
   ]
  },
  {
   "cell_type": "code",
   "execution_count": 455,
   "metadata": {},
   "outputs": [],
   "source": [
    "# resampling or other feature engineering techniques\n",
    "sm = SMOTE()\n",
    "train_SMOTE = sm.fit_resample(train_X, train_Y)\n",
    "train_SMOTE_X = train_SMOTE[0]\n",
    "train_SMOTE_Y = train_SMOTE[1]\n",
    "\n",
    "dev_SMOTE = sm.fit_resample(dev_X, dev_Y)\n",
    "dev_SMOTE_X = dev_SMOTE[0]\n",
    "dev_SMOTE_Y = dev_SMOTE[1]\n"
   ]
  },
  {
   "cell_type": "markdown",
   "metadata": {},
   "source": [
    "### Lets see how a baseline logistic regression model does on original and sampled data"
   ]
  },
  {
   "cell_type": "code",
   "execution_count": 456,
   "metadata": {},
   "outputs": [
    {
     "name": "stderr",
     "output_type": "stream",
     "text": [
      "/Users/elijahflomen/miniforge3/lib/python3.9/site-packages/sklearn/linear_model/_logistic.py:814: ConvergenceWarning: lbfgs failed to converge (status=1):\n",
      "STOP: TOTAL NO. of ITERATIONS REACHED LIMIT.\n",
      "\n",
      "Increase the number of iterations (max_iter) or scale the data as shown in:\n",
      "    https://scikit-learn.org/stable/modules/preprocessing.html\n",
      "Please also refer to the documentation for alternative solver options:\n",
      "    https://scikit-learn.org/stable/modules/linear_model.html#logistic-regression\n",
      "  n_iter_i = _check_optimize_result(\n",
      "/Users/elijahflomen/miniforge3/lib/python3.9/site-packages/sklearn/linear_model/_logistic.py:814: ConvergenceWarning: lbfgs failed to converge (status=1):\n",
      "STOP: TOTAL NO. of ITERATIONS REACHED LIMIT.\n",
      "\n",
      "Increase the number of iterations (max_iter) or scale the data as shown in:\n",
      "    https://scikit-learn.org/stable/modules/preprocessing.html\n",
      "Please also refer to the documentation for alternative solver options:\n",
      "    https://scikit-learn.org/stable/modules/linear_model.html#logistic-regression\n",
      "  n_iter_i = _check_optimize_result(\n",
      "/Users/elijahflomen/miniforge3/lib/python3.9/site-packages/sklearn/linear_model/_logistic.py:814: ConvergenceWarning: lbfgs failed to converge (status=1):\n",
      "STOP: TOTAL NO. of ITERATIONS REACHED LIMIT.\n",
      "\n",
      "Increase the number of iterations (max_iter) or scale the data as shown in:\n",
      "    https://scikit-learn.org/stable/modules/preprocessing.html\n",
      "Please also refer to the documentation for alternative solver options:\n",
      "    https://scikit-learn.org/stable/modules/linear_model.html#logistic-regression\n",
      "  n_iter_i = _check_optimize_result(\n",
      "/Users/elijahflomen/miniforge3/lib/python3.9/site-packages/sklearn/linear_model/_logistic.py:814: ConvergenceWarning: lbfgs failed to converge (status=1):\n",
      "STOP: TOTAL NO. of ITERATIONS REACHED LIMIT.\n",
      "\n",
      "Increase the number of iterations (max_iter) or scale the data as shown in:\n",
      "    https://scikit-learn.org/stable/modules/preprocessing.html\n",
      "Please also refer to the documentation for alternative solver options:\n",
      "    https://scikit-learn.org/stable/modules/linear_model.html#logistic-regression\n",
      "  n_iter_i = _check_optimize_result(\n"
     ]
    },
    {
     "name": "stdout",
     "output_type": "stream",
     "text": [
      "Mean AUC from 5-fold CV:  0.6453984781274513\n",
      "Mean AP from 5-fold CV:  0.17852588051239923\n"
     ]
    },
    {
     "name": "stderr",
     "output_type": "stream",
     "text": [
      "/Users/elijahflomen/miniforge3/lib/python3.9/site-packages/sklearn/linear_model/_logistic.py:814: ConvergenceWarning: lbfgs failed to converge (status=1):\n",
      "STOP: TOTAL NO. of ITERATIONS REACHED LIMIT.\n",
      "\n",
      "Increase the number of iterations (max_iter) or scale the data as shown in:\n",
      "    https://scikit-learn.org/stable/modules/preprocessing.html\n",
      "Please also refer to the documentation for alternative solver options:\n",
      "    https://scikit-learn.org/stable/modules/linear_model.html#logistic-regression\n",
      "  n_iter_i = _check_optimize_result(\n"
     ]
    }
   ],
   "source": [
    "# Original Data\n",
    "scores = cross_validate(LogisticRegression(), dev_X, dev_Y, cv=5, scoring=['roc_auc', 'average_precision'])\n",
    "print(\"Mean AUC from 5-fold CV: \", scores['test_roc_auc'].mean())\n",
    "print(\"Mean AP from 5-fold CV: \", scores['test_average_precision'].mean())"
   ]
  },
  {
   "cell_type": "code",
   "execution_count": 457,
   "metadata": {},
   "outputs": [
    {
     "name": "stderr",
     "output_type": "stream",
     "text": [
      "/Users/elijahflomen/miniforge3/lib/python3.9/site-packages/sklearn/linear_model/_logistic.py:814: ConvergenceWarning: lbfgs failed to converge (status=1):\n",
      "STOP: TOTAL NO. of ITERATIONS REACHED LIMIT.\n",
      "\n",
      "Increase the number of iterations (max_iter) or scale the data as shown in:\n",
      "    https://scikit-learn.org/stable/modules/preprocessing.html\n",
      "Please also refer to the documentation for alternative solver options:\n",
      "    https://scikit-learn.org/stable/modules/linear_model.html#logistic-regression\n",
      "  n_iter_i = _check_optimize_result(\n",
      "/Users/elijahflomen/miniforge3/lib/python3.9/site-packages/sklearn/linear_model/_logistic.py:814: ConvergenceWarning: lbfgs failed to converge (status=1):\n",
      "STOP: TOTAL NO. of ITERATIONS REACHED LIMIT.\n",
      "\n",
      "Increase the number of iterations (max_iter) or scale the data as shown in:\n",
      "    https://scikit-learn.org/stable/modules/preprocessing.html\n",
      "Please also refer to the documentation for alternative solver options:\n",
      "    https://scikit-learn.org/stable/modules/linear_model.html#logistic-regression\n",
      "  n_iter_i = _check_optimize_result(\n",
      "/Users/elijahflomen/miniforge3/lib/python3.9/site-packages/sklearn/linear_model/_logistic.py:814: ConvergenceWarning: lbfgs failed to converge (status=1):\n",
      "STOP: TOTAL NO. of ITERATIONS REACHED LIMIT.\n",
      "\n",
      "Increase the number of iterations (max_iter) or scale the data as shown in:\n",
      "    https://scikit-learn.org/stable/modules/preprocessing.html\n",
      "Please also refer to the documentation for alternative solver options:\n",
      "    https://scikit-learn.org/stable/modules/linear_model.html#logistic-regression\n",
      "  n_iter_i = _check_optimize_result(\n",
      "/Users/elijahflomen/miniforge3/lib/python3.9/site-packages/sklearn/linear_model/_logistic.py:814: ConvergenceWarning: lbfgs failed to converge (status=1):\n",
      "STOP: TOTAL NO. of ITERATIONS REACHED LIMIT.\n",
      "\n",
      "Increase the number of iterations (max_iter) or scale the data as shown in:\n",
      "    https://scikit-learn.org/stable/modules/preprocessing.html\n",
      "Please also refer to the documentation for alternative solver options:\n",
      "    https://scikit-learn.org/stable/modules/linear_model.html#logistic-regression\n",
      "  n_iter_i = _check_optimize_result(\n"
     ]
    },
    {
     "name": "stdout",
     "output_type": "stream",
     "text": [
      "Mean AUC from 5-fold CV:  0.66155481830972\n",
      "Mean AP from 5-fold CV:  0.6268838575433915\n"
     ]
    },
    {
     "name": "stderr",
     "output_type": "stream",
     "text": [
      "/Users/elijahflomen/miniforge3/lib/python3.9/site-packages/sklearn/linear_model/_logistic.py:814: ConvergenceWarning: lbfgs failed to converge (status=1):\n",
      "STOP: TOTAL NO. of ITERATIONS REACHED LIMIT.\n",
      "\n",
      "Increase the number of iterations (max_iter) or scale the data as shown in:\n",
      "    https://scikit-learn.org/stable/modules/preprocessing.html\n",
      "Please also refer to the documentation for alternative solver options:\n",
      "    https://scikit-learn.org/stable/modules/linear_model.html#logistic-regression\n",
      "  n_iter_i = _check_optimize_result(\n"
     ]
    }
   ],
   "source": [
    "# SMOTE Data\n",
    "scores = cross_validate(LogisticRegression(), dev_SMOTE_X, dev_SMOTE_Y, cv=5, scoring=['roc_auc', 'average_precision'])\n",
    "print(\"Mean AUC from 5-fold CV: \", scores['test_roc_auc'].mean())\n",
    "print(\"Mean AP from 5-fold CV: \", scores['test_average_precision'].mean())"
   ]
  },
  {
   "cell_type": "code",
   "execution_count": 393,
   "metadata": {},
   "outputs": [
    {
     "name": "stderr",
     "output_type": "stream",
     "text": [
      "/Users/elijahflomen/miniforge3/lib/python3.9/site-packages/sklearn/linear_model/_logistic.py:814: ConvergenceWarning: lbfgs failed to converge (status=1):\n",
      "STOP: TOTAL NO. of ITERATIONS REACHED LIMIT.\n",
      "\n",
      "Increase the number of iterations (max_iter) or scale the data as shown in:\n",
      "    https://scikit-learn.org/stable/modules/preprocessing.html\n",
      "Please also refer to the documentation for alternative solver options:\n",
      "    https://scikit-learn.org/stable/modules/linear_model.html#logistic-regression\n",
      "  n_iter_i = _check_optimize_result(\n",
      "/Users/elijahflomen/miniforge3/lib/python3.9/site-packages/sklearn/linear_model/_logistic.py:814: ConvergenceWarning: lbfgs failed to converge (status=1):\n",
      "STOP: TOTAL NO. of ITERATIONS REACHED LIMIT.\n",
      "\n",
      "Increase the number of iterations (max_iter) or scale the data as shown in:\n",
      "    https://scikit-learn.org/stable/modules/preprocessing.html\n",
      "Please also refer to the documentation for alternative solver options:\n",
      "    https://scikit-learn.org/stable/modules/linear_model.html#logistic-regression\n",
      "  n_iter_i = _check_optimize_result(\n",
      "/Users/elijahflomen/miniforge3/lib/python3.9/site-packages/sklearn/linear_model/_logistic.py:814: ConvergenceWarning: lbfgs failed to converge (status=1):\n",
      "STOP: TOTAL NO. of ITERATIONS REACHED LIMIT.\n",
      "\n",
      "Increase the number of iterations (max_iter) or scale the data as shown in:\n",
      "    https://scikit-learn.org/stable/modules/preprocessing.html\n",
      "Please also refer to the documentation for alternative solver options:\n",
      "    https://scikit-learn.org/stable/modules/linear_model.html#logistic-regression\n",
      "  n_iter_i = _check_optimize_result(\n",
      "/Users/elijahflomen/miniforge3/lib/python3.9/site-packages/sklearn/linear_model/_logistic.py:814: ConvergenceWarning: lbfgs failed to converge (status=1):\n",
      "STOP: TOTAL NO. of ITERATIONS REACHED LIMIT.\n",
      "\n",
      "Increase the number of iterations (max_iter) or scale the data as shown in:\n",
      "    https://scikit-learn.org/stable/modules/preprocessing.html\n",
      "Please also refer to the documentation for alternative solver options:\n",
      "    https://scikit-learn.org/stable/modules/linear_model.html#logistic-regression\n",
      "  n_iter_i = _check_optimize_result(\n"
     ]
    },
    {
     "name": "stdout",
     "output_type": "stream",
     "text": [
      "Mean AUC from 5-fold CV:  0.6475106011174941\n",
      "Mean AP from 5-fold CV:  0.6317628560361946\n"
     ]
    },
    {
     "name": "stderr",
     "output_type": "stream",
     "text": [
      "/Users/elijahflomen/miniforge3/lib/python3.9/site-packages/sklearn/linear_model/_logistic.py:814: ConvergenceWarning: lbfgs failed to converge (status=1):\n",
      "STOP: TOTAL NO. of ITERATIONS REACHED LIMIT.\n",
      "\n",
      "Increase the number of iterations (max_iter) or scale the data as shown in:\n",
      "    https://scikit-learn.org/stable/modules/preprocessing.html\n",
      "Please also refer to the documentation for alternative solver options:\n",
      "    https://scikit-learn.org/stable/modules/linear_model.html#logistic-regression\n",
      "  n_iter_i = _check_optimize_result(\n"
     ]
    }
   ],
   "source": [
    "# Random Over Sampling\n",
    "scores = cross_validate(LogisticRegression(), dev_ROS_X, dev_ROS_Y, cv=5, scoring=['roc_auc', 'average_precision'])\n",
    "print(\"Mean AUC from 5-fold CV: \", scores['test_roc_auc'].mean())\n",
    "print(\"Mean AP from 5-fold CV: \", scores['test_average_precision'].mean())"
   ]
  },
  {
   "cell_type": "code",
   "execution_count": 458,
   "metadata": {},
   "outputs": [
    {
     "name": "stderr",
     "output_type": "stream",
     "text": [
      "/Users/elijahflomen/miniforge3/lib/python3.9/site-packages/sklearn/linear_model/_logistic.py:814: ConvergenceWarning: lbfgs failed to converge (status=1):\n",
      "STOP: TOTAL NO. of ITERATIONS REACHED LIMIT.\n",
      "\n",
      "Increase the number of iterations (max_iter) or scale the data as shown in:\n",
      "    https://scikit-learn.org/stable/modules/preprocessing.html\n",
      "Please also refer to the documentation for alternative solver options:\n",
      "    https://scikit-learn.org/stable/modules/linear_model.html#logistic-regression\n",
      "  n_iter_i = _check_optimize_result(\n",
      "/Users/elijahflomen/miniforge3/lib/python3.9/site-packages/sklearn/linear_model/_logistic.py:814: ConvergenceWarning: lbfgs failed to converge (status=1):\n",
      "STOP: TOTAL NO. of ITERATIONS REACHED LIMIT.\n",
      "\n",
      "Increase the number of iterations (max_iter) or scale the data as shown in:\n",
      "    https://scikit-learn.org/stable/modules/preprocessing.html\n",
      "Please also refer to the documentation for alternative solver options:\n",
      "    https://scikit-learn.org/stable/modules/linear_model.html#logistic-regression\n",
      "  n_iter_i = _check_optimize_result(\n",
      "/Users/elijahflomen/miniforge3/lib/python3.9/site-packages/sklearn/linear_model/_logistic.py:814: ConvergenceWarning: lbfgs failed to converge (status=1):\n",
      "STOP: TOTAL NO. of ITERATIONS REACHED LIMIT.\n",
      "\n",
      "Increase the number of iterations (max_iter) or scale the data as shown in:\n",
      "    https://scikit-learn.org/stable/modules/preprocessing.html\n",
      "Please also refer to the documentation for alternative solver options:\n",
      "    https://scikit-learn.org/stable/modules/linear_model.html#logistic-regression\n",
      "  n_iter_i = _check_optimize_result(\n"
     ]
    },
    {
     "name": "stdout",
     "output_type": "stream",
     "text": [
      "Mean AUC from 5-fold CV (Random Undersampling):  0.6437257416113293\n",
      "Mean AP from 5-fold CV: (Random Undersampling) 0.17764460914303376\n"
     ]
    },
    {
     "name": "stderr",
     "output_type": "stream",
     "text": [
      "/Users/elijahflomen/miniforge3/lib/python3.9/site-packages/sklearn/linear_model/_logistic.py:814: ConvergenceWarning: lbfgs failed to converge (status=1):\n",
      "STOP: TOTAL NO. of ITERATIONS REACHED LIMIT.\n",
      "\n",
      "Increase the number of iterations (max_iter) or scale the data as shown in:\n",
      "    https://scikit-learn.org/stable/modules/preprocessing.html\n",
      "Please also refer to the documentation for alternative solver options:\n",
      "    https://scikit-learn.org/stable/modules/linear_model.html#logistic-regression\n",
      "  n_iter_i = _check_optimize_result(\n",
      "/Users/elijahflomen/miniforge3/lib/python3.9/site-packages/sklearn/linear_model/_logistic.py:814: ConvergenceWarning: lbfgs failed to converge (status=1):\n",
      "STOP: TOTAL NO. of ITERATIONS REACHED LIMIT.\n",
      "\n",
      "Increase the number of iterations (max_iter) or scale the data as shown in:\n",
      "    https://scikit-learn.org/stable/modules/preprocessing.html\n",
      "Please also refer to the documentation for alternative solver options:\n",
      "    https://scikit-learn.org/stable/modules/linear_model.html#logistic-regression\n",
      "  n_iter_i = _check_optimize_result(\n"
     ]
    }
   ],
   "source": [
    "# Undersampling\n",
    "rus = RandomUnderSampler(replacement=False, random_state=42)\n",
    "pipe = imb_make_pipeline(rus, LogisticRegression())\n",
    "scores = cross_validate(pipe, dev_X, dev_Y, cv=5, scoring=['roc_auc', 'average_precision'])\n",
    "print(\"Mean AUC from 5-fold CV (Random Undersampling): \", scores['test_roc_auc'].mean())\n",
    "print(\"Mean AP from 5-fold CV: (Random Undersampling)\", scores['test_average_precision'].mean())"
   ]
  },
  {
   "cell_type": "code",
   "execution_count": 429,
   "metadata": {},
   "outputs": [
    {
     "name": "stdout",
     "output_type": "stream",
     "text": [
      "Mean AUC from 5-fold CV:  0.9240873434900909\n",
      "Mean AP from 5-fold CV:  0.8707854874984241\n"
     ]
    }
   ],
   "source": [
    "scores = cross_validate(RandomForestClassifier(), dev_ROS_X, dev_ROS_Y, cv=5, scoring=['roc_auc', 'average_precision'])\n",
    "print(\"Mean AUC from 5-fold CV: \", scores['test_roc_auc'].mean())\n",
    "print(\"Mean AP from 5-fold CV: \", scores['test_average_precision'].mean())\n"
   ]
  },
  {
   "cell_type": "code",
   "execution_count": 459,
   "metadata": {},
   "outputs": [
    {
     "name": "stdout",
     "output_type": "stream",
     "text": [
      "Mean AUC from 5-fold CV:  0.9460200124680652\n",
      "Mean AP from 5-fold CV:  0.9544591574844354\n"
     ]
    }
   ],
   "source": [
    "scores = cross_validate(XGBClassifier(), dev_SMOTE_X, dev_SMOTE_Y, cv=5, scoring=['roc_auc', 'average_precision'])\n",
    "print(\"Mean AUC from 5-fold CV: \", scores['test_roc_auc'].mean())\n",
    "print(\"Mean AP from 5-fold CV: \", scores['test_average_precision'].mean())"
   ]
  },
  {
   "cell_type": "markdown",
   "metadata": {},
   "source": [
    "It must be noted that in all of these metrics, we are performing training and validation on datasets that have already been resampled. We wanted to use this technique to simply illustrate why oversampling with XGBoost will likely yield the best ROC AUC, yet we understand that this metric is not entirely useful unless it is calculated on the test set. We expect a significant dropoff when done on the test set due to it being imbalanced and different."
   ]
  },
  {
   "cell_type": "code",
   "execution_count": 460,
   "metadata": {},
   "outputs": [
    {
     "name": "stdout",
     "output_type": "stream",
     "text": [
      "Fitting 5 folds for each of 10 candidates, totalling 50 fits\n",
      "[CV 1/5] END learning_rate=0.04344484664175343, max_depth=4, n_estimators=375;, score=0.716 total time=   4.0s\n",
      "[CV 2/5] END learning_rate=0.04344484664175343, max_depth=4, n_estimators=375;, score=0.707 total time=   3.9s\n",
      "[CV 3/5] END learning_rate=0.04344484664175343, max_depth=4, n_estimators=375;, score=0.709 total time=   4.0s\n",
      "[CV 4/5] END learning_rate=0.04344484664175343, max_depth=4, n_estimators=375;, score=0.714 total time=   4.0s\n",
      "[CV 5/5] END learning_rate=0.04344484664175343, max_depth=4, n_estimators=375;, score=0.718 total time=   4.4s\n",
      "[CV 1/5] END learning_rate=0.04344484664175343, max_depth=4, n_estimators=131;, score=0.677 total time=   1.5s\n",
      "[CV 2/5] END learning_rate=0.04344484664175343, max_depth=4, n_estimators=131;, score=0.669 total time=   1.6s\n",
      "[CV 3/5] END learning_rate=0.04344484664175343, max_depth=4, n_estimators=131;, score=0.671 total time=   1.5s\n",
      "[CV 4/5] END learning_rate=0.04344484664175343, max_depth=4, n_estimators=131;, score=0.676 total time=   1.5s\n",
      "[CV 5/5] END learning_rate=0.04344484664175343, max_depth=4, n_estimators=131;, score=0.674 total time=   1.5s\n",
      "[CV 1/5] END learning_rate=0.2846106014025133, max_depth=9, n_estimators=122;, score=0.874 total time=   3.1s\n",
      "[CV 2/5] END learning_rate=0.2846106014025133, max_depth=9, n_estimators=122;, score=0.874 total time=   3.0s\n",
      "[CV 3/5] END learning_rate=0.2846106014025133, max_depth=9, n_estimators=122;, score=0.873 total time=   3.1s\n",
      "[CV 4/5] END learning_rate=0.2846106014025133, max_depth=9, n_estimators=122;, score=0.869 total time=   3.2s\n",
      "[CV 5/5] END learning_rate=0.2846106014025133, max_depth=9, n_estimators=122;, score=0.878 total time=   3.3s\n",
      "[CV 1/5] END learning_rate=0.0773425496793448, max_depth=4, n_estimators=107;, score=0.689 total time=   1.6s\n",
      "[CV 2/5] END learning_rate=0.0773425496793448, max_depth=4, n_estimators=107;, score=0.679 total time=   1.7s\n",
      "[CV 3/5] END learning_rate=0.0773425496793448, max_depth=4, n_estimators=107;, score=0.684 total time=   1.5s\n",
      "[CV 4/5] END learning_rate=0.0773425496793448, max_depth=4, n_estimators=107;, score=0.685 total time=   1.2s\n",
      "[CV 5/5] END learning_rate=0.0773425496793448, max_depth=4, n_estimators=107;, score=0.685 total time=   1.7s\n",
      "[CV 1/5] END learning_rate=0.0773425496793448, max_depth=5, n_estimators=122;, score=0.722 total time=   1.9s\n",
      "[CV 2/5] END learning_rate=0.0773425496793448, max_depth=5, n_estimators=122;, score=0.713 total time=   1.7s\n",
      "[CV 3/5] END learning_rate=0.0773425496793448, max_depth=5, n_estimators=122;, score=0.716 total time=   2.2s\n",
      "[CV 4/5] END learning_rate=0.0773425496793448, max_depth=5, n_estimators=122;, score=0.721 total time=   1.8s\n",
      "[CV 5/5] END learning_rate=0.0773425496793448, max_depth=5, n_estimators=122;, score=0.721 total time=   1.6s\n",
      "[CV 1/5] END learning_rate=0.07580324444125235, max_depth=5, n_estimators=107;, score=0.717 total time=   1.5s\n",
      "[CV 2/5] END learning_rate=0.07580324444125235, max_depth=5, n_estimators=107;, score=0.706 total time=   1.5s\n",
      "[CV 3/5] END learning_rate=0.07580324444125235, max_depth=5, n_estimators=107;, score=0.710 total time=   1.5s\n",
      "[CV 4/5] END learning_rate=0.07580324444125235, max_depth=5, n_estimators=107;, score=0.716 total time=   1.5s\n",
      "[CV 5/5] END learning_rate=0.07580324444125235, max_depth=5, n_estimators=107;, score=0.715 total time=   1.5s\n",
      "[CV 1/5] END learning_rate=0.0773425496793448, max_depth=5, n_estimators=131;, score=0.726 total time=   1.9s\n",
      "[CV 2/5] END learning_rate=0.0773425496793448, max_depth=5, n_estimators=131;, score=0.716 total time=   1.8s\n",
      "[CV 3/5] END learning_rate=0.0773425496793448, max_depth=5, n_estimators=131;, score=0.720 total time=   1.9s\n",
      "[CV 4/5] END learning_rate=0.0773425496793448, max_depth=5, n_estimators=131;, score=0.725 total time=   1.8s\n",
      "[CV 5/5] END learning_rate=0.0773425496793448, max_depth=5, n_estimators=131;, score=0.725 total time=   1.8s\n",
      "[CV 1/5] END learning_rate=0.07580324444125235, max_depth=4, n_estimators=107;, score=0.685 total time=   1.2s\n",
      "[CV 2/5] END learning_rate=0.07580324444125235, max_depth=4, n_estimators=107;, score=0.680 total time=   1.3s\n",
      "[CV 3/5] END learning_rate=0.07580324444125235, max_depth=4, n_estimators=107;, score=0.683 total time=   1.1s\n",
      "[CV 4/5] END learning_rate=0.07580324444125235, max_depth=4, n_estimators=107;, score=0.686 total time=   1.2s\n",
      "[CV 5/5] END learning_rate=0.07580324444125235, max_depth=4, n_estimators=107;, score=0.684 total time=   1.2s\n",
      "[CV 1/5] END learning_rate=0.2846106014025133, max_depth=4, n_estimators=131;, score=0.751 total time=   1.6s\n",
      "[CV 2/5] END learning_rate=0.2846106014025133, max_depth=4, n_estimators=131;, score=0.757 total time=   1.8s\n",
      "[CV 3/5] END learning_rate=0.2846106014025133, max_depth=4, n_estimators=131;, score=0.745 total time=   1.4s\n",
      "[CV 4/5] END learning_rate=0.2846106014025133, max_depth=4, n_estimators=131;, score=0.764 total time=   1.4s\n",
      "[CV 5/5] END learning_rate=0.2846106014025133, max_depth=4, n_estimators=131;, score=0.757 total time=   1.4s\n",
      "[CV 1/5] END learning_rate=0.2846106014025133, max_depth=5, n_estimators=107;, score=0.786 total time=   1.4s\n",
      "[CV 2/5] END learning_rate=0.2846106014025133, max_depth=5, n_estimators=107;, score=0.778 total time=   1.7s\n",
      "[CV 3/5] END learning_rate=0.2846106014025133, max_depth=5, n_estimators=107;, score=0.780 total time=   1.7s\n",
      "[CV 4/5] END learning_rate=0.2846106014025133, max_depth=5, n_estimators=107;, score=0.788 total time=   1.6s\n",
      "[CV 5/5] END learning_rate=0.2846106014025133, max_depth=5, n_estimators=107;, score=0.786 total time=   1.5s\n",
      " Using a random search, the optimal parameters for the XG Boost Tree with Class Weights were found to be {'n_estimators': 122, 'max_depth': 9, 'learning_rate': 0.2846106014025133}, with a top val score of 0.8735075864158819\n"
     ]
    }
   ],
   "source": [
    "xg_boost_model = XGBClassifier(use_label_encoder=False, eval_metric=\"mlogloss\")\n",
    "\n",
    "xg_boost_grid_params = {'n_estimators': np.random.randint(100,400,4), \n",
    "                        'max_depth': np.random.randint(1,10,3), \n",
    "                        \"learning_rate\": np.random.uniform(0.01, 0.3, 4)\n",
    "}\n",
    "\n",
    "# # Fit the random search model\n",
    "grid = RandomizedSearchCV(estimator=xg_boost_model, param_distributions=xg_boost_grid_params, cv=5, scoring=\"average_precision\", verbose=5, n_iter=10)\n",
    "grid.fit(dev_ROS_X, dev_ROS_Y)\n",
    "print(f\" Using a random search, the optimal parameters for the XG Boost Tree with Class Weights were found to be {grid.best_params_}, with a top val score of {grid.best_score_}\")"
   ]
  },
  {
   "cell_type": "code",
   "execution_count": 462,
   "metadata": {},
   "outputs": [
    {
     "name": "stdout",
     "output_type": "stream",
     "text": [
      "Tuned Final model has ROC AUC value of:  0.5792361191107942\n",
      "Tuned Final model has AP value of:  0.13322880416767374\n"
     ]
    }
   ],
   "source": [
    "optimal_SMOTE_xg = XGBClassifier(n_estimators =230, max_depth=4, learning_rate=0.18820685685726501)\n",
    "optimal_SMOTE_xg.fit(dev_SMOTE_X, dev_SMOTE_Y)\n",
    "optimal_SMOTE_xg_preds = optimal_SMOTE_xg.predict(test_X)\n",
    "\n",
    "print(\"Tuned Final model has ROC AUC value of: \", roc_auc_score(test_Y, optimal_SMOTE_xg_preds))\n",
    "print(\"Tuned Final model has AP value of: \", average_precision_score(test_Y, optimal_SMOTE_xg_preds))"
   ]
  },
  {
   "cell_type": "code",
   "execution_count": 463,
   "metadata": {},
   "outputs": [
    {
     "name": "stdout",
     "output_type": "stream",
     "text": [
      "Final Model's confusion matrix:\n",
      "XGBoost SMOTE Conf. Matrix\n"
     ]
    },
    {
     "name": "stderr",
     "output_type": "stream",
     "text": [
      "/Users/elijahflomen/miniforge3/lib/python3.9/site-packages/sklearn/utils/deprecation.py:87: FutureWarning: Function plot_confusion_matrix is deprecated; Function `plot_confusion_matrix` is deprecated in 1.0 and will be removed in 1.2. Use one of the class methods: ConfusionMatrixDisplay.from_predictions or ConfusionMatrixDisplay.from_estimator.\n",
      "  warnings.warn(msg, category=FutureWarning)\n"
     ]
    },
    {
     "data": {
      "text/plain": [
       "<sklearn.metrics._plot.confusion_matrix.ConfusionMatrixDisplay at 0x16dd9d5b0>"
      ]
     },
     "execution_count": 463,
     "metadata": {},
     "output_type": "execute_result"
    },
    {
     "data": {
      "image/png": "[encoded data removed]",
      "text/plain": [
       "<Figure size 432x288 with 2 Axes>"
      ]
     },
     "metadata": {
      "needs_background": "light"
     },
     "output_type": "display_data"
    }
   ],
   "source": [
    "print(\"Final Model's confusion matrix:\")\n",
    "print(\"XGBoost SMOTE Conf. Matrix\")\n",
    "plot_confusion_matrix(optimal_SMOTE_xg, test_X, test_Y)"
   ]
  },
  {
   "cell_type": "code",
   "execution_count": 464,
   "metadata": {},
   "outputs": [
    {
     "name": "stdout",
     "output_type": "stream",
     "text": [
      "Feature Importance for XGBoost with Smote\n"
     ]
    },
    {
     "data": {
      "text/plain": [
       "<AxesSubplot:title={'center':'Feature importance'}, xlabel='F score', ylabel='Features'>"
      ]
     },
     "execution_count": 464,
     "metadata": {},
     "output_type": "execute_result"
    },
    {
     "data": {
      "image/png": "[encoded data removed]",
      "text/plain": [
       "<Figure size 432x288 with 1 Axes>"
      ]
     },
     "metadata": {
      "needs_background": "light"
     },
     "output_type": "display_data"
    }
   ],
   "source": [
    "print(\"Feature Importance for XGBoost with Smote\")\n",
    "plot_importance(optimal_SMOTE_xg)"
   ]
  },
  {
   "cell_type": "code",
   "execution_count": 465,
   "metadata": {},
   "outputs": [],
   "source": [
    "xg_pred_proba = optimal_SMOTE_xg.predict_proba(test_X)[:, 1]\n",
    "model_1_fpr, model_1_tpr, _ = roc_curve(test_Y, xg_pred_proba, pos_label=1)\n",
    "model_1_prec, model_1_recall, _ = precision_recall_curve(test_Y, xg_pred_proba)"
   ]
  },
  {
   "cell_type": "code",
   "execution_count": 467,
   "metadata": {},
   "outputs": [
    {
     "data": {
      "image/png": "[encoded data removed]",
      "text/plain": [
       "<Figure size 432x288 with 1 Axes>"
      ]
     },
     "metadata": {
      "needs_background": "light"
     },
     "output_type": "display_data"
    }
   ],
   "source": [
    "plt.plot(model_1_fpr, model_1_tpr, label=\"SMOTE\")\n",
    "plt.title(\"ROC Curve for XG Boost with SMOTE\")\n",
    "plt.legend()\n",
    "plt.show()"
   ]
  },
  {
   "cell_type": "code",
   "execution_count": 421,
   "metadata": {},
   "outputs": [
    {
     "data": {
      "text/plain": [
       "[<matplotlib.lines.Line2D at 0x17862c4c0>]"
      ]
     },
     "execution_count": 421,
     "metadata": {},
     "output_type": "execute_result"
    },
    {
     "data": {
      "image/png": "[encoded data removed]",
      "text/plain": [
       "<Figure size 432x288 with 1 Axes>"
      ]
     },
     "metadata": {
      "needs_background": "light"
     },
     "output_type": "display_data"
    }
   ],
   "source": [
    "plt.title(\"PR Curve for XGBoost with SMOTE\")\n",
    "plt.plot(model_1_recall, model_1_prec, label=\"No Sampling\")\n"
   ]
  },
  {
   "cell_type": "markdown",
   "metadata": {},
   "source": [
    "Now lets see if using class weights can improve the situation..."
   ]
  },
  {
   "cell_type": "code",
   "execution_count": 468,
   "metadata": {},
   "outputs": [
    {
     "name": "stdout",
     "output_type": "stream",
     "text": [
      "Fitting 5 folds for each of 10 candidates, totalling 50 fits\n",
      "[CV 1/5] END learning_rate=0.17542889950665783, max_depth=9, n_estimators=429, scale_pos_weight=99;, score=0.649 total time=   7.3s\n",
      "[CV 2/5] END learning_rate=0.17542889950665783, max_depth=9, n_estimators=429, scale_pos_weight=99;, score=0.644 total time=   7.3s\n",
      "[CV 3/5] END learning_rate=0.17542889950665783, max_depth=9, n_estimators=429, scale_pos_weight=99;, score=0.640 total time=   7.9s\n",
      "[CV 4/5] END learning_rate=0.17542889950665783, max_depth=9, n_estimators=429, scale_pos_weight=99;, score=0.649 total time=   8.3s\n",
      "[CV 5/5] END learning_rate=0.17542889950665783, max_depth=9, n_estimators=429, scale_pos_weight=99;, score=0.645 total time=   7.6s\n",
      "[CV 1/5] END learning_rate=0.17542889950665783, max_depth=2, n_estimators=464, scale_pos_weight=99;, score=0.639 total time=   1.7s\n",
      "[CV 2/5] END learning_rate=0.17542889950665783, max_depth=2, n_estimators=464, scale_pos_weight=99;, score=0.650 total time=   1.8s\n",
      "[CV 3/5] END learning_rate=0.17542889950665783, max_depth=2, n_estimators=464, scale_pos_weight=99;, score=0.627 total time=   1.7s\n",
      "[CV 4/5] END learning_rate=0.17542889950665783, max_depth=2, n_estimators=464, scale_pos_weight=99;, score=0.647 total time=   1.7s\n",
      "[CV 5/5] END learning_rate=0.17542889950665783, max_depth=2, n_estimators=464, scale_pos_weight=99;, score=0.634 total time=   1.7s\n",
      "[CV 1/5] END learning_rate=0.17542889950665783, max_depth=3, n_estimators=464, scale_pos_weight=99;, score=0.641 total time=   2.5s\n",
      "[CV 2/5] END learning_rate=0.17542889950665783, max_depth=3, n_estimators=464, scale_pos_weight=99;, score=0.652 total time=   2.4s\n",
      "[CV 3/5] END learning_rate=0.17542889950665783, max_depth=3, n_estimators=464, scale_pos_weight=99;, score=0.634 total time=   2.4s\n",
      "[CV 4/5] END learning_rate=0.17542889950665783, max_depth=3, n_estimators=464, scale_pos_weight=99;, score=0.650 total time=   2.4s\n",
      "[CV 5/5] END learning_rate=0.17542889950665783, max_depth=3, n_estimators=464, scale_pos_weight=99;, score=0.633 total time=   2.4s\n",
      "[CV 1/5] END learning_rate=0.07881012319058443, max_depth=3, n_estimators=179, scale_pos_weight=99;, score=0.646 total time=   1.0s\n",
      "[CV 2/5] END learning_rate=0.07881012319058443, max_depth=3, n_estimators=179, scale_pos_weight=99;, score=0.656 total time=   1.0s\n",
      "[CV 3/5] END learning_rate=0.07881012319058443, max_depth=3, n_estimators=179, scale_pos_weight=99;, score=0.643 total time=   1.0s\n",
      "[CV 4/5] END learning_rate=0.07881012319058443, max_depth=3, n_estimators=179, scale_pos_weight=99;, score=0.653 total time=   1.0s\n",
      "[CV 5/5] END learning_rate=0.07881012319058443, max_depth=3, n_estimators=179, scale_pos_weight=99;, score=0.637 total time=   1.1s\n",
      "[CV 1/5] END learning_rate=0.07881012319058443, max_depth=9, n_estimators=429, scale_pos_weight=99;, score=0.650 total time=   7.0s\n",
      "[CV 2/5] END learning_rate=0.07881012319058443, max_depth=9, n_estimators=429, scale_pos_weight=99;, score=0.645 total time=   6.7s\n",
      "[CV 3/5] END learning_rate=0.07881012319058443, max_depth=9, n_estimators=429, scale_pos_weight=99;, score=0.639 total time=   6.9s\n",
      "[CV 4/5] END learning_rate=0.07881012319058443, max_depth=9, n_estimators=429, scale_pos_weight=99;, score=0.650 total time=   7.1s\n",
      "[CV 5/5] END learning_rate=0.07881012319058443, max_depth=9, n_estimators=429, scale_pos_weight=99;, score=0.650 total time=   6.8s\n",
      "[CV 1/5] END learning_rate=0.17542889950665783, max_depth=2, n_estimators=179, scale_pos_weight=99;, score=0.635 total time=   0.7s\n",
      "[CV 2/5] END learning_rate=0.17542889950665783, max_depth=2, n_estimators=179, scale_pos_weight=99;, score=0.654 total time=   0.7s\n",
      "[CV 3/5] END learning_rate=0.17542889950665783, max_depth=2, n_estimators=179, scale_pos_weight=99;, score=0.638 total time=   0.6s\n",
      "[CV 4/5] END learning_rate=0.17542889950665783, max_depth=2, n_estimators=179, scale_pos_weight=99;, score=0.648 total time=   0.6s\n",
      "[CV 5/5] END learning_rate=0.17542889950665783, max_depth=2, n_estimators=179, scale_pos_weight=99;, score=0.632 total time=   0.6s\n",
      "[CV 1/5] END learning_rate=0.08806418529132115, max_depth=2, n_estimators=464, scale_pos_weight=99;, score=0.640 total time=   1.6s\n",
      "[CV 2/5] END learning_rate=0.08806418529132115, max_depth=2, n_estimators=464, scale_pos_weight=99;, score=0.657 total time=   1.6s\n",
      "[CV 3/5] END learning_rate=0.08806418529132115, max_depth=2, n_estimators=464, scale_pos_weight=99;, score=0.635 total time=   1.8s\n",
      "[CV 4/5] END learning_rate=0.08806418529132115, max_depth=2, n_estimators=464, scale_pos_weight=99;, score=0.648 total time=   1.7s\n",
      "[CV 5/5] END learning_rate=0.08806418529132115, max_depth=2, n_estimators=464, scale_pos_weight=99;, score=0.635 total time=   1.7s\n",
      "[CV 1/5] END learning_rate=0.0741970363191556, max_depth=9, n_estimators=405, scale_pos_weight=99;, score=0.649 total time=   6.7s\n",
      "[CV 2/5] END learning_rate=0.0741970363191556, max_depth=9, n_estimators=405, scale_pos_weight=99;, score=0.649 total time=   7.2s\n",
      "[CV 3/5] END learning_rate=0.0741970363191556, max_depth=9, n_estimators=405, scale_pos_weight=99;, score=0.639 total time=   7.3s\n",
      "[CV 4/5] END learning_rate=0.0741970363191556, max_depth=9, n_estimators=405, scale_pos_weight=99;, score=0.650 total time=   7.3s\n",
      "[CV 5/5] END learning_rate=0.0741970363191556, max_depth=9, n_estimators=405, scale_pos_weight=99;, score=0.650 total time=   7.2s\n",
      "[CV 1/5] END learning_rate=0.07881012319058443, max_depth=9, n_estimators=464, scale_pos_weight=99;, score=0.650 total time=   7.3s\n",
      "[CV 2/5] END learning_rate=0.07881012319058443, max_depth=9, n_estimators=464, scale_pos_weight=99;, score=0.645 total time=   8.3s\n",
      "[CV 3/5] END learning_rate=0.07881012319058443, max_depth=9, n_estimators=464, scale_pos_weight=99;, score=0.638 total time=   7.7s\n",
      "[CV 4/5] END learning_rate=0.07881012319058443, max_depth=9, n_estimators=464, scale_pos_weight=99;, score=0.650 total time=   7.8s\n",
      "[CV 5/5] END learning_rate=0.07881012319058443, max_depth=9, n_estimators=464, scale_pos_weight=99;, score=0.650 total time=   7.7s\n",
      "[CV 1/5] END learning_rate=0.08806418529132115, max_depth=2, n_estimators=429, scale_pos_weight=99;, score=0.638 total time=   1.5s\n",
      "[CV 2/5] END learning_rate=0.08806418529132115, max_depth=2, n_estimators=429, scale_pos_weight=99;, score=0.657 total time=   1.6s\n",
      "[CV 3/5] END learning_rate=0.08806418529132115, max_depth=2, n_estimators=429, scale_pos_weight=99;, score=0.634 total time=   1.6s\n",
      "[CV 4/5] END learning_rate=0.08806418529132115, max_depth=2, n_estimators=429, scale_pos_weight=99;, score=0.648 total time=   1.5s\n",
      "[CV 5/5] END learning_rate=0.08806418529132115, max_depth=2, n_estimators=429, scale_pos_weight=99;, score=0.634 total time=   1.7s\n",
      " Using a random search, the optimal parameters for the XG Boost Tree with Class Weights were found to be {'scale_pos_weight': 99, 'n_estimators': 405, 'max_depth': 9, 'learning_rate': 0.0741970363191556}, with a top val score of 0.6473078333198263\n"
     ]
    }
   ],
   "source": [
    "xg_boost_model = XGBClassifier(use_label_encoder=False, eval_metric=\"mlogloss\")\n",
    "\n",
    "xg_boost_grid_params = {'n_estimators': np.random.randint(100,600,4), \n",
    "                        'max_depth': np.random.randint(1,10,3), \n",
    "                        \"learning_rate\": np.random.uniform(0.01, 0.3, 4),\n",
    "                        \"scale_pos_weight\": [99]\n",
    "}\n",
    "\n",
    "# # Fit the random search model\n",
    "grid = RandomizedSearchCV(estimator=xg_boost_model, param_distributions=xg_boost_grid_params, cv=5, scoring=\"roc_auc\", verbose=5, n_iter=10)\n",
    "grid.fit(dev_X, dev_Y)\n",
    "print(f\" Using a random search, the optimal parameters for the XG Boost Tree with Class Weights were found to be {grid.best_params_}, with a top val score of {grid.best_score_}\")"
   ]
  },
  {
   "cell_type": "code",
   "execution_count": 470,
   "metadata": {},
   "outputs": [
    {
     "name": "stdout",
     "output_type": "stream",
     "text": [
      "Tuned Final model has ROC AUC value of:  0.6045742241522999\n",
      "Tuned Final model has AP value of:  0.13585643947008258\n"
     ]
    }
   ],
   "source": [
    "optimal_weighted_xg = XGBClassifier(n_estimators =405, max_depth=9, learning_rate=0.0741970363191556, scale_pos_weight=99)\n",
    "optimal_weighted_xg.fit(dev_X, dev_Y)\n",
    "optimal_weighted_xg_preds = optimal_weighted_xg.predict(test_X)\n",
    "\n",
    "print(\"Tuned Final model has ROC AUC value of: \", roc_auc_score(test_Y, optimal_weighted_xg_preds))\n",
    "print(\"Tuned Final model has AP value of: \", average_precision_score(test_Y, optimal_weighted_xg_preds))"
   ]
  },
  {
   "cell_type": "code",
   "execution_count": 448,
   "metadata": {},
   "outputs": [
    {
     "name": "stdout",
     "output_type": "stream",
     "text": [
      "Final Model's confusion matrix:\n",
      "XGBoost Weighted Conf. Matrix\n"
     ]
    },
    {
     "name": "stderr",
     "output_type": "stream",
     "text": [
      "/Users/elijahflomen/miniforge3/lib/python3.9/site-packages/sklearn/utils/deprecation.py:87: FutureWarning: Function plot_confusion_matrix is deprecated; Function `plot_confusion_matrix` is deprecated in 1.0 and will be removed in 1.2. Use one of the class methods: ConfusionMatrixDisplay.from_predictions or ConfusionMatrixDisplay.from_estimator.\n",
      "  warnings.warn(msg, category=FutureWarning)\n"
     ]
    },
    {
     "data": {
      "text/plain": [
       "<sklearn.metrics._plot.confusion_matrix.ConfusionMatrixDisplay at 0x17864bb50>"
      ]
     },
     "execution_count": 448,
     "metadata": {},
     "output_type": "execute_result"
    },
    {
     "data": {
      "image/png": "[encoded data removed]",
      "text/plain": [
       "<Figure size 432x288 with 2 Axes>"
      ]
     },
     "metadata": {
      "needs_background": "light"
     },
     "output_type": "display_data"
    }
   ],
   "source": [
    "print(\"Final Model's confusion matrix:\")\n",
    "print(\"XGBoost Weighted Conf. Matrix\")\n",
    "plot_confusion_matrix(optimal_weighted_xg, test_X, test_Y)"
   ]
  },
  {
   "cell_type": "code",
   "execution_count": 422,
   "metadata": {},
   "outputs": [
    {
     "name": "stdout",
     "output_type": "stream",
     "text": [
      "Feature Importance for XGBoost with weights\n"
     ]
    },
    {
     "data": {
      "text/plain": [
       "<AxesSubplot:title={'center':'Feature importance'}, xlabel='F score', ylabel='Features'>"
      ]
     },
     "execution_count": 422,
     "metadata": {},
     "output_type": "execute_result"
    },
    {
     "data": {
      "image/png": "[encoded data removed]",
      "text/plain": [
       "<Figure size 432x288 with 1 Axes>"
      ]
     },
     "metadata": {
      "needs_background": "light"
     },
     "output_type": "display_data"
    }
   ],
   "source": [
    "print(\"Feature Importance for XGBoost with weights\")\n",
    "plot_importance(optimal_weighted_xg)"
   ]
  },
  {
   "cell_type": "code",
   "execution_count": 475,
   "metadata": {},
   "outputs": [
    {
     "name": "stdout",
     "output_type": "stream",
     "text": [
      "Fitting 5 folds for each of 10 candidates, totalling 50 fits\n",
      "[CV 1/5] END .....max_depth=7, n_estimators=307;, score=0.648 total time=   4.4s\n",
      "[CV 2/5] END .....max_depth=7, n_estimators=307;, score=0.672 total time=   4.3s\n",
      "[CV 3/5] END .....max_depth=7, n_estimators=307;, score=0.652 total time=   4.4s\n",
      "[CV 4/5] END .....max_depth=7, n_estimators=307;, score=0.663 total time=   4.4s\n",
      "[CV 5/5] END .....max_depth=7, n_estimators=307;, score=0.647 total time=   4.4s\n",
      "[CV 1/5] END .....max_depth=9, n_estimators=307;, score=0.656 total time=   5.3s\n",
      "[CV 2/5] END .....max_depth=9, n_estimators=307;, score=0.673 total time=   5.5s\n",
      "[CV 3/5] END .....max_depth=9, n_estimators=307;, score=0.657 total time=   5.3s\n",
      "[CV 4/5] END .....max_depth=9, n_estimators=307;, score=0.664 total time=   8.3s\n",
      "[CV 5/5] END .....max_depth=9, n_estimators=307;, score=0.654 total time=   5.6s\n",
      "[CV 1/5] END .....max_depth=6, n_estimators=462;, score=0.642 total time=   5.8s\n",
      "[CV 2/5] END .....max_depth=6, n_estimators=462;, score=0.669 total time=   6.0s\n",
      "[CV 3/5] END .....max_depth=6, n_estimators=462;, score=0.651 total time=   6.0s\n",
      "[CV 4/5] END .....max_depth=6, n_estimators=462;, score=0.662 total time=   6.0s\n",
      "[CV 5/5] END .....max_depth=6, n_estimators=462;, score=0.643 total time=   5.8s\n",
      "[CV 1/5] END .....max_depth=9, n_estimators=355;, score=0.656 total time=   6.0s\n",
      "[CV 2/5] END .....max_depth=9, n_estimators=355;, score=0.674 total time=   6.4s\n",
      "[CV 3/5] END .....max_depth=9, n_estimators=355;, score=0.657 total time=   6.0s\n",
      "[CV 4/5] END .....max_depth=9, n_estimators=355;, score=0.664 total time=   6.3s\n",
      "[CV 5/5] END .....max_depth=9, n_estimators=355;, score=0.652 total time=   6.2s\n",
      "[CV 1/5] END .....max_depth=7, n_estimators=355;, score=0.646 total time=   5.0s\n",
      "[CV 2/5] END .....max_depth=7, n_estimators=355;, score=0.673 total time=   5.0s\n",
      "[CV 3/5] END .....max_depth=7, n_estimators=355;, score=0.654 total time=   5.0s\n",
      "[CV 4/5] END .....max_depth=7, n_estimators=355;, score=0.662 total time=   5.1s\n",
      "[CV 5/5] END .....max_depth=7, n_estimators=355;, score=0.646 total time=   5.1s\n",
      "[CV 1/5] END .....max_depth=6, n_estimators=355;, score=0.643 total time=   4.7s\n",
      "[CV 2/5] END .....max_depth=6, n_estimators=355;, score=0.670 total time=   4.5s\n",
      "[CV 3/5] END .....max_depth=6, n_estimators=355;, score=0.652 total time=   4.5s\n",
      "[CV 4/5] END .....max_depth=6, n_estimators=355;, score=0.661 total time=   4.5s\n",
      "[CV 5/5] END .....max_depth=6, n_estimators=355;, score=0.644 total time=   4.5s\n",
      "[CV 1/5] END .....max_depth=9, n_estimators=234;, score=0.655 total time=   4.0s\n",
      "[CV 2/5] END .....max_depth=9, n_estimators=234;, score=0.673 total time=   4.0s\n",
      "[CV 3/5] END .....max_depth=9, n_estimators=234;, score=0.656 total time=   4.0s\n",
      "[CV 4/5] END .....max_depth=9, n_estimators=234;, score=0.663 total time=   4.0s\n",
      "[CV 5/5] END .....max_depth=9, n_estimators=234;, score=0.652 total time=   4.7s\n",
      "[CV 1/5] END .....max_depth=6, n_estimators=307;, score=0.642 total time=   4.0s\n",
      "[CV 2/5] END .....max_depth=6, n_estimators=307;, score=0.670 total time=   4.2s\n",
      "[CV 3/5] END .....max_depth=6, n_estimators=307;, score=0.651 total time=   4.1s\n",
      "[CV 4/5] END .....max_depth=6, n_estimators=307;, score=0.662 total time=   3.9s\n",
      "[CV 5/5] END .....max_depth=6, n_estimators=307;, score=0.642 total time=   3.9s\n",
      "[CV 1/5] END .....max_depth=6, n_estimators=234;, score=0.643 total time=   3.1s\n",
      "[CV 2/5] END .....max_depth=6, n_estimators=234;, score=0.671 total time=   3.3s\n",
      "[CV 3/5] END .....max_depth=6, n_estimators=234;, score=0.652 total time=   3.0s\n",
      "[CV 4/5] END .....max_depth=6, n_estimators=234;, score=0.662 total time=   3.0s\n",
      "[CV 5/5] END .....max_depth=6, n_estimators=234;, score=0.642 total time=   3.0s\n",
      "[CV 1/5] END .....max_depth=7, n_estimators=234;, score=0.647 total time=   3.3s\n",
      "[CV 2/5] END .....max_depth=7, n_estimators=234;, score=0.671 total time=   3.3s\n",
      "[CV 3/5] END .....max_depth=7, n_estimators=234;, score=0.655 total time=   3.3s\n",
      "[CV 4/5] END .....max_depth=7, n_estimators=234;, score=0.662 total time=   3.3s\n",
      "[CV 5/5] END .....max_depth=7, n_estimators=234;, score=0.646 total time=   3.3s\n",
      " Using a random search, the optimal parameters for the XG Boost Tree with Class Weights were found to be {'n_estimators': 355, 'max_depth': 9}, with a top val score of 0.660699012103855\n"
     ]
    }
   ],
   "source": [
    "rf_model = RandomForestClassifier(class_weight=\"balanced\")\n",
    "\n",
    "xg_boost_grid_params = {'n_estimators': np.random.randint(100,600,4), \n",
    "                        'max_depth': np.random.randint(1,10,3)                       \n",
    "}\n",
    "\n",
    "# # Fit the random search model\n",
    "grid = RandomizedSearchCV(estimator=rf_model, param_distributions=xg_boost_grid_params, cv=5, scoring=\"roc_auc\", verbose=5, n_iter=10)\n",
    "grid.fit(dev_X, dev_Y)\n",
    "print(f\" Using a random search, the optimal parameters for the XG Boost Tree with Class Weights were found to be {grid.best_params_}, with a top val score of {grid.best_score_}\")"
   ]
  }
 ],
 "metadata": {
  "interpreter": {
   "hash": "e876919fc5c3e66711ba6d537c9b85fa7db18633fa5b08df3a2ed870f4a0b619"
  },
  "kernelspec": {
   "display_name": "Python 3.9.7",
   "language": "python",
   "name": "python3"
  },
  "language_info": {
   "codemirror_mode": {
    "name": "ipython",
    "version": 3
   },
   "file_extension": ".py",
   "mimetype": "text/x-python",
   "name": "python",
   "nbconvert_exporter": "python",
   "pygments_lexer": "ipython3",
   "version": "3.9.10"
  },
  "orig_nbformat": 4
 },
 "nbformat": 4,
 "nbformat_minor": 2
}
