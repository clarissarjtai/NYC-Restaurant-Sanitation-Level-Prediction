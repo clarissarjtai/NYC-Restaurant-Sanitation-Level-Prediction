{
 "cells": [
  {
   "cell_type": "markdown",
   "metadata": {},
   "source": [
    "# Model training"
   ]
  },
  {
   "cell_type": "code",
   "execution_count": 328,
   "metadata": {},
   "outputs": [],
   "source": [
    "import pandas as pd\n",
    "import numpy as np\n",
    "import seaborn as sn\n",
    "import matplotlib.pyplot as plt\n",
    "\n",
    "from category_encoders import TargetEncoder\n",
    "from sklearn.preprocessing import OneHotEncoder\n",
    "from sklearn.preprocessing import StandardScaler\n",
    "from sklearn.model_selection import train_test_split\n",
    "\n",
    "from xgboost import XGBRFRegressor\n",
    "from xgboost import XGBClassifier\n",
    "from xgboost import plot_importance\n",
    "\n",
    "from sklearn.metrics import accuracy_score\n",
    "from sklearn.metrics import confusion_matrix\n",
    "from sklearn.metrics import plot_confusion_matrix\n",
    "from sklearn.metrics import f1_score\n",
    "from sklearn.metrics import roc_auc_score\n",
    "\n",
    "from sklearn.ensemble import RandomForestClassifier\n",
    "\n",
    "from sklearn.model_selection import PredefinedSplit\n",
    "\n",
    "from sklearn.utils.class_weight import compute_sample_weight\n",
    "\n",
    "from sklearn.linear_model import LogisticRegression\n",
    "\n",
    "from sklearn.model_selection import cross_validate\n",
    "from sklearn.model_selection import RandomizedSearchCV\n",
    "from sklearn.model_selection import GridSearchCV\n",
    "\n",
    "from imblearn.over_sampling import SMOTE\n",
    "from imblearn.over_sampling import RandomOverSampler\n",
    "from imblearn.under_sampling import RandomUnderSampler\n",
    "\n",
    "from imblearn.pipeline import make_pipeline as imb_make_pipeline\n",
    "\n",
    "from sklearn.metrics import roc_curve\n",
    "from sklearn.metrics import precision_recall_curve"
   ]
  },
  {
   "cell_type": "code",
   "execution_count": 300,
   "metadata": {},
   "outputs": [
    {
     "data": {
      "text/html": [
       "<div>\n",
       "<style scoped>\n",
       "    .dataframe tbody tr th:only-of-type {\n",
       "        vertical-align: middle;\n",
       "    }\n",
       "\n",
       "    .dataframe tbody tr th {\n",
       "        vertical-align: top;\n",
       "    }\n",
       "\n",
       "    .dataframe thead th {\n",
       "        text-align: right;\n",
       "    }\n",
       "</style>\n",
       "<table border=\"1\" class=\"dataframe\">\n",
       "  <thead>\n",
       "    <tr style=\"text-align: right;\">\n",
       "      <th></th>\n",
       "      <th>Unnamed: 0</th>\n",
       "      <th>CAMIS</th>\n",
       "      <th>ZIPCODE</th>\n",
       "      <th>CUISINE DESCRIPTION</th>\n",
       "      <th>GRADE</th>\n",
       "      <th>ClosestWorkingTankDis</th>\n",
       "      <th>ClosestBadTankDis</th>\n",
       "      <th>BORO_Bronx</th>\n",
       "      <th>BORO_Brooklyn</th>\n",
       "      <th>BORO_Manhattan</th>\n",
       "      <th>...</th>\n",
       "      <th>BORO_Staten Island</th>\n",
       "      <th>RESULT</th>\n",
       "      <th>Pop</th>\n",
       "      <th>White</th>\n",
       "      <th>Black</th>\n",
       "      <th>Hispanic</th>\n",
       "      <th>Native</th>\n",
       "      <th>Asian</th>\n",
       "      <th>Inc</th>\n",
       "      <th>Unemp</th>\n",
       "    </tr>\n",
       "  </thead>\n",
       "  <tbody>\n",
       "    <tr>\n",
       "      <th>0</th>\n",
       "      <td>0</td>\n",
       "      <td>30112340</td>\n",
       "      <td>2.801389</td>\n",
       "      <td>2.913240</td>\n",
       "      <td>3.0</td>\n",
       "      <td>0.226460</td>\n",
       "      <td>4.392523</td>\n",
       "      <td>0.0</td>\n",
       "      <td>1.0</td>\n",
       "      <td>0.0</td>\n",
       "      <td>...</td>\n",
       "      <td>0.0</td>\n",
       "      <td>0.0</td>\n",
       "      <td>2501.0</td>\n",
       "      <td>12.2</td>\n",
       "      <td>63.2</td>\n",
       "      <td>18.4</td>\n",
       "      <td>2.4</td>\n",
       "      <td>1.6</td>\n",
       "      <td>35028.0</td>\n",
       "      <td>11.5</td>\n",
       "    </tr>\n",
       "    <tr>\n",
       "      <th>1</th>\n",
       "      <td>1</td>\n",
       "      <td>30191841</td>\n",
       "      <td>2.831125</td>\n",
       "      <td>2.814634</td>\n",
       "      <td>3.0</td>\n",
       "      <td>0.004614</td>\n",
       "      <td>1.120030</td>\n",
       "      <td>0.0</td>\n",
       "      <td>0.0</td>\n",
       "      <td>1.0</td>\n",
       "      <td>...</td>\n",
       "      <td>0.0</td>\n",
       "      <td>0.0</td>\n",
       "      <td>5195.0</td>\n",
       "      <td>72.9</td>\n",
       "      <td>3.6</td>\n",
       "      <td>8.4</td>\n",
       "      <td>0.0</td>\n",
       "      <td>12.3</td>\n",
       "      <td>141678.0</td>\n",
       "      <td>4.7</td>\n",
       "    </tr>\n",
       "    <tr>\n",
       "      <th>2</th>\n",
       "      <td>2</td>\n",
       "      <td>40356018</td>\n",
       "      <td>2.868895</td>\n",
       "      <td>2.834724</td>\n",
       "      <td>3.0</td>\n",
       "      <td>0.315359</td>\n",
       "      <td>9.367778</td>\n",
       "      <td>0.0</td>\n",
       "      <td>1.0</td>\n",
       "      <td>0.0</td>\n",
       "      <td>...</td>\n",
       "      <td>0.0</td>\n",
       "      <td>0.0</td>\n",
       "      <td>2185.0</td>\n",
       "      <td>38.0</td>\n",
       "      <td>2.2</td>\n",
       "      <td>40.8</td>\n",
       "      <td>0.0</td>\n",
       "      <td>19.1</td>\n",
       "      <td>20040.0</td>\n",
       "      <td>12.2</td>\n",
       "    </tr>\n",
       "    <tr>\n",
       "      <th>3</th>\n",
       "      <td>3</td>\n",
       "      <td>40356731</td>\n",
       "      <td>2.771028</td>\n",
       "      <td>2.896149</td>\n",
       "      <td>3.0</td>\n",
       "      <td>0.787235</td>\n",
       "      <td>6.038144</td>\n",
       "      <td>0.0</td>\n",
       "      <td>1.0</td>\n",
       "      <td>0.0</td>\n",
       "      <td>...</td>\n",
       "      <td>0.0</td>\n",
       "      <td>0.0</td>\n",
       "      <td>3627.0</td>\n",
       "      <td>2.6</td>\n",
       "      <td>81.3</td>\n",
       "      <td>12.5</td>\n",
       "      <td>0.0</td>\n",
       "      <td>3.6</td>\n",
       "      <td>19842.0</td>\n",
       "      <td>6.8</td>\n",
       "    </tr>\n",
       "    <tr>\n",
       "      <th>4</th>\n",
       "      <td>4</td>\n",
       "      <td>40357217</td>\n",
       "      <td>2.744246</td>\n",
       "      <td>2.834724</td>\n",
       "      <td>3.0</td>\n",
       "      <td>0.158258</td>\n",
       "      <td>6.767919</td>\n",
       "      <td>1.0</td>\n",
       "      <td>0.0</td>\n",
       "      <td>0.0</td>\n",
       "      <td>...</td>\n",
       "      <td>0.0</td>\n",
       "      <td>0.0</td>\n",
       "      <td>8433.0</td>\n",
       "      <td>5.1</td>\n",
       "      <td>22.8</td>\n",
       "      <td>70.8</td>\n",
       "      <td>0.0</td>\n",
       "      <td>0.0</td>\n",
       "      <td>12999.0</td>\n",
       "      <td>17.4</td>\n",
       "    </tr>\n",
       "  </tbody>\n",
       "</table>\n",
       "<p>5 rows × 21 columns</p>\n",
       "</div>"
      ],
      "text/plain": [
       "   Unnamed: 0     CAMIS   ZIPCODE  CUISINE DESCRIPTION  GRADE  \\\n",
       "0           0  30112340  2.801389             2.913240    3.0   \n",
       "1           1  30191841  2.831125             2.814634    3.0   \n",
       "2           2  40356018  2.868895             2.834724    3.0   \n",
       "3           3  40356731  2.771028             2.896149    3.0   \n",
       "4           4  40357217  2.744246             2.834724    3.0   \n",
       "\n",
       "   ClosestWorkingTankDis  ClosestBadTankDis  BORO_Bronx  BORO_Brooklyn  \\\n",
       "0               0.226460           4.392523         0.0            1.0   \n",
       "1               0.004614           1.120030         0.0            0.0   \n",
       "2               0.315359           9.367778         0.0            1.0   \n",
       "3               0.787235           6.038144         0.0            1.0   \n",
       "4               0.158258           6.767919         1.0            0.0   \n",
       "\n",
       "   BORO_Manhattan  ...  BORO_Staten Island  RESULT     Pop  White  Black  \\\n",
       "0             0.0  ...                 0.0     0.0  2501.0   12.2   63.2   \n",
       "1             1.0  ...                 0.0     0.0  5195.0   72.9    3.6   \n",
       "2             0.0  ...                 0.0     0.0  2185.0   38.0    2.2   \n",
       "3             0.0  ...                 0.0     0.0  3627.0    2.6   81.3   \n",
       "4             0.0  ...                 0.0     0.0  8433.0    5.1   22.8   \n",
       "\n",
       "   Hispanic  Native  Asian       Inc  Unemp  \n",
       "0      18.4     2.4    1.6   35028.0   11.5  \n",
       "1       8.4     0.0   12.3  141678.0    4.7  \n",
       "2      40.8     0.0   19.1   20040.0   12.2  \n",
       "3      12.5     0.0    3.6   19842.0    6.8  \n",
       "4      70.8     0.0    0.0   12999.0   17.4  \n",
       "\n",
       "[5 rows x 21 columns]"
      ]
     },
     "execution_count": 300,
     "metadata": {},
     "output_type": "execute_result"
    }
   ],
   "source": [
    "df_final = pd.read_csv(\"data_for_model.csv\")\n",
    "data = df_final.drop(columns=[\"Unnamed: 0\", \"CAMIS\", \"ClosestWorkingTankDis\", \"ClosestBadTankDis\"])\n",
    "df_final.head()"
   ]
  },
  {
   "cell_type": "markdown",
   "metadata": {},
   "source": [
    "### Convert To Binary Problem"
   ]
  },
  {
   "cell_type": "code",
   "execution_count": 301,
   "metadata": {},
   "outputs": [],
   "source": [
    "data.loc[data['GRADE'] == 1, 'GRADE'] = 1\n",
    "data.loc[data['GRADE'] == 2, \"GRADE\"] = 1\n",
    "data.loc[data['GRADE'] == 3, \"GRADE\"] = 0"
   ]
  },
  {
   "cell_type": "code",
   "execution_count": 302,
   "metadata": {},
   "outputs": [
    {
     "name": "stdout",
     "output_type": "stream",
     "text": [
      "FAILING RESTAURANTS 4990.663870246085\n",
      "PASSING RESTAURANTS 4754.9435549186965\n"
     ]
    }
   ],
   "source": [
    "print(\"FAILING RESTAURANTS\", data.loc[data['GRADE'] == 1][\"Pop\"].mean())\n",
    "print(\"PASSING RESTAURANTS\",data.loc[data['GRADE'] == 0][\"Pop\"].mean())"
   ]
  },
  {
   "cell_type": "markdown",
   "metadata": {},
   "source": [
    "### Train Test Split and Scaling"
   ]
  },
  {
   "cell_type": "code",
   "execution_count": 303,
   "metadata": {},
   "outputs": [
    {
     "data": {
      "text/html": [
       "<div>\n",
       "<style scoped>\n",
       "    .dataframe tbody tr th:only-of-type {\n",
       "        vertical-align: middle;\n",
       "    }\n",
       "\n",
       "    .dataframe tbody tr th {\n",
       "        vertical-align: top;\n",
       "    }\n",
       "\n",
       "    .dataframe thead th {\n",
       "        text-align: right;\n",
       "    }\n",
       "</style>\n",
       "<table border=\"1\" class=\"dataframe\">\n",
       "  <thead>\n",
       "    <tr style=\"text-align: right;\">\n",
       "      <th></th>\n",
       "      <th>ZIPCODE</th>\n",
       "      <th>CUISINE DESCRIPTION</th>\n",
       "      <th>BORO_Bronx</th>\n",
       "      <th>BORO_Brooklyn</th>\n",
       "      <th>BORO_Manhattan</th>\n",
       "      <th>BORO_Queens</th>\n",
       "      <th>BORO_Staten Island</th>\n",
       "      <th>RESULT</th>\n",
       "      <th>Pop</th>\n",
       "      <th>White</th>\n",
       "      <th>Black</th>\n",
       "      <th>Hispanic</th>\n",
       "      <th>Native</th>\n",
       "      <th>Asian</th>\n",
       "      <th>Inc</th>\n",
       "      <th>Unemp</th>\n",
       "    </tr>\n",
       "  </thead>\n",
       "  <tbody>\n",
       "    <tr>\n",
       "      <th>15118</th>\n",
       "      <td>2.683585</td>\n",
       "      <td>2.885072</td>\n",
       "      <td>0.0</td>\n",
       "      <td>0.0</td>\n",
       "      <td>1.0</td>\n",
       "      <td>0.0</td>\n",
       "      <td>0.0</td>\n",
       "      <td>0.0</td>\n",
       "      <td>-0.604044</td>\n",
       "      <td>0.354815</td>\n",
       "      <td>-0.024763</td>\n",
       "      <td>-0.625849</td>\n",
       "      <td>0.903908</td>\n",
       "      <td>0.107517</td>\n",
       "      <td>-1.087705</td>\n",
       "      <td>-0.187551</td>\n",
       "    </tr>\n",
       "    <tr>\n",
       "      <th>5574</th>\n",
       "      <td>2.784988</td>\n",
       "      <td>2.688088</td>\n",
       "      <td>0.0</td>\n",
       "      <td>0.0</td>\n",
       "      <td>1.0</td>\n",
       "      <td>0.0</td>\n",
       "      <td>0.0</td>\n",
       "      <td>0.0</td>\n",
       "      <td>-1.061239</td>\n",
       "      <td>0.047322</td>\n",
       "      <td>-0.501599</td>\n",
       "      <td>-0.914678</td>\n",
       "      <td>0.159945</td>\n",
       "      <td>1.763977</td>\n",
       "      <td>0.599620</td>\n",
       "      <td>-0.702372</td>\n",
       "    </tr>\n",
       "    <tr>\n",
       "      <th>2302</th>\n",
       "      <td>2.849024</td>\n",
       "      <td>2.675366</td>\n",
       "      <td>0.0</td>\n",
       "      <td>1.0</td>\n",
       "      <td>0.0</td>\n",
       "      <td>0.0</td>\n",
       "      <td>0.0</td>\n",
       "      <td>1.0</td>\n",
       "      <td>-0.430087</td>\n",
       "      <td>-0.181590</td>\n",
       "      <td>-0.501599</td>\n",
       "      <td>1.006475</td>\n",
       "      <td>0.159945</td>\n",
       "      <td>-0.500624</td>\n",
       "      <td>-0.319628</td>\n",
       "      <td>-0.428873</td>\n",
       "    </tr>\n",
       "    <tr>\n",
       "      <th>11164</th>\n",
       "      <td>2.823677</td>\n",
       "      <td>2.733296</td>\n",
       "      <td>0.0</td>\n",
       "      <td>0.0</td>\n",
       "      <td>1.0</td>\n",
       "      <td>0.0</td>\n",
       "      <td>0.0</td>\n",
       "      <td>0.0</td>\n",
       "      <td>0.580946</td>\n",
       "      <td>1.205546</td>\n",
       "      <td>-0.581072</td>\n",
       "      <td>-0.827154</td>\n",
       "      <td>-0.265176</td>\n",
       "      <td>-0.309494</td>\n",
       "      <td>1.265653</td>\n",
       "      <td>-0.332344</td>\n",
       "    </tr>\n",
       "    <tr>\n",
       "      <th>8746</th>\n",
       "      <td>2.752518</td>\n",
       "      <td>2.601703</td>\n",
       "      <td>0.0</td>\n",
       "      <td>1.0</td>\n",
       "      <td>0.0</td>\n",
       "      <td>0.0</td>\n",
       "      <td>0.0</td>\n",
       "      <td>0.0</td>\n",
       "      <td>-0.327497</td>\n",
       "      <td>0.064405</td>\n",
       "      <td>0.988513</td>\n",
       "      <td>-0.608344</td>\n",
       "      <td>0.266226</td>\n",
       "      <td>-0.674379</td>\n",
       "      <td>-0.107268</td>\n",
       "      <td>-0.026669</td>\n",
       "    </tr>\n",
       "  </tbody>\n",
       "</table>\n",
       "</div>"
      ],
      "text/plain": [
       "        ZIPCODE  CUISINE DESCRIPTION  BORO_Bronx  BORO_Brooklyn  \\\n",
       "15118  2.683585             2.885072         0.0            0.0   \n",
       "5574   2.784988             2.688088         0.0            0.0   \n",
       "2302   2.849024             2.675366         0.0            1.0   \n",
       "11164  2.823677             2.733296         0.0            0.0   \n",
       "8746   2.752518             2.601703         0.0            1.0   \n",
       "\n",
       "       BORO_Manhattan  BORO_Queens  BORO_Staten Island  RESULT       Pop  \\\n",
       "15118             1.0          0.0                 0.0     0.0 -0.604044   \n",
       "5574              1.0          0.0                 0.0     0.0 -1.061239   \n",
       "2302              0.0          0.0                 0.0     1.0 -0.430087   \n",
       "11164             1.0          0.0                 0.0     0.0  0.580946   \n",
       "8746              0.0          0.0                 0.0     0.0 -0.327497   \n",
       "\n",
       "          White     Black  Hispanic    Native     Asian       Inc     Unemp  \n",
       "15118  0.354815 -0.024763 -0.625849  0.903908  0.107517 -1.087705 -0.187551  \n",
       "5574   0.047322 -0.501599 -0.914678  0.159945  1.763977  0.599620 -0.702372  \n",
       "2302  -0.181590 -0.501599  1.006475  0.159945 -0.500624 -0.319628 -0.428873  \n",
       "11164  1.205546 -0.581072 -0.827154 -0.265176 -0.309494  1.265653 -0.332344  \n",
       "8746   0.064405  0.988513 -0.608344  0.266226 -0.674379 -0.107268 -0.026669  "
      ]
     },
     "execution_count": 303,
     "metadata": {},
     "output_type": "execute_result"
    }
   ],
   "source": [
    "dev, test = train_test_split(data, test_size=0.2, random_state=42, stratify=data[\"GRADE\"])\n",
    "train, val = train_test_split(dev, test_size = 0.2,  random_state=42)\n",
    "\n",
    "# train, val = train_test_split(dev, test_size=0.2, random_state=42)\n",
    "\n",
    "dev_Y = dev[\"GRADE\"].astype(int)\n",
    "train_Y = train[\"GRADE\"].astype(int)\n",
    "val_Y = val[\"GRADE\"].astype(int)\n",
    "test_Y = test[\"GRADE\"].astype(int)\n",
    "\n",
    "dev_X = dev.drop(columns=[\"GRADE\"])\n",
    "train_X = train.drop(columns=[\"GRADE\"])\n",
    "val_X = val.drop(columns=[\"GRADE\"])\n",
    "\n",
    "test_X = test.drop(columns=[\"GRADE\"])\n",
    "\n",
    "# scaling numerical_data\n",
    "scaler = StandardScaler()\n",
    "dev_X[[\"Pop\", \"White\", \"Hispanic\", \"Black\", \"Native\", \"Asian\", \"Inc\", \"Unemp\"]] = scaler.fit_transform(dev_X[[\"Pop\", \"White\", \"Hispanic\", \"Black\", \"Native\", \"Asian\", \"Inc\", \"Unemp\"]])\n",
    "train_X[[\"Pop\", \"White\", \"Hispanic\", \"Black\", \"Native\", \"Asian\", \"Inc\", \"Unemp\"]] = scaler.fit_transform(train_X[[\"Pop\", \"White\", \"Hispanic\", \"Black\", \"Native\", \"Asian\", \"Inc\", \"Unemp\"]])\n",
    "\n",
    "val_X[[\"Pop\", \"White\", \"Hispanic\", \"Black\", \"Native\", \"Asian\", \"Inc\", \"Unemp\"]] = scaler.transform(val_X[[\"Pop\", \"White\", \"Hispanic\", \"Black\", \"Native\", \"Asian\", \"Inc\", \"Unemp\"]])\n",
    "test_X[[\"Pop\", \"White\", \"Hispanic\", \"Black\", \"Native\", \"Asian\", \"Inc\", \"Unemp\"]] = scaler.transform(test_X[[\"Pop\", \"White\", \"Hispanic\", \"Black\", \"Native\", \"Asian\", \"Inc\", \"Unemp\"]])\n",
    "\n",
    "dev_X.head()"
   ]
  },
  {
   "cell_type": "markdown",
   "metadata": {},
   "source": [
    "### Baseline Model"
   ]
  },
  {
   "cell_type": "code",
   "execution_count": 304,
   "metadata": {},
   "outputs": [
    {
     "name": "stdout",
     "output_type": "stream",
     "text": [
      "ROC AUC from constant prediction model:  0.5\n",
      "Average Precision from constant prediction model:  0.47359102980230156\n"
     ]
    },
    {
     "data": {
      "text/plain": [
       "<AxesSubplot:>"
      ]
     },
     "execution_count": 304,
     "metadata": {},
     "output_type": "execute_result"
    },
    {
     "data": {
      "image/png": "[encoded data removed]",
      "text/plain": [
       "<Figure size 720x504 with 2 Axes>"
      ]
     },
     "metadata": {
      "needs_background": "light"
     },
     "output_type": "display_data"
    }
   ],
   "source": [
    "# Baseline model -- would just predict 3 everytime\n",
    "constant_pred = np.repeat(0, test.shape[0])\n",
    "base_acc = accuracy_score(constant_pred, test_Y)\n",
    "# base_roc_auc = roc_auc_score(constant_pred, test_Y)\n",
    "print(\"ROC AUC from constant prediction model: \", roc_auc_score(test_Y, constant_pred))\n",
    "print(\"Average Precision from constant prediction model: \", f1_score(test_Y, constant_pred, average=\"macro\"))\n",
    "\n",
    "base_conf = confusion_matrix(constant_pred, test_Y)\n",
    "\n",
    "plt.figure(figsize = (10,7))\n",
    "sn.heatmap(base_conf, annot=True,  fmt='g')\n"
   ]
  },
  {
   "cell_type": "markdown",
   "metadata": {},
   "source": [
    "### ROS"
   ]
  },
  {
   "cell_type": "code",
   "execution_count": 305,
   "metadata": {},
   "outputs": [],
   "source": [
    "# resampling or other feature engineering techniques\n",
    "ros = RandomOverSampler()\n",
    "train_ROS = ros.fit_resample(train_X, train_Y)\n",
    "train_ROS_X = train_ROS[0]\n",
    "train_ROS_Y = train_ROS[1]\n",
    "\n",
    "dev_ROS = ros.fit_resample(dev_X, dev_Y)\n",
    "dev_ROS_X = dev_ROS[0]\n",
    "dev_ROS_Y = dev_ROS[1]\n"
   ]
  },
  {
   "cell_type": "code",
   "execution_count": 306,
   "metadata": {},
   "outputs": [],
   "source": [
    "# resampling or other feature engineering techniques\n",
    "sm = SMOTE()\n",
    "train_SMOTE = sm.fit_resample(train_X, train_Y)\n",
    "train_SMOTE_X = train_SMOTE[0]\n",
    "train_SMOTE_Y = train_SMOTE[1]\n",
    "\n",
    "dev_SMOTE = sm.fit_resample(dev_X, dev_Y)\n",
    "dev_SMOTE_X = dev_SMOTE[0]\n",
    "dev_SMOTE_Y = dev_SMOTE[1]\n"
   ]
  },
  {
   "cell_type": "markdown",
   "metadata": {},
   "source": [
    "### Lets see how a baseline logistic regression model does on original and sampled data"
   ]
  },
  {
   "cell_type": "code",
   "execution_count": 307,
   "metadata": {},
   "outputs": [
    {
     "name": "stderr",
     "output_type": "stream",
     "text": [
      "/Users/elijahflomen/miniforge3/lib/python3.9/site-packages/sklearn/linear_model/_logistic.py:814: ConvergenceWarning: lbfgs failed to converge (status=1):\n",
      "STOP: TOTAL NO. of ITERATIONS REACHED LIMIT.\n",
      "\n",
      "Increase the number of iterations (max_iter) or scale the data as shown in:\n",
      "    https://scikit-learn.org/stable/modules/preprocessing.html\n",
      "Please also refer to the documentation for alternative solver options:\n",
      "    https://scikit-learn.org/stable/modules/linear_model.html#logistic-regression\n",
      "  n_iter_i = _check_optimize_result(\n",
      "/Users/elijahflomen/miniforge3/lib/python3.9/site-packages/sklearn/linear_model/_logistic.py:814: ConvergenceWarning: lbfgs failed to converge (status=1):\n",
      "STOP: TOTAL NO. of ITERATIONS REACHED LIMIT.\n",
      "\n",
      "Increase the number of iterations (max_iter) or scale the data as shown in:\n",
      "    https://scikit-learn.org/stable/modules/preprocessing.html\n",
      "Please also refer to the documentation for alternative solver options:\n",
      "    https://scikit-learn.org/stable/modules/linear_model.html#logistic-regression\n",
      "  n_iter_i = _check_optimize_result(\n",
      "/Users/elijahflomen/miniforge3/lib/python3.9/site-packages/sklearn/linear_model/_logistic.py:814: ConvergenceWarning: lbfgs failed to converge (status=1):\n",
      "STOP: TOTAL NO. of ITERATIONS REACHED LIMIT.\n",
      "\n",
      "Increase the number of iterations (max_iter) or scale the data as shown in:\n",
      "    https://scikit-learn.org/stable/modules/preprocessing.html\n",
      "Please also refer to the documentation for alternative solver options:\n",
      "    https://scikit-learn.org/stable/modules/linear_model.html#logistic-regression\n",
      "  n_iter_i = _check_optimize_result(\n"
     ]
    },
    {
     "name": "stdout",
     "output_type": "stream",
     "text": [
      "Mean AUC from 5-fold CV:  0.6502254177422567\n",
      "Mean AP from 5-fold CV:  0.17969719446857751\n"
     ]
    },
    {
     "name": "stderr",
     "output_type": "stream",
     "text": [
      "/Users/elijahflomen/miniforge3/lib/python3.9/site-packages/sklearn/linear_model/_logistic.py:814: ConvergenceWarning: lbfgs failed to converge (status=1):\n",
      "STOP: TOTAL NO. of ITERATIONS REACHED LIMIT.\n",
      "\n",
      "Increase the number of iterations (max_iter) or scale the data as shown in:\n",
      "    https://scikit-learn.org/stable/modules/preprocessing.html\n",
      "Please also refer to the documentation for alternative solver options:\n",
      "    https://scikit-learn.org/stable/modules/linear_model.html#logistic-regression\n",
      "  n_iter_i = _check_optimize_result(\n",
      "/Users/elijahflomen/miniforge3/lib/python3.9/site-packages/sklearn/linear_model/_logistic.py:814: ConvergenceWarning: lbfgs failed to converge (status=1):\n",
      "STOP: TOTAL NO. of ITERATIONS REACHED LIMIT.\n",
      "\n",
      "Increase the number of iterations (max_iter) or scale the data as shown in:\n",
      "    https://scikit-learn.org/stable/modules/preprocessing.html\n",
      "Please also refer to the documentation for alternative solver options:\n",
      "    https://scikit-learn.org/stable/modules/linear_model.html#logistic-regression\n",
      "  n_iter_i = _check_optimize_result(\n"
     ]
    }
   ],
   "source": [
    "# Original Data\n",
    "scores = cross_validate(LogisticRegression(), dev_X, dev_Y, cv=5, scoring=['roc_auc', 'average_precision'])\n",
    "print(\"Mean AUC from 5-fold CV: \", scores['test_roc_auc'].mean())\n",
    "print(\"Mean AP from 5-fold CV: \", scores['test_average_precision'].mean())"
   ]
  },
  {
   "cell_type": "code",
   "execution_count": 308,
   "metadata": {},
   "outputs": [
    {
     "name": "stderr",
     "output_type": "stream",
     "text": [
      "/Users/elijahflomen/miniforge3/lib/python3.9/site-packages/sklearn/linear_model/_logistic.py:814: ConvergenceWarning: lbfgs failed to converge (status=1):\n",
      "STOP: TOTAL NO. of ITERATIONS REACHED LIMIT.\n",
      "\n",
      "Increase the number of iterations (max_iter) or scale the data as shown in:\n",
      "    https://scikit-learn.org/stable/modules/preprocessing.html\n",
      "Please also refer to the documentation for alternative solver options:\n",
      "    https://scikit-learn.org/stable/modules/linear_model.html#logistic-regression\n",
      "  n_iter_i = _check_optimize_result(\n",
      "/Users/elijahflomen/miniforge3/lib/python3.9/site-packages/sklearn/linear_model/_logistic.py:814: ConvergenceWarning: lbfgs failed to converge (status=1):\n",
      "STOP: TOTAL NO. of ITERATIONS REACHED LIMIT.\n",
      "\n",
      "Increase the number of iterations (max_iter) or scale the data as shown in:\n",
      "    https://scikit-learn.org/stable/modules/preprocessing.html\n",
      "Please also refer to the documentation for alternative solver options:\n",
      "    https://scikit-learn.org/stable/modules/linear_model.html#logistic-regression\n",
      "  n_iter_i = _check_optimize_result(\n",
      "/Users/elijahflomen/miniforge3/lib/python3.9/site-packages/sklearn/linear_model/_logistic.py:814: ConvergenceWarning: lbfgs failed to converge (status=1):\n",
      "STOP: TOTAL NO. of ITERATIONS REACHED LIMIT.\n",
      "\n",
      "Increase the number of iterations (max_iter) or scale the data as shown in:\n",
      "    https://scikit-learn.org/stable/modules/preprocessing.html\n",
      "Please also refer to the documentation for alternative solver options:\n",
      "    https://scikit-learn.org/stable/modules/linear_model.html#logistic-regression\n",
      "  n_iter_i = _check_optimize_result(\n",
      "/Users/elijahflomen/miniforge3/lib/python3.9/site-packages/sklearn/linear_model/_logistic.py:814: ConvergenceWarning: lbfgs failed to converge (status=1):\n",
      "STOP: TOTAL NO. of ITERATIONS REACHED LIMIT.\n",
      "\n",
      "Increase the number of iterations (max_iter) or scale the data as shown in:\n",
      "    https://scikit-learn.org/stable/modules/preprocessing.html\n",
      "Please also refer to the documentation for alternative solver options:\n",
      "    https://scikit-learn.org/stable/modules/linear_model.html#logistic-regression\n",
      "  n_iter_i = _check_optimize_result(\n"
     ]
    },
    {
     "name": "stdout",
     "output_type": "stream",
     "text": [
      "Mean AUC from 5-fold CV:  0.6747163079458418\n",
      "Mean AP from 5-fold CV:  0.6443829291966253\n"
     ]
    },
    {
     "name": "stderr",
     "output_type": "stream",
     "text": [
      "/Users/elijahflomen/miniforge3/lib/python3.9/site-packages/sklearn/linear_model/_logistic.py:814: ConvergenceWarning: lbfgs failed to converge (status=1):\n",
      "STOP: TOTAL NO. of ITERATIONS REACHED LIMIT.\n",
      "\n",
      "Increase the number of iterations (max_iter) or scale the data as shown in:\n",
      "    https://scikit-learn.org/stable/modules/preprocessing.html\n",
      "Please also refer to the documentation for alternative solver options:\n",
      "    https://scikit-learn.org/stable/modules/linear_model.html#logistic-regression\n",
      "  n_iter_i = _check_optimize_result(\n"
     ]
    }
   ],
   "source": [
    "# SMOTE Data\n",
    "scores = cross_validate(LogisticRegression(), dev_SMOTE_X, dev_SMOTE_Y, cv=5, scoring=['roc_auc', 'average_precision'])\n",
    "print(\"Mean AUC from 5-fold CV: \", scores['test_roc_auc'].mean())\n",
    "print(\"Mean AP from 5-fold CV: \", scores['test_average_precision'].mean())"
   ]
  },
  {
   "cell_type": "code",
   "execution_count": 319,
   "metadata": {},
   "outputs": [
    {
     "name": "stderr",
     "output_type": "stream",
     "text": [
      "/Users/elijahflomen/miniforge3/lib/python3.9/site-packages/sklearn/linear_model/_logistic.py:814: ConvergenceWarning: lbfgs failed to converge (status=1):\n",
      "STOP: TOTAL NO. of ITERATIONS REACHED LIMIT.\n",
      "\n",
      "Increase the number of iterations (max_iter) or scale the data as shown in:\n",
      "    https://scikit-learn.org/stable/modules/preprocessing.html\n",
      "Please also refer to the documentation for alternative solver options:\n",
      "    https://scikit-learn.org/stable/modules/linear_model.html#logistic-regression\n",
      "  n_iter_i = _check_optimize_result(\n",
      "/Users/elijahflomen/miniforge3/lib/python3.9/site-packages/sklearn/linear_model/_logistic.py:814: ConvergenceWarning: lbfgs failed to converge (status=1):\n",
      "STOP: TOTAL NO. of ITERATIONS REACHED LIMIT.\n",
      "\n",
      "Increase the number of iterations (max_iter) or scale the data as shown in:\n",
      "    https://scikit-learn.org/stable/modules/preprocessing.html\n",
      "Please also refer to the documentation for alternative solver options:\n",
      "    https://scikit-learn.org/stable/modules/linear_model.html#logistic-regression\n",
      "  n_iter_i = _check_optimize_result(\n",
      "/Users/elijahflomen/miniforge3/lib/python3.9/site-packages/sklearn/linear_model/_logistic.py:814: ConvergenceWarning: lbfgs failed to converge (status=1):\n",
      "STOP: TOTAL NO. of ITERATIONS REACHED LIMIT.\n",
      "\n",
      "Increase the number of iterations (max_iter) or scale the data as shown in:\n",
      "    https://scikit-learn.org/stable/modules/preprocessing.html\n",
      "Please also refer to the documentation for alternative solver options:\n",
      "    https://scikit-learn.org/stable/modules/linear_model.html#logistic-regression\n",
      "  n_iter_i = _check_optimize_result(\n",
      "/Users/elijahflomen/miniforge3/lib/python3.9/site-packages/sklearn/linear_model/_logistic.py:814: ConvergenceWarning: lbfgs failed to converge (status=1):\n",
      "STOP: TOTAL NO. of ITERATIONS REACHED LIMIT.\n",
      "\n",
      "Increase the number of iterations (max_iter) or scale the data as shown in:\n",
      "    https://scikit-learn.org/stable/modules/preprocessing.html\n",
      "Please also refer to the documentation for alternative solver options:\n",
      "    https://scikit-learn.org/stable/modules/linear_model.html#logistic-regression\n",
      "  n_iter_i = _check_optimize_result(\n"
     ]
    },
    {
     "name": "stdout",
     "output_type": "stream",
     "text": [
      "Mean AUC from 5-fold CV:  0.6566044182650254\n",
      "Mean AP from 5-fold CV:  0.6467978843288896\n"
     ]
    },
    {
     "name": "stderr",
     "output_type": "stream",
     "text": [
      "/Users/elijahflomen/miniforge3/lib/python3.9/site-packages/sklearn/linear_model/_logistic.py:814: ConvergenceWarning: lbfgs failed to converge (status=1):\n",
      "STOP: TOTAL NO. of ITERATIONS REACHED LIMIT.\n",
      "\n",
      "Increase the number of iterations (max_iter) or scale the data as shown in:\n",
      "    https://scikit-learn.org/stable/modules/preprocessing.html\n",
      "Please also refer to the documentation for alternative solver options:\n",
      "    https://scikit-learn.org/stable/modules/linear_model.html#logistic-regression\n",
      "  n_iter_i = _check_optimize_result(\n"
     ]
    }
   ],
   "source": [
    "# Random Over Sampling\n",
    "scores = cross_validate(LogisticRegression(), dev_ROS_X, dev_ROS_Y, cv=5, scoring=['roc_auc', 'average_precision'])\n",
    "print(\"Mean AUC from 5-fold CV: \", scores['test_roc_auc'].mean())\n",
    "print(\"Mean AP from 5-fold CV: \", scores['test_average_precision'].mean())"
   ]
  },
  {
   "cell_type": "code",
   "execution_count": 337,
   "metadata": {},
   "outputs": [
    {
     "name": "stderr",
     "output_type": "stream",
     "text": [
      "/Users/elijahflomen/miniforge3/lib/python3.9/site-packages/sklearn/linear_model/_logistic.py:814: ConvergenceWarning: lbfgs failed to converge (status=1):\n",
      "STOP: TOTAL NO. of ITERATIONS REACHED LIMIT.\n",
      "\n",
      "Increase the number of iterations (max_iter) or scale the data as shown in:\n",
      "    https://scikit-learn.org/stable/modules/preprocessing.html\n",
      "Please also refer to the documentation for alternative solver options:\n",
      "    https://scikit-learn.org/stable/modules/linear_model.html#logistic-regression\n",
      "  n_iter_i = _check_optimize_result(\n",
      "/Users/elijahflomen/miniforge3/lib/python3.9/site-packages/sklearn/linear_model/_logistic.py:814: ConvergenceWarning: lbfgs failed to converge (status=1):\n",
      "STOP: TOTAL NO. of ITERATIONS REACHED LIMIT.\n",
      "\n",
      "Increase the number of iterations (max_iter) or scale the data as shown in:\n",
      "    https://scikit-learn.org/stable/modules/preprocessing.html\n",
      "Please also refer to the documentation for alternative solver options:\n",
      "    https://scikit-learn.org/stable/modules/linear_model.html#logistic-regression\n",
      "  n_iter_i = _check_optimize_result(\n"
     ]
    },
    {
     "name": "stdout",
     "output_type": "stream",
     "text": [
      "Mean AUC from 5-fold CV (Random Undersampling):  0.6432964043350099\n",
      "Mean AP from 5-fold CV: (Random Undersampling) 0.17587499410324642\n"
     ]
    },
    {
     "name": "stderr",
     "output_type": "stream",
     "text": [
      "/Users/elijahflomen/miniforge3/lib/python3.9/site-packages/sklearn/linear_model/_logistic.py:814: ConvergenceWarning: lbfgs failed to converge (status=1):\n",
      "STOP: TOTAL NO. of ITERATIONS REACHED LIMIT.\n",
      "\n",
      "Increase the number of iterations (max_iter) or scale the data as shown in:\n",
      "    https://scikit-learn.org/stable/modules/preprocessing.html\n",
      "Please also refer to the documentation for alternative solver options:\n",
      "    https://scikit-learn.org/stable/modules/linear_model.html#logistic-regression\n",
      "  n_iter_i = _check_optimize_result(\n",
      "/Users/elijahflomen/miniforge3/lib/python3.9/site-packages/sklearn/linear_model/_logistic.py:814: ConvergenceWarning: lbfgs failed to converge (status=1):\n",
      "STOP: TOTAL NO. of ITERATIONS REACHED LIMIT.\n",
      "\n",
      "Increase the number of iterations (max_iter) or scale the data as shown in:\n",
      "    https://scikit-learn.org/stable/modules/preprocessing.html\n",
      "Please also refer to the documentation for alternative solver options:\n",
      "    https://scikit-learn.org/stable/modules/linear_model.html#logistic-regression\n",
      "  n_iter_i = _check_optimize_result(\n",
      "/Users/elijahflomen/miniforge3/lib/python3.9/site-packages/sklearn/linear_model/_logistic.py:814: ConvergenceWarning: lbfgs failed to converge (status=1):\n",
      "STOP: TOTAL NO. of ITERATIONS REACHED LIMIT.\n",
      "\n",
      "Increase the number of iterations (max_iter) or scale the data as shown in:\n",
      "    https://scikit-learn.org/stable/modules/preprocessing.html\n",
      "Please also refer to the documentation for alternative solver options:\n",
      "    https://scikit-learn.org/stable/modules/linear_model.html#logistic-regression\n",
      "  n_iter_i = _check_optimize_result(\n"
     ]
    }
   ],
   "source": [
    "# Undersampling\n",
    "rus = RandomUnderSampler(replacement=False, random_state=42)\n",
    "pipe = imb_make_pipeline(rus, LogisticRegression())\n",
    "scores = cross_validate(pipe, dev_X, dev_Y, cv=5, scoring=['roc_auc', 'average_precision'])\n",
    "print(\"Mean AUC from 5-fold CV (Random Undersampling): \", scores['test_roc_auc'].mean())\n",
    "print(\"Mean AP from 5-fold CV: (Random Undersampling)\", scores['test_average_precision'].mean())"
   ]
  },
  {
   "cell_type": "code",
   "execution_count": 320,
   "metadata": {},
   "outputs": [
    {
     "name": "stdout",
     "output_type": "stream",
     "text": [
      "Mean AUC from 5-fold CV:  0.9366504025713042\n",
      "Mean AP from 5-fold CV:  0.9319373268209237\n"
     ]
    }
   ],
   "source": [
    "scores = cross_validate(RandomForestClassifier(), dev_SMOTE_X, dev_SMOTE_Y, cv=5, scoring=['roc_auc', 'average_precision'])\n",
    "print(\"Mean AUC from 5-fold CV: \", scores['test_roc_auc'].mean())\n",
    "print(\"Mean AP from 5-fold CV: \", scores['test_average_precision'].mean())"
   ]
  },
  {
   "cell_type": "code",
   "execution_count": 338,
   "metadata": {},
   "outputs": [
    {
     "name": "stdout",
     "output_type": "stream",
     "text": [
      "Mean AUC from 5-fold CV:  0.9566956415968445\n",
      "Mean AP from 5-fold CV:  0.9642917474528847\n"
     ]
    }
   ],
   "source": [
    "scores = cross_validate(XGBClassifier(), dev_SMOTE_X, dev_SMOTE_Y, cv=5, scoring=['roc_auc', 'average_precision'])\n",
    "print(\"Mean AUC from 5-fold CV: \", scores['test_roc_auc'].mean())\n",
    "print(\"Mean AP from 5-fold CV: \", scores['test_average_precision'].mean())"
   ]
  },
  {
   "cell_type": "code",
   "execution_count": 339,
   "metadata": {},
   "outputs": [
    {
     "name": "stdout",
     "output_type": "stream",
     "text": [
      "Fitting 5 folds for each of 10 candidates, totalling 50 fits\n",
      "[CV 1/5] END learning_rate=0.2579912021339521, max_depth=4, n_estimators=185;, score=0.810 total time=   1.1s\n",
      "[CV 2/5] END learning_rate=0.2579912021339521, max_depth=4, n_estimators=185;, score=0.986 total time=   1.3s\n",
      "[CV 3/5] END learning_rate=0.2579912021339521, max_depth=4, n_estimators=185;, score=0.988 total time=   1.1s\n",
      "[CV 4/5] END learning_rate=0.2579912021339521, max_depth=4, n_estimators=185;, score=0.987 total time=   1.2s\n",
      "[CV 5/5] END learning_rate=0.2579912021339521, max_depth=4, n_estimators=185;, score=0.988 total time=   1.2s\n",
      "[CV 1/5] END learning_rate=0.2579912021339521, max_depth=7, n_estimators=155;, score=0.836 total time=   1.6s\n",
      "[CV 2/5] END learning_rate=0.2579912021339521, max_depth=7, n_estimators=155;, score=0.992 total time=   1.6s\n",
      "[CV 3/5] END learning_rate=0.2579912021339521, max_depth=7, n_estimators=155;, score=0.993 total time=   1.6s\n",
      "[CV 4/5] END learning_rate=0.2579912021339521, max_depth=7, n_estimators=155;, score=0.994 total time=   1.6s\n",
      "[CV 5/5] END learning_rate=0.2579912021339521, max_depth=7, n_estimators=155;, score=0.993 total time=   1.7s\n",
      "[CV 1/5] END learning_rate=0.28702730511680136, max_depth=7, n_estimators=121;, score=0.831 total time=   1.3s\n",
      "[CV 2/5] END learning_rate=0.28702730511680136, max_depth=7, n_estimators=121;, score=0.992 total time=   1.4s\n",
      "[CV 3/5] END learning_rate=0.28702730511680136, max_depth=7, n_estimators=121;, score=0.993 total time=   1.3s\n",
      "[CV 4/5] END learning_rate=0.28702730511680136, max_depth=7, n_estimators=121;, score=0.993 total time=   1.2s\n",
      "[CV 5/5] END learning_rate=0.28702730511680136, max_depth=7, n_estimators=121;, score=0.992 total time=   1.2s\n",
      "[CV 1/5] END learning_rate=0.21628095826477028, max_depth=4, n_estimators=155;, score=0.808 total time=   0.9s\n",
      "[CV 2/5] END learning_rate=0.21628095826477028, max_depth=4, n_estimators=155;, score=0.983 total time=   0.9s\n",
      "[CV 3/5] END learning_rate=0.21628095826477028, max_depth=4, n_estimators=155;, score=0.980 total time=   0.9s\n",
      "[CV 4/5] END learning_rate=0.21628095826477028, max_depth=4, n_estimators=155;, score=0.982 total time=   1.0s\n",
      "[CV 5/5] END learning_rate=0.21628095826477028, max_depth=4, n_estimators=155;, score=0.981 total time=   0.9s\n",
      "[CV 1/5] END learning_rate=0.2579912021339521, max_depth=1, n_estimators=324;, score=0.726 total time=   0.7s\n",
      "[CV 2/5] END learning_rate=0.2579912021339521, max_depth=1, n_estimators=324;, score=0.851 total time=   0.6s\n",
      "[CV 3/5] END learning_rate=0.2579912021339521, max_depth=1, n_estimators=324;, score=0.862 total time=   0.6s\n",
      "[CV 4/5] END learning_rate=0.2579912021339521, max_depth=1, n_estimators=324;, score=0.854 total time=   0.6s\n",
      "[CV 5/5] END learning_rate=0.2579912021339521, max_depth=1, n_estimators=324;, score=0.854 total time=   0.6s\n",
      "[CV 1/5] END learning_rate=0.25580393680383773, max_depth=4, n_estimators=121;, score=0.800 total time=   0.8s\n",
      "[CV 2/5] END learning_rate=0.25580393680383773, max_depth=4, n_estimators=121;, score=0.981 total time=   0.8s\n",
      "[CV 3/5] END learning_rate=0.25580393680383773, max_depth=4, n_estimators=121;, score=0.981 total time=   1.9s\n",
      "[CV 4/5] END learning_rate=0.25580393680383773, max_depth=4, n_estimators=121;, score=0.981 total time=   0.8s\n",
      "[CV 5/5] END learning_rate=0.25580393680383773, max_depth=4, n_estimators=121;, score=0.982 total time=   0.9s\n",
      "[CV 1/5] END learning_rate=0.21628095826477028, max_depth=4, n_estimators=324;, score=0.816 total time=   2.5s\n",
      "[CV 2/5] END learning_rate=0.21628095826477028, max_depth=4, n_estimators=324;, score=0.990 total time=   2.6s\n",
      "[CV 3/5] END learning_rate=0.21628095826477028, max_depth=4, n_estimators=324;, score=0.990 total time=   2.3s\n",
      "[CV 4/5] END learning_rate=0.21628095826477028, max_depth=4, n_estimators=324;, score=0.991 total time=   3.3s\n",
      "[CV 5/5] END learning_rate=0.21628095826477028, max_depth=4, n_estimators=324;, score=0.990 total time=   2.8s\n",
      "[CV 1/5] END learning_rate=0.25580393680383773, max_depth=4, n_estimators=155;, score=0.807 total time=   1.2s\n",
      "[CV 2/5] END learning_rate=0.25580393680383773, max_depth=4, n_estimators=155;, score=0.985 total time=   0.9s\n",
      "[CV 3/5] END learning_rate=0.25580393680383773, max_depth=4, n_estimators=155;, score=0.985 total time=   0.9s\n",
      "[CV 4/5] END learning_rate=0.25580393680383773, max_depth=4, n_estimators=155;, score=0.985 total time=   0.9s\n",
      "[CV 5/5] END learning_rate=0.25580393680383773, max_depth=4, n_estimators=155;, score=0.986 total time=   1.0s\n",
      "[CV 1/5] END learning_rate=0.2579912021339521, max_depth=1, n_estimators=155;, score=0.718 total time=   0.3s\n",
      "[CV 2/5] END learning_rate=0.2579912021339521, max_depth=1, n_estimators=155;, score=0.815 total time=   0.3s\n",
      "[CV 3/5] END learning_rate=0.2579912021339521, max_depth=1, n_estimators=155;, score=0.832 total time=   0.3s\n",
      "[CV 4/5] END learning_rate=0.2579912021339521, max_depth=1, n_estimators=155;, score=0.817 total time=   0.3s\n",
      "[CV 5/5] END learning_rate=0.2579912021339521, max_depth=1, n_estimators=155;, score=0.824 total time=   0.4s\n",
      "[CV 1/5] END learning_rate=0.21628095826477028, max_depth=4, n_estimators=121;, score=0.801 total time=   0.7s\n",
      "[CV 2/5] END learning_rate=0.21628095826477028, max_depth=4, n_estimators=121;, score=0.979 total time=   0.7s\n",
      "[CV 3/5] END learning_rate=0.21628095826477028, max_depth=4, n_estimators=121;, score=0.976 total time=   0.8s\n",
      "[CV 4/5] END learning_rate=0.21628095826477028, max_depth=4, n_estimators=121;, score=0.978 total time=   0.8s\n",
      "[CV 5/5] END learning_rate=0.21628095826477028, max_depth=4, n_estimators=121;, score=0.975 total time=   0.7s\n",
      " Using a random search, the optimal parameters for the XG Boost Tree with Class Weights were found to be {'n_estimators': 155, 'max_depth': 7, 'learning_rate': 0.2579912021339521}, with a top val score of 0.9615947620763727\n"
     ]
    }
   ],
   "source": [
    "xg_boost_model = XGBClassifier(use_label_encoder=False, eval_metric=\"mlogloss\")\n",
    "\n",
    "xg_boost_grid_params = {'n_estimators': np.random.randint(100,400,4), \n",
    "                        'max_depth': np.random.randint(1,10,3), \n",
    "                        \"learning_rate\": np.random.uniform(0.01, 0.3, 4)\n",
    "}\n",
    "\n",
    "# # Fit the random search model\n",
    "grid = RandomizedSearchCV(estimator=xg_boost_model, param_distributions=xg_boost_grid_params, cv=5, scoring=\"roc_auc\", verbose=5, n_iter=10)\n",
    "grid.fit(dev_SMOTE_X, dev_SMOTE_Y)\n",
    "print(f\" Using a random search, the optimal parameters for the XG Boost Tree with Class Weights were found to be {grid.best_params_}, with a top val score of {grid.best_score_}\")"
   ]
  },
  {
   "cell_type": "code",
   "execution_count": 343,
   "metadata": {},
   "outputs": [
    {
     "name": "stdout",
     "output_type": "stream",
     "text": [
      "Tuned Final model has ROC AUC value of:  0.5588141109312728\n"
     ]
    }
   ],
   "source": [
    "optimal_SMOTE_xg = XGBClassifier(n_estimators =343, max_depth=7, learning_rate=0.078)\n",
    "optimal_SMOTE_xg.fit(dev_SMOTE_X, dev_SMOTE_Y)\n",
    "optimal_SMOTE_xg_preds = optimal_SMOTE_xg.predict(test_X)\n",
    "\n",
    "print(\"Tuned Final model has ROC AUC value of: \", roc_auc_score(test_Y, optimal_SMOTE_xg_preds))\n"
   ]
  },
  {
   "cell_type": "code",
   "execution_count": 332,
   "metadata": {},
   "outputs": [
    {
     "name": "stdout",
     "output_type": "stream",
     "text": [
      "Final Model's confusion matrix:\n"
     ]
    },
    {
     "name": "stderr",
     "output_type": "stream",
     "text": [
      "/Users/elijahflomen/miniforge3/lib/python3.9/site-packages/sklearn/utils/deprecation.py:87: FutureWarning: Function plot_confusion_matrix is deprecated; Function `plot_confusion_matrix` is deprecated in 1.0 and will be removed in 1.2. Use one of the class methods: ConfusionMatrixDisplay.from_predictions or ConfusionMatrixDisplay.from_estimator.\n",
      "  warnings.warn(msg, category=FutureWarning)\n"
     ]
    },
    {
     "data": {
      "text/plain": [
       "<sklearn.metrics._plot.confusion_matrix.ConfusionMatrixDisplay at 0x16bf87e50>"
      ]
     },
     "execution_count": 332,
     "metadata": {},
     "output_type": "execute_result"
    },
    {
     "data": {
      "image/png": "[encoded data removed]",
      "text/plain": [
       "<Figure size 432x288 with 2 Axes>"
      ]
     },
     "metadata": {
      "needs_background": "light"
     },
     "output_type": "display_data"
    }
   ],
   "source": [
    "print(\"Final Model's confusion matrix:\")\n",
    "plot_confusion_matrix(optimal_SMOTE_xg, test_X, test_Y)"
   ]
  },
  {
   "cell_type": "code",
   "execution_count": 340,
   "metadata": {},
   "outputs": [
    {
     "data": {
      "text/plain": [
       "<AxesSubplot:title={'center':'Feature importance'}, xlabel='F score', ylabel='Features'>"
      ]
     },
     "execution_count": 340,
     "metadata": {},
     "output_type": "execute_result"
    },
    {
     "data": {
      "image/png": "[encoded data removed]",
      "text/plain": [
       "<Figure size 432x288 with 1 Axes>"
      ]
     },
     "metadata": {
      "needs_background": "light"
     },
     "output_type": "display_data"
    }
   ],
   "source": [
    "plot_importance(optimal_SMOTE_xg)"
   ]
  },
  {
   "cell_type": "code",
   "execution_count": 333,
   "metadata": {},
   "outputs": [],
   "source": [
    "xg_pred_proba = optimal_SMOTE_xg.predict_proba(test_X)[:, 1]\n",
    "model_1_fpr, model_1_tpr, _ = roc_curve(test_Y, xg_pred_proba, pos_label=1)\n",
    "model_1_prec, model_1_recall, _ = precision_recall_curve(test_Y, xg_pred_proba)"
   ]
  },
  {
   "cell_type": "code",
   "execution_count": 344,
   "metadata": {},
   "outputs": [
    {
     "data": {
      "text/plain": [
       "[<matplotlib.lines.Line2D at 0x15f10f730>]"
      ]
     },
     "execution_count": 344,
     "metadata": {},
     "output_type": "execute_result"
    },
    {
     "data": {
      "image/png": "[encoded data removed]",
      "text/plain": [
       "<Figure size 432x288 with 1 Axes>"
      ]
     },
     "metadata": {
      "needs_background": "light"
     },
     "output_type": "display_data"
    }
   ],
   "source": [
    "plt.plot(model_1_fpr, model_1_tpr, label=\"No Sampling\")"
   ]
  },
  {
   "cell_type": "code",
   "execution_count": 336,
   "metadata": {},
   "outputs": [
    {
     "data": {
      "text/plain": [
       "[<matplotlib.lines.Line2D at 0x15efe7f70>]"
      ]
     },
     "execution_count": 336,
     "metadata": {},
     "output_type": "execute_result"
    },
    {
     "data": {
      "image/png": "[encoded data removed]",
      "text/plain": [
       "<Figure size 432x288 with 1 Axes>"
      ]
     },
     "metadata": {
      "needs_background": "light"
     },
     "output_type": "display_data"
    }
   ],
   "source": [
    "plt.plot(model_1_recall, model_1_prec, label=\"No Sampling\")\n"
   ]
  },
  {
   "cell_type": "code",
   "execution_count": 314,
   "metadata": {},
   "outputs": [
    {
     "name": "stdout",
     "output_type": "stream",
     "text": [
      "XGBoost F1 score (SMOTE) 0.3476822250639386\n"
     ]
    },
    {
     "name": "stderr",
     "output_type": "stream",
     "text": [
      "/Users/elijahflomen/miniforge3/lib/python3.9/site-packages/sklearn/utils/deprecation.py:87: FutureWarning: Function plot_confusion_matrix is deprecated; Function `plot_confusion_matrix` is deprecated in 1.0 and will be removed in 1.2. Use one of the class methods: ConfusionMatrixDisplay.from_predictions or ConfusionMatrixDisplay.from_estimator.\n",
      "  warnings.warn(msg, category=FutureWarning)\n"
     ]
    },
    {
     "data": {
      "text/plain": [
       "<AxesSubplot:title={'center':'Feature importance'}, xlabel='F score', ylabel='Features'>"
      ]
     },
     "execution_count": 314,
     "metadata": {},
     "output_type": "execute_result"
    },
    {
     "data": {
      "image/png": "[encoded data removed]",
      "text/plain": [
       "<Figure size 432x288 with 2 Axes>"
      ]
     },
     "metadata": {
      "needs_background": "light"
     },
     "output_type": "display_data"
    },
    {
     "data": {
      "image/png": "[encoded data removed]",
      "text/plain": [
       "<Figure size 432x288 with 1 Axes>"
      ]
     },
     "metadata": {
      "needs_background": "light"
     },
     "output_type": "display_data"
    }
   ],
   "source": [
    "xg_SMOTE = XGBClassifier(use_label_encoder=False)\n",
    "xg_SMOTE.fit(dev_SMOTE_X, dev_SMOTE_Y)\n",
    "xg_SMOTE_preds = xg_SMOTE.predict(test_X)\n",
    "\n",
    "plot_confusion_matrix(xg_SMOTE, test_X, test_Y)\n",
    "# print(\"XGBoost Multi Class ROC AUC score (SMOTE)\", myscore(xg_SMOTE, test_X, test_Y))\n",
    "print(\"XGBoost F1 score (SMOTE)\", f1_score(test_Y, xg_SMOTE_preds, average=\"macro\"))\n",
    "plot_importance(xg_SMOTE)"
   ]
  },
  {
   "cell_type": "code",
   "execution_count": 315,
   "metadata": {},
   "outputs": [
    {
     "name": "stdout",
     "output_type": "stream",
     "text": [
      "XGBoost F1 score (ROS) 0.5094089100372466\n"
     ]
    },
    {
     "name": "stderr",
     "output_type": "stream",
     "text": [
      "/Users/elijahflomen/miniforge3/lib/python3.9/site-packages/sklearn/utils/deprecation.py:87: FutureWarning: Function plot_confusion_matrix is deprecated; Function `plot_confusion_matrix` is deprecated in 1.0 and will be removed in 1.2. Use one of the class methods: ConfusionMatrixDisplay.from_predictions or ConfusionMatrixDisplay.from_estimator.\n",
      "  warnings.warn(msg, category=FutureWarning)\n"
     ]
    },
    {
     "data": {
      "image/png": "[encoded data removed]",
      "text/plain": [
       "<Figure size 432x288 with 2 Axes>"
      ]
     },
     "metadata": {
      "needs_background": "light"
     },
     "output_type": "display_data"
    }
   ],
   "source": [
    "xg_ROS = XGBClassifier(use_label_encoder=False)\n",
    "xg_ROS.fit(train_ROS_X, train_ROS_Y)\n",
    "xg_ROS_preds = xg_ROS.predict(test_X)\n",
    "\n",
    "plot_confusion_matrix(xg_ROS, test_X, test_Y)\n",
    "# print(\"XGBoost Multi Class ROC AUC score (ROS)\", myscore(xg_ROS, test_X, test_Y))\n",
    "print(\"XGBoost F1 score (ROS)\", f1_score(test_Y, xg_ROS_preds, average=\"macro\"))"
   ]
  },
  {
   "cell_type": "code",
   "execution_count": 316,
   "metadata": {},
   "outputs": [
    {
     "name": "stdout",
     "output_type": "stream",
     "text": [
      "XGBoost F1 score (Weighted) 0.5063175608346348\n"
     ]
    },
    {
     "name": "stderr",
     "output_type": "stream",
     "text": [
      "/Users/elijahflomen/miniforge3/lib/python3.9/site-packages/sklearn/utils/deprecation.py:87: FutureWarning: Function plot_confusion_matrix is deprecated; Function `plot_confusion_matrix` is deprecated in 1.0 and will be removed in 1.2. Use one of the class methods: ConfusionMatrixDisplay.from_predictions or ConfusionMatrixDisplay.from_estimator.\n",
      "  warnings.warn(msg, category=FutureWarning)\n"
     ]
    },
    {
     "data": {
      "text/plain": [
       "<sklearn.metrics._plot.confusion_matrix.ConfusionMatrixDisplay at 0x15d2fc130>"
      ]
     },
     "execution_count": 316,
     "metadata": {},
     "output_type": "execute_result"
    },
    {
     "data": {
      "image/png": "[encoded data removed]",
      "text/plain": [
       "<Figure size 432x288 with 2 Axes>"
      ]
     },
     "metadata": {
      "needs_background": "light"
     },
     "output_type": "display_data"
    }
   ],
   "source": [
    "# XG Boost with class weights\n",
    "from sklearn.utils import class_weight\n",
    "\n",
    "xg_weighted = XGBClassifier(use_label_encoder=False)\n",
    "classes_weights = class_weight.compute_sample_weight(\n",
    "    class_weight='balanced',\n",
    "    y=dev_Y\n",
    ")\n",
    "\n",
    "xg_weighted.fit(dev_X, dev_Y, sample_weight=classes_weights)\n",
    "xg_weighted_preds = xg_weighted.predict(test_X)\n",
    "print(\"XGBoost F1 score (Weighted)\", f1_score(test_Y, xg_weighted_preds, average=\"macro\"))\n",
    "\n",
    "plot_confusion_matrix(xg_weighted, test_X, test_Y)\n",
    "# print(\"XGBoost Multi Class ROC AUC score (Class-Weighted)\", myscore(xg_weighted, test_X, test_Y))\n"
   ]
  },
  {
   "cell_type": "code",
   "execution_count": 317,
   "metadata": {},
   "outputs": [
    {
     "name": "stdout",
     "output_type": "stream",
     "text": [
      "Fitting 5 folds for each of 10 candidates, totalling 50 fits\n",
      "[CV 1/5] END max_depth=8, min_samples_split=4, n_estimators=100;, score=0.761 total time=   1.4s\n",
      "[CV 2/5] END max_depth=8, min_samples_split=4, n_estimators=100;, score=0.850 total time=   1.4s\n",
      "[CV 3/5] END max_depth=8, min_samples_split=4, n_estimators=100;, score=0.870 total time=   1.4s\n",
      "[CV 4/5] END max_depth=8, min_samples_split=4, n_estimators=100;, score=0.853 total time=   1.4s\n",
      "[CV 5/5] END max_depth=8, min_samples_split=4, n_estimators=100;, score=0.862 total time=   1.3s\n",
      "[CV 1/5] END max_depth=6, min_samples_split=6, n_estimators=200;, score=0.736 total time=   2.2s\n",
      "[CV 2/5] END max_depth=6, min_samples_split=6, n_estimators=200;, score=0.807 total time=   2.2s\n",
      "[CV 3/5] END max_depth=6, min_samples_split=6, n_estimators=200;, score=0.828 total time=   2.2s\n",
      "[CV 4/5] END max_depth=6, min_samples_split=6, n_estimators=200;, score=0.810 total time=   2.1s\n",
      "[CV 5/5] END max_depth=6, min_samples_split=6, n_estimators=200;, score=0.821 total time=   2.1s\n",
      "[CV 1/5] END max_depth=6, min_samples_split=6, n_estimators=400;, score=0.734 total time=   4.5s\n",
      "[CV 2/5] END max_depth=6, min_samples_split=6, n_estimators=400;, score=0.805 total time=   4.3s\n",
      "[CV 3/5] END max_depth=6, min_samples_split=6, n_estimators=400;, score=0.826 total time=   4.3s\n"
     ]
    },
    {
     "ename": "KeyboardInterrupt",
     "evalue": "",
     "output_type": "error",
     "traceback": [
      "\u001b[0;31m---------------------------------------------------------------------------\u001b[0m",
      "\u001b[0;31mKeyboardInterrupt\u001b[0m                         Traceback (most recent call last)",
      "\u001b[1;32m/Users/elijahflomen/Desktop/Applied Machine Learning/final/AML_FinProj/census_model.ipynb Cell 25'\u001b[0m in \u001b[0;36m<cell line: 9>\u001b[0;34m()\u001b[0m\n\u001b[1;32m      <a href='vscode-notebook-cell:/Users/elijahflomen/Desktop/Applied%20Machine%20Learning/final/AML_FinProj/census_model.ipynb#ch0000021?line=6'>7</a>\u001b[0m \u001b[39m# # Fit the random search model\u001b[39;00m\n\u001b[1;32m      <a href='vscode-notebook-cell:/Users/elijahflomen/Desktop/Applied%20Machine%20Learning/final/AML_FinProj/census_model.ipynb#ch0000021?line=7'>8</a>\u001b[0m grid \u001b[39m=\u001b[39m RandomizedSearchCV(estimator\u001b[39m=\u001b[39mrf_model, param_distributions\u001b[39m=\u001b[39mrf_boost_grid_params, cv\u001b[39m=\u001b[39m\u001b[39m5\u001b[39m, scoring\u001b[39m=\u001b[39m\u001b[39m\"\u001b[39m\u001b[39mroc_auc\u001b[39m\u001b[39m\"\u001b[39m, verbose\u001b[39m=\u001b[39m\u001b[39m5\u001b[39m, n_iter\u001b[39m=\u001b[39m\u001b[39m10\u001b[39m)\n\u001b[0;32m----> <a href='vscode-notebook-cell:/Users/elijahflomen/Desktop/Applied%20Machine%20Learning/final/AML_FinProj/census_model.ipynb#ch0000021?line=8'>9</a>\u001b[0m grid\u001b[39m.\u001b[39;49mfit(dev_SMOTE_X, dev_SMOTE_Y)\n\u001b[1;32m     <a href='vscode-notebook-cell:/Users/elijahflomen/Desktop/Applied%20Machine%20Learning/final/AML_FinProj/census_model.ipynb#ch0000021?line=9'>10</a>\u001b[0m \u001b[39mprint\u001b[39m(\u001b[39mf\u001b[39m\u001b[39m\"\u001b[39m\u001b[39m Using a random search, the optimal parameters for the XG Boost Tree with SMOTE were found to be \u001b[39m\u001b[39m{\u001b[39;00mgrid\u001b[39m.\u001b[39mbest_params_\u001b[39m}\u001b[39;00m\u001b[39m, with a top val score of \u001b[39m\u001b[39m{\u001b[39;00mgrid\u001b[39m.\u001b[39mbest_score_\u001b[39m}\u001b[39;00m\u001b[39m\"\u001b[39m)\n",
      "File \u001b[0;32m~/miniforge3/lib/python3.9/site-packages/sklearn/model_selection/_search.py:891\u001b[0m, in \u001b[0;36mBaseSearchCV.fit\u001b[0;34m(self, X, y, groups, **fit_params)\u001b[0m\n\u001b[1;32m    <a href='file:///Users/elijahflomen/miniforge3/lib/python3.9/site-packages/sklearn/model_selection/_search.py?line=884'>885</a>\u001b[0m     results \u001b[39m=\u001b[39m \u001b[39mself\u001b[39m\u001b[39m.\u001b[39m_format_results(\n\u001b[1;32m    <a href='file:///Users/elijahflomen/miniforge3/lib/python3.9/site-packages/sklearn/model_selection/_search.py?line=885'>886</a>\u001b[0m         all_candidate_params, n_splits, all_out, all_more_results\n\u001b[1;32m    <a href='file:///Users/elijahflomen/miniforge3/lib/python3.9/site-packages/sklearn/model_selection/_search.py?line=886'>887</a>\u001b[0m     )\n\u001b[1;32m    <a href='file:///Users/elijahflomen/miniforge3/lib/python3.9/site-packages/sklearn/model_selection/_search.py?line=888'>889</a>\u001b[0m     \u001b[39mreturn\u001b[39;00m results\n\u001b[0;32m--> <a href='file:///Users/elijahflomen/miniforge3/lib/python3.9/site-packages/sklearn/model_selection/_search.py?line=890'>891</a>\u001b[0m \u001b[39mself\u001b[39;49m\u001b[39m.\u001b[39;49m_run_search(evaluate_candidates)\n\u001b[1;32m    <a href='file:///Users/elijahflomen/miniforge3/lib/python3.9/site-packages/sklearn/model_selection/_search.py?line=892'>893</a>\u001b[0m \u001b[39m# multimetric is determined here because in the case of a callable\u001b[39;00m\n\u001b[1;32m    <a href='file:///Users/elijahflomen/miniforge3/lib/python3.9/site-packages/sklearn/model_selection/_search.py?line=893'>894</a>\u001b[0m \u001b[39m# self.scoring the return type is only known after calling\u001b[39;00m\n\u001b[1;32m    <a href='file:///Users/elijahflomen/miniforge3/lib/python3.9/site-packages/sklearn/model_selection/_search.py?line=894'>895</a>\u001b[0m first_test_score \u001b[39m=\u001b[39m all_out[\u001b[39m0\u001b[39m][\u001b[39m\"\u001b[39m\u001b[39mtest_scores\u001b[39m\u001b[39m\"\u001b[39m]\n",
      "File \u001b[0;32m~/miniforge3/lib/python3.9/site-packages/sklearn/model_selection/_search.py:1766\u001b[0m, in \u001b[0;36mRandomizedSearchCV._run_search\u001b[0;34m(self, evaluate_candidates)\u001b[0m\n\u001b[1;32m   <a href='file:///Users/elijahflomen/miniforge3/lib/python3.9/site-packages/sklearn/model_selection/_search.py?line=1763'>1764</a>\u001b[0m \u001b[39mdef\u001b[39;00m \u001b[39m_run_search\u001b[39m(\u001b[39mself\u001b[39m, evaluate_candidates):\n\u001b[1;32m   <a href='file:///Users/elijahflomen/miniforge3/lib/python3.9/site-packages/sklearn/model_selection/_search.py?line=1764'>1765</a>\u001b[0m     \u001b[39m\"\"\"Search n_iter candidates from param_distributions\"\"\"\u001b[39;00m\n\u001b[0;32m-> <a href='file:///Users/elijahflomen/miniforge3/lib/python3.9/site-packages/sklearn/model_selection/_search.py?line=1765'>1766</a>\u001b[0m     evaluate_candidates(\n\u001b[1;32m   <a href='file:///Users/elijahflomen/miniforge3/lib/python3.9/site-packages/sklearn/model_selection/_search.py?line=1766'>1767</a>\u001b[0m         ParameterSampler(\n\u001b[1;32m   <a href='file:///Users/elijahflomen/miniforge3/lib/python3.9/site-packages/sklearn/model_selection/_search.py?line=1767'>1768</a>\u001b[0m             \u001b[39mself\u001b[39;49m\u001b[39m.\u001b[39;49mparam_distributions, \u001b[39mself\u001b[39;49m\u001b[39m.\u001b[39;49mn_iter, random_state\u001b[39m=\u001b[39;49m\u001b[39mself\u001b[39;49m\u001b[39m.\u001b[39;49mrandom_state\n\u001b[1;32m   <a href='file:///Users/elijahflomen/miniforge3/lib/python3.9/site-packages/sklearn/model_selection/_search.py?line=1768'>1769</a>\u001b[0m         )\n\u001b[1;32m   <a href='file:///Users/elijahflomen/miniforge3/lib/python3.9/site-packages/sklearn/model_selection/_search.py?line=1769'>1770</a>\u001b[0m     )\n",
      "File \u001b[0;32m~/miniforge3/lib/python3.9/site-packages/sklearn/model_selection/_search.py:838\u001b[0m, in \u001b[0;36mBaseSearchCV.fit.<locals>.evaluate_candidates\u001b[0;34m(candidate_params, cv, more_results)\u001b[0m\n\u001b[1;32m    <a href='file:///Users/elijahflomen/miniforge3/lib/python3.9/site-packages/sklearn/model_selection/_search.py?line=829'>830</a>\u001b[0m \u001b[39mif\u001b[39;00m \u001b[39mself\u001b[39m\u001b[39m.\u001b[39mverbose \u001b[39m>\u001b[39m \u001b[39m0\u001b[39m:\n\u001b[1;32m    <a href='file:///Users/elijahflomen/miniforge3/lib/python3.9/site-packages/sklearn/model_selection/_search.py?line=830'>831</a>\u001b[0m     \u001b[39mprint\u001b[39m(\n\u001b[1;32m    <a href='file:///Users/elijahflomen/miniforge3/lib/python3.9/site-packages/sklearn/model_selection/_search.py?line=831'>832</a>\u001b[0m         \u001b[39m\"\u001b[39m\u001b[39mFitting \u001b[39m\u001b[39m{0}\u001b[39;00m\u001b[39m folds for each of \u001b[39m\u001b[39m{1}\u001b[39;00m\u001b[39m candidates,\u001b[39m\u001b[39m\"\u001b[39m\n\u001b[1;32m    <a href='file:///Users/elijahflomen/miniforge3/lib/python3.9/site-packages/sklearn/model_selection/_search.py?line=832'>833</a>\u001b[0m         \u001b[39m\"\u001b[39m\u001b[39m totalling \u001b[39m\u001b[39m{2}\u001b[39;00m\u001b[39m fits\u001b[39m\u001b[39m\"\u001b[39m\u001b[39m.\u001b[39mformat(\n\u001b[1;32m    <a href='file:///Users/elijahflomen/miniforge3/lib/python3.9/site-packages/sklearn/model_selection/_search.py?line=833'>834</a>\u001b[0m             n_splits, n_candidates, n_candidates \u001b[39m*\u001b[39m n_splits\n\u001b[1;32m    <a href='file:///Users/elijahflomen/miniforge3/lib/python3.9/site-packages/sklearn/model_selection/_search.py?line=834'>835</a>\u001b[0m         )\n\u001b[1;32m    <a href='file:///Users/elijahflomen/miniforge3/lib/python3.9/site-packages/sklearn/model_selection/_search.py?line=835'>836</a>\u001b[0m     )\n\u001b[0;32m--> <a href='file:///Users/elijahflomen/miniforge3/lib/python3.9/site-packages/sklearn/model_selection/_search.py?line=837'>838</a>\u001b[0m out \u001b[39m=\u001b[39m parallel(\n\u001b[1;32m    <a href='file:///Users/elijahflomen/miniforge3/lib/python3.9/site-packages/sklearn/model_selection/_search.py?line=838'>839</a>\u001b[0m     delayed(_fit_and_score)(\n\u001b[1;32m    <a href='file:///Users/elijahflomen/miniforge3/lib/python3.9/site-packages/sklearn/model_selection/_search.py?line=839'>840</a>\u001b[0m         clone(base_estimator),\n\u001b[1;32m    <a href='file:///Users/elijahflomen/miniforge3/lib/python3.9/site-packages/sklearn/model_selection/_search.py?line=840'>841</a>\u001b[0m         X,\n\u001b[1;32m    <a href='file:///Users/elijahflomen/miniforge3/lib/python3.9/site-packages/sklearn/model_selection/_search.py?line=841'>842</a>\u001b[0m         y,\n\u001b[1;32m    <a href='file:///Users/elijahflomen/miniforge3/lib/python3.9/site-packages/sklearn/model_selection/_search.py?line=842'>843</a>\u001b[0m         train\u001b[39m=\u001b[39;49mtrain,\n\u001b[1;32m    <a href='file:///Users/elijahflomen/miniforge3/lib/python3.9/site-packages/sklearn/model_selection/_search.py?line=843'>844</a>\u001b[0m         test\u001b[39m=\u001b[39;49mtest,\n\u001b[1;32m    <a href='file:///Users/elijahflomen/miniforge3/lib/python3.9/site-packages/sklearn/model_selection/_search.py?line=844'>845</a>\u001b[0m         parameters\u001b[39m=\u001b[39;49mparameters,\n\u001b[1;32m    <a href='file:///Users/elijahflomen/miniforge3/lib/python3.9/site-packages/sklearn/model_selection/_search.py?line=845'>846</a>\u001b[0m         split_progress\u001b[39m=\u001b[39;49m(split_idx, n_splits),\n\u001b[1;32m    <a href='file:///Users/elijahflomen/miniforge3/lib/python3.9/site-packages/sklearn/model_selection/_search.py?line=846'>847</a>\u001b[0m         candidate_progress\u001b[39m=\u001b[39;49m(cand_idx, n_candidates),\n\u001b[1;32m    <a href='file:///Users/elijahflomen/miniforge3/lib/python3.9/site-packages/sklearn/model_selection/_search.py?line=847'>848</a>\u001b[0m         \u001b[39m*\u001b[39;49m\u001b[39m*\u001b[39;49mfit_and_score_kwargs,\n\u001b[1;32m    <a href='file:///Users/elijahflomen/miniforge3/lib/python3.9/site-packages/sklearn/model_selection/_search.py?line=848'>849</a>\u001b[0m     )\n\u001b[1;32m    <a href='file:///Users/elijahflomen/miniforge3/lib/python3.9/site-packages/sklearn/model_selection/_search.py?line=849'>850</a>\u001b[0m     \u001b[39mfor\u001b[39;49;00m (cand_idx, parameters), (split_idx, (train, test)) \u001b[39min\u001b[39;49;00m product(\n\u001b[1;32m    <a href='file:///Users/elijahflomen/miniforge3/lib/python3.9/site-packages/sklearn/model_selection/_search.py?line=850'>851</a>\u001b[0m         \u001b[39menumerate\u001b[39;49m(candidate_params), \u001b[39menumerate\u001b[39;49m(cv\u001b[39m.\u001b[39;49msplit(X, y, groups))\n\u001b[1;32m    <a href='file:///Users/elijahflomen/miniforge3/lib/python3.9/site-packages/sklearn/model_selection/_search.py?line=851'>852</a>\u001b[0m     )\n\u001b[1;32m    <a href='file:///Users/elijahflomen/miniforge3/lib/python3.9/site-packages/sklearn/model_selection/_search.py?line=852'>853</a>\u001b[0m )\n\u001b[1;32m    <a href='file:///Users/elijahflomen/miniforge3/lib/python3.9/site-packages/sklearn/model_selection/_search.py?line=854'>855</a>\u001b[0m \u001b[39mif\u001b[39;00m \u001b[39mlen\u001b[39m(out) \u001b[39m<\u001b[39m \u001b[39m1\u001b[39m:\n\u001b[1;32m    <a href='file:///Users/elijahflomen/miniforge3/lib/python3.9/site-packages/sklearn/model_selection/_search.py?line=855'>856</a>\u001b[0m     \u001b[39mraise\u001b[39;00m \u001b[39mValueError\u001b[39;00m(\n\u001b[1;32m    <a href='file:///Users/elijahflomen/miniforge3/lib/python3.9/site-packages/sklearn/model_selection/_search.py?line=856'>857</a>\u001b[0m         \u001b[39m\"\u001b[39m\u001b[39mNo fits were performed. \u001b[39m\u001b[39m\"\u001b[39m\n\u001b[1;32m    <a href='file:///Users/elijahflomen/miniforge3/lib/python3.9/site-packages/sklearn/model_selection/_search.py?line=857'>858</a>\u001b[0m         \u001b[39m\"\u001b[39m\u001b[39mWas the CV iterator empty? \u001b[39m\u001b[39m\"\u001b[39m\n\u001b[1;32m    <a href='file:///Users/elijahflomen/miniforge3/lib/python3.9/site-packages/sklearn/model_selection/_search.py?line=858'>859</a>\u001b[0m         \u001b[39m\"\u001b[39m\u001b[39mWere there no candidates?\u001b[39m\u001b[39m\"\u001b[39m\n\u001b[1;32m    <a href='file:///Users/elijahflomen/miniforge3/lib/python3.9/site-packages/sklearn/model_selection/_search.py?line=859'>860</a>\u001b[0m     )\n",
      "File \u001b[0;32m~/miniforge3/lib/python3.9/site-packages/joblib/parallel.py:1046\u001b[0m, in \u001b[0;36mParallel.__call__\u001b[0;34m(self, iterable)\u001b[0m\n\u001b[1;32m   <a href='file:///Users/elijahflomen/miniforge3/lib/python3.9/site-packages/joblib/parallel.py?line=1042'>1043</a>\u001b[0m \u001b[39mif\u001b[39;00m \u001b[39mself\u001b[39m\u001b[39m.\u001b[39mdispatch_one_batch(iterator):\n\u001b[1;32m   <a href='file:///Users/elijahflomen/miniforge3/lib/python3.9/site-packages/joblib/parallel.py?line=1043'>1044</a>\u001b[0m     \u001b[39mself\u001b[39m\u001b[39m.\u001b[39m_iterating \u001b[39m=\u001b[39m \u001b[39mself\u001b[39m\u001b[39m.\u001b[39m_original_iterator \u001b[39mis\u001b[39;00m \u001b[39mnot\u001b[39;00m \u001b[39mNone\u001b[39;00m\n\u001b[0;32m-> <a href='file:///Users/elijahflomen/miniforge3/lib/python3.9/site-packages/joblib/parallel.py?line=1045'>1046</a>\u001b[0m \u001b[39mwhile\u001b[39;00m \u001b[39mself\u001b[39;49m\u001b[39m.\u001b[39;49mdispatch_one_batch(iterator):\n\u001b[1;32m   <a href='file:///Users/elijahflomen/miniforge3/lib/python3.9/site-packages/joblib/parallel.py?line=1046'>1047</a>\u001b[0m     \u001b[39mpass\u001b[39;00m\n\u001b[1;32m   <a href='file:///Users/elijahflomen/miniforge3/lib/python3.9/site-packages/joblib/parallel.py?line=1048'>1049</a>\u001b[0m \u001b[39mif\u001b[39;00m pre_dispatch \u001b[39m==\u001b[39m \u001b[39m\"\u001b[39m\u001b[39mall\u001b[39m\u001b[39m\"\u001b[39m \u001b[39mor\u001b[39;00m n_jobs \u001b[39m==\u001b[39m \u001b[39m1\u001b[39m:\n\u001b[1;32m   <a href='file:///Users/elijahflomen/miniforge3/lib/python3.9/site-packages/joblib/parallel.py?line=1049'>1050</a>\u001b[0m     \u001b[39m# The iterable was consumed all at once by the above for loop.\u001b[39;00m\n\u001b[1;32m   <a href='file:///Users/elijahflomen/miniforge3/lib/python3.9/site-packages/joblib/parallel.py?line=1050'>1051</a>\u001b[0m     \u001b[39m# No need to wait for async callbacks to trigger to\u001b[39;00m\n\u001b[1;32m   <a href='file:///Users/elijahflomen/miniforge3/lib/python3.9/site-packages/joblib/parallel.py?line=1051'>1052</a>\u001b[0m     \u001b[39m# consumption.\u001b[39;00m\n",
      "File \u001b[0;32m~/miniforge3/lib/python3.9/site-packages/joblib/parallel.py:861\u001b[0m, in \u001b[0;36mParallel.dispatch_one_batch\u001b[0;34m(self, iterator)\u001b[0m\n\u001b[1;32m    <a href='file:///Users/elijahflomen/miniforge3/lib/python3.9/site-packages/joblib/parallel.py?line=858'>859</a>\u001b[0m     \u001b[39mreturn\u001b[39;00m \u001b[39mFalse\u001b[39;00m\n\u001b[1;32m    <a href='file:///Users/elijahflomen/miniforge3/lib/python3.9/site-packages/joblib/parallel.py?line=859'>860</a>\u001b[0m \u001b[39melse\u001b[39;00m:\n\u001b[0;32m--> <a href='file:///Users/elijahflomen/miniforge3/lib/python3.9/site-packages/joblib/parallel.py?line=860'>861</a>\u001b[0m     \u001b[39mself\u001b[39;49m\u001b[39m.\u001b[39;49m_dispatch(tasks)\n\u001b[1;32m    <a href='file:///Users/elijahflomen/miniforge3/lib/python3.9/site-packages/joblib/parallel.py?line=861'>862</a>\u001b[0m     \u001b[39mreturn\u001b[39;00m \u001b[39mTrue\u001b[39;00m\n",
      "File \u001b[0;32m~/miniforge3/lib/python3.9/site-packages/joblib/parallel.py:779\u001b[0m, in \u001b[0;36mParallel._dispatch\u001b[0;34m(self, batch)\u001b[0m\n\u001b[1;32m    <a href='file:///Users/elijahflomen/miniforge3/lib/python3.9/site-packages/joblib/parallel.py?line=776'>777</a>\u001b[0m \u001b[39mwith\u001b[39;00m \u001b[39mself\u001b[39m\u001b[39m.\u001b[39m_lock:\n\u001b[1;32m    <a href='file:///Users/elijahflomen/miniforge3/lib/python3.9/site-packages/joblib/parallel.py?line=777'>778</a>\u001b[0m     job_idx \u001b[39m=\u001b[39m \u001b[39mlen\u001b[39m(\u001b[39mself\u001b[39m\u001b[39m.\u001b[39m_jobs)\n\u001b[0;32m--> <a href='file:///Users/elijahflomen/miniforge3/lib/python3.9/site-packages/joblib/parallel.py?line=778'>779</a>\u001b[0m     job \u001b[39m=\u001b[39m \u001b[39mself\u001b[39;49m\u001b[39m.\u001b[39;49m_backend\u001b[39m.\u001b[39;49mapply_async(batch, callback\u001b[39m=\u001b[39;49mcb)\n\u001b[1;32m    <a href='file:///Users/elijahflomen/miniforge3/lib/python3.9/site-packages/joblib/parallel.py?line=779'>780</a>\u001b[0m     \u001b[39m# A job can complete so quickly than its callback is\u001b[39;00m\n\u001b[1;32m    <a href='file:///Users/elijahflomen/miniforge3/lib/python3.9/site-packages/joblib/parallel.py?line=780'>781</a>\u001b[0m     \u001b[39m# called before we get here, causing self._jobs to\u001b[39;00m\n\u001b[1;32m    <a href='file:///Users/elijahflomen/miniforge3/lib/python3.9/site-packages/joblib/parallel.py?line=781'>782</a>\u001b[0m     \u001b[39m# grow. To ensure correct results ordering, .insert is\u001b[39;00m\n\u001b[1;32m    <a href='file:///Users/elijahflomen/miniforge3/lib/python3.9/site-packages/joblib/parallel.py?line=782'>783</a>\u001b[0m     \u001b[39m# used (rather than .append) in the following line\u001b[39;00m\n\u001b[1;32m    <a href='file:///Users/elijahflomen/miniforge3/lib/python3.9/site-packages/joblib/parallel.py?line=783'>784</a>\u001b[0m     \u001b[39mself\u001b[39m\u001b[39m.\u001b[39m_jobs\u001b[39m.\u001b[39minsert(job_idx, job)\n",
      "File \u001b[0;32m~/miniforge3/lib/python3.9/site-packages/joblib/_parallel_backends.py:208\u001b[0m, in \u001b[0;36mSequentialBackend.apply_async\u001b[0;34m(self, func, callback)\u001b[0m\n\u001b[1;32m    <a href='file:///Users/elijahflomen/miniforge3/lib/python3.9/site-packages/joblib/_parallel_backends.py?line=205'>206</a>\u001b[0m \u001b[39mdef\u001b[39;00m \u001b[39mapply_async\u001b[39m(\u001b[39mself\u001b[39m, func, callback\u001b[39m=\u001b[39m\u001b[39mNone\u001b[39;00m):\n\u001b[1;32m    <a href='file:///Users/elijahflomen/miniforge3/lib/python3.9/site-packages/joblib/_parallel_backends.py?line=206'>207</a>\u001b[0m     \u001b[39m\"\"\"Schedule a func to be run\"\"\"\u001b[39;00m\n\u001b[0;32m--> <a href='file:///Users/elijahflomen/miniforge3/lib/python3.9/site-packages/joblib/_parallel_backends.py?line=207'>208</a>\u001b[0m     result \u001b[39m=\u001b[39m ImmediateResult(func)\n\u001b[1;32m    <a href='file:///Users/elijahflomen/miniforge3/lib/python3.9/site-packages/joblib/_parallel_backends.py?line=208'>209</a>\u001b[0m     \u001b[39mif\u001b[39;00m callback:\n\u001b[1;32m    <a href='file:///Users/elijahflomen/miniforge3/lib/python3.9/site-packages/joblib/_parallel_backends.py?line=209'>210</a>\u001b[0m         callback(result)\n",
      "File \u001b[0;32m~/miniforge3/lib/python3.9/site-packages/joblib/_parallel_backends.py:572\u001b[0m, in \u001b[0;36mImmediateResult.__init__\u001b[0;34m(self, batch)\u001b[0m\n\u001b[1;32m    <a href='file:///Users/elijahflomen/miniforge3/lib/python3.9/site-packages/joblib/_parallel_backends.py?line=568'>569</a>\u001b[0m \u001b[39mdef\u001b[39;00m \u001b[39m__init__\u001b[39m(\u001b[39mself\u001b[39m, batch):\n\u001b[1;32m    <a href='file:///Users/elijahflomen/miniforge3/lib/python3.9/site-packages/joblib/_parallel_backends.py?line=569'>570</a>\u001b[0m     \u001b[39m# Don't delay the application, to avoid keeping the input\u001b[39;00m\n\u001b[1;32m    <a href='file:///Users/elijahflomen/miniforge3/lib/python3.9/site-packages/joblib/_parallel_backends.py?line=570'>571</a>\u001b[0m     \u001b[39m# arguments in memory\u001b[39;00m\n\u001b[0;32m--> <a href='file:///Users/elijahflomen/miniforge3/lib/python3.9/site-packages/joblib/_parallel_backends.py?line=571'>572</a>\u001b[0m     \u001b[39mself\u001b[39m\u001b[39m.\u001b[39mresults \u001b[39m=\u001b[39m batch()\n",
      "File \u001b[0;32m~/miniforge3/lib/python3.9/site-packages/joblib/parallel.py:262\u001b[0m, in \u001b[0;36mBatchedCalls.__call__\u001b[0;34m(self)\u001b[0m\n\u001b[1;32m    <a href='file:///Users/elijahflomen/miniforge3/lib/python3.9/site-packages/joblib/parallel.py?line=257'>258</a>\u001b[0m \u001b[39mdef\u001b[39;00m \u001b[39m__call__\u001b[39m(\u001b[39mself\u001b[39m):\n\u001b[1;32m    <a href='file:///Users/elijahflomen/miniforge3/lib/python3.9/site-packages/joblib/parallel.py?line=258'>259</a>\u001b[0m     \u001b[39m# Set the default nested backend to self._backend but do not set the\u001b[39;00m\n\u001b[1;32m    <a href='file:///Users/elijahflomen/miniforge3/lib/python3.9/site-packages/joblib/parallel.py?line=259'>260</a>\u001b[0m     \u001b[39m# change the default number of processes to -1\u001b[39;00m\n\u001b[1;32m    <a href='file:///Users/elijahflomen/miniforge3/lib/python3.9/site-packages/joblib/parallel.py?line=260'>261</a>\u001b[0m     \u001b[39mwith\u001b[39;00m parallel_backend(\u001b[39mself\u001b[39m\u001b[39m.\u001b[39m_backend, n_jobs\u001b[39m=\u001b[39m\u001b[39mself\u001b[39m\u001b[39m.\u001b[39m_n_jobs):\n\u001b[0;32m--> <a href='file:///Users/elijahflomen/miniforge3/lib/python3.9/site-packages/joblib/parallel.py?line=261'>262</a>\u001b[0m         \u001b[39mreturn\u001b[39;00m [func(\u001b[39m*\u001b[39margs, \u001b[39m*\u001b[39m\u001b[39m*\u001b[39mkwargs)\n\u001b[1;32m    <a href='file:///Users/elijahflomen/miniforge3/lib/python3.9/site-packages/joblib/parallel.py?line=262'>263</a>\u001b[0m                 \u001b[39mfor\u001b[39;00m func, args, kwargs \u001b[39min\u001b[39;00m \u001b[39mself\u001b[39m\u001b[39m.\u001b[39mitems]\n",
      "File \u001b[0;32m~/miniforge3/lib/python3.9/site-packages/joblib/parallel.py:262\u001b[0m, in \u001b[0;36m<listcomp>\u001b[0;34m(.0)\u001b[0m\n\u001b[1;32m    <a href='file:///Users/elijahflomen/miniforge3/lib/python3.9/site-packages/joblib/parallel.py?line=257'>258</a>\u001b[0m \u001b[39mdef\u001b[39;00m \u001b[39m__call__\u001b[39m(\u001b[39mself\u001b[39m):\n\u001b[1;32m    <a href='file:///Users/elijahflomen/miniforge3/lib/python3.9/site-packages/joblib/parallel.py?line=258'>259</a>\u001b[0m     \u001b[39m# Set the default nested backend to self._backend but do not set the\u001b[39;00m\n\u001b[1;32m    <a href='file:///Users/elijahflomen/miniforge3/lib/python3.9/site-packages/joblib/parallel.py?line=259'>260</a>\u001b[0m     \u001b[39m# change the default number of processes to -1\u001b[39;00m\n\u001b[1;32m    <a href='file:///Users/elijahflomen/miniforge3/lib/python3.9/site-packages/joblib/parallel.py?line=260'>261</a>\u001b[0m     \u001b[39mwith\u001b[39;00m parallel_backend(\u001b[39mself\u001b[39m\u001b[39m.\u001b[39m_backend, n_jobs\u001b[39m=\u001b[39m\u001b[39mself\u001b[39m\u001b[39m.\u001b[39m_n_jobs):\n\u001b[0;32m--> <a href='file:///Users/elijahflomen/miniforge3/lib/python3.9/site-packages/joblib/parallel.py?line=261'>262</a>\u001b[0m         \u001b[39mreturn\u001b[39;00m [func(\u001b[39m*\u001b[39;49margs, \u001b[39m*\u001b[39;49m\u001b[39m*\u001b[39;49mkwargs)\n\u001b[1;32m    <a href='file:///Users/elijahflomen/miniforge3/lib/python3.9/site-packages/joblib/parallel.py?line=262'>263</a>\u001b[0m                 \u001b[39mfor\u001b[39;00m func, args, kwargs \u001b[39min\u001b[39;00m \u001b[39mself\u001b[39m\u001b[39m.\u001b[39mitems]\n",
      "File \u001b[0;32m~/miniforge3/lib/python3.9/site-packages/sklearn/utils/fixes.py:216\u001b[0m, in \u001b[0;36m_FuncWrapper.__call__\u001b[0;34m(self, *args, **kwargs)\u001b[0m\n\u001b[1;32m    <a href='file:///Users/elijahflomen/miniforge3/lib/python3.9/site-packages/sklearn/utils/fixes.py?line=213'>214</a>\u001b[0m \u001b[39mdef\u001b[39;00m \u001b[39m__call__\u001b[39m(\u001b[39mself\u001b[39m, \u001b[39m*\u001b[39margs, \u001b[39m*\u001b[39m\u001b[39m*\u001b[39mkwargs):\n\u001b[1;32m    <a href='file:///Users/elijahflomen/miniforge3/lib/python3.9/site-packages/sklearn/utils/fixes.py?line=214'>215</a>\u001b[0m     \u001b[39mwith\u001b[39;00m config_context(\u001b[39m*\u001b[39m\u001b[39m*\u001b[39m\u001b[39mself\u001b[39m\u001b[39m.\u001b[39mconfig):\n\u001b[0;32m--> <a href='file:///Users/elijahflomen/miniforge3/lib/python3.9/site-packages/sklearn/utils/fixes.py?line=215'>216</a>\u001b[0m         \u001b[39mreturn\u001b[39;00m \u001b[39mself\u001b[39;49m\u001b[39m.\u001b[39;49mfunction(\u001b[39m*\u001b[39;49margs, \u001b[39m*\u001b[39;49m\u001b[39m*\u001b[39;49mkwargs)\n",
      "File \u001b[0;32m~/miniforge3/lib/python3.9/site-packages/sklearn/model_selection/_validation.py:680\u001b[0m, in \u001b[0;36m_fit_and_score\u001b[0;34m(estimator, X, y, scorer, train, test, verbose, parameters, fit_params, return_train_score, return_parameters, return_n_test_samples, return_times, return_estimator, split_progress, candidate_progress, error_score)\u001b[0m\n\u001b[1;32m    <a href='file:///Users/elijahflomen/miniforge3/lib/python3.9/site-packages/sklearn/model_selection/_validation.py?line=677'>678</a>\u001b[0m         estimator\u001b[39m.\u001b[39mfit(X_train, \u001b[39m*\u001b[39m\u001b[39m*\u001b[39mfit_params)\n\u001b[1;32m    <a href='file:///Users/elijahflomen/miniforge3/lib/python3.9/site-packages/sklearn/model_selection/_validation.py?line=678'>679</a>\u001b[0m     \u001b[39melse\u001b[39;00m:\n\u001b[0;32m--> <a href='file:///Users/elijahflomen/miniforge3/lib/python3.9/site-packages/sklearn/model_selection/_validation.py?line=679'>680</a>\u001b[0m         estimator\u001b[39m.\u001b[39;49mfit(X_train, y_train, \u001b[39m*\u001b[39;49m\u001b[39m*\u001b[39;49mfit_params)\n\u001b[1;32m    <a href='file:///Users/elijahflomen/miniforge3/lib/python3.9/site-packages/sklearn/model_selection/_validation.py?line=681'>682</a>\u001b[0m \u001b[39mexcept\u001b[39;00m \u001b[39mException\u001b[39;00m:\n\u001b[1;32m    <a href='file:///Users/elijahflomen/miniforge3/lib/python3.9/site-packages/sklearn/model_selection/_validation.py?line=682'>683</a>\u001b[0m     \u001b[39m# Note fit time as time until error\u001b[39;00m\n\u001b[1;32m    <a href='file:///Users/elijahflomen/miniforge3/lib/python3.9/site-packages/sklearn/model_selection/_validation.py?line=683'>684</a>\u001b[0m     fit_time \u001b[39m=\u001b[39m time\u001b[39m.\u001b[39mtime() \u001b[39m-\u001b[39m start_time\n",
      "File \u001b[0;32m~/miniforge3/lib/python3.9/site-packages/sklearn/ensemble/_forest.py:450\u001b[0m, in \u001b[0;36mBaseForest.fit\u001b[0;34m(self, X, y, sample_weight)\u001b[0m\n\u001b[1;32m    <a href='file:///Users/elijahflomen/miniforge3/lib/python3.9/site-packages/sklearn/ensemble/_forest.py?line=438'>439</a>\u001b[0m trees \u001b[39m=\u001b[39m [\n\u001b[1;32m    <a href='file:///Users/elijahflomen/miniforge3/lib/python3.9/site-packages/sklearn/ensemble/_forest.py?line=439'>440</a>\u001b[0m     \u001b[39mself\u001b[39m\u001b[39m.\u001b[39m_make_estimator(append\u001b[39m=\u001b[39m\u001b[39mFalse\u001b[39;00m, random_state\u001b[39m=\u001b[39mrandom_state)\n\u001b[1;32m    <a href='file:///Users/elijahflomen/miniforge3/lib/python3.9/site-packages/sklearn/ensemble/_forest.py?line=440'>441</a>\u001b[0m     \u001b[39mfor\u001b[39;00m i \u001b[39min\u001b[39;00m \u001b[39mrange\u001b[39m(n_more_estimators)\n\u001b[1;32m    <a href='file:///Users/elijahflomen/miniforge3/lib/python3.9/site-packages/sklearn/ensemble/_forest.py?line=441'>442</a>\u001b[0m ]\n\u001b[1;32m    <a href='file:///Users/elijahflomen/miniforge3/lib/python3.9/site-packages/sklearn/ensemble/_forest.py?line=443'>444</a>\u001b[0m \u001b[39m# Parallel loop: we prefer the threading backend as the Cython code\u001b[39;00m\n\u001b[1;32m    <a href='file:///Users/elijahflomen/miniforge3/lib/python3.9/site-packages/sklearn/ensemble/_forest.py?line=444'>445</a>\u001b[0m \u001b[39m# for fitting the trees is internally releasing the Python GIL\u001b[39;00m\n\u001b[1;32m    <a href='file:///Users/elijahflomen/miniforge3/lib/python3.9/site-packages/sklearn/ensemble/_forest.py?line=445'>446</a>\u001b[0m \u001b[39m# making threading more efficient than multiprocessing in\u001b[39;00m\n\u001b[1;32m    <a href='file:///Users/elijahflomen/miniforge3/lib/python3.9/site-packages/sklearn/ensemble/_forest.py?line=446'>447</a>\u001b[0m \u001b[39m# that case. However, for joblib 0.12+ we respect any\u001b[39;00m\n\u001b[1;32m    <a href='file:///Users/elijahflomen/miniforge3/lib/python3.9/site-packages/sklearn/ensemble/_forest.py?line=447'>448</a>\u001b[0m \u001b[39m# parallel_backend contexts set at a higher level,\u001b[39;00m\n\u001b[1;32m    <a href='file:///Users/elijahflomen/miniforge3/lib/python3.9/site-packages/sklearn/ensemble/_forest.py?line=448'>449</a>\u001b[0m \u001b[39m# since correctness does not rely on using threads.\u001b[39;00m\n\u001b[0;32m--> <a href='file:///Users/elijahflomen/miniforge3/lib/python3.9/site-packages/sklearn/ensemble/_forest.py?line=449'>450</a>\u001b[0m trees \u001b[39m=\u001b[39m Parallel(\n\u001b[1;32m    <a href='file:///Users/elijahflomen/miniforge3/lib/python3.9/site-packages/sklearn/ensemble/_forest.py?line=450'>451</a>\u001b[0m     n_jobs\u001b[39m=\u001b[39;49m\u001b[39mself\u001b[39;49m\u001b[39m.\u001b[39;49mn_jobs,\n\u001b[1;32m    <a href='file:///Users/elijahflomen/miniforge3/lib/python3.9/site-packages/sklearn/ensemble/_forest.py?line=451'>452</a>\u001b[0m     verbose\u001b[39m=\u001b[39;49m\u001b[39mself\u001b[39;49m\u001b[39m.\u001b[39;49mverbose,\n\u001b[1;32m    <a href='file:///Users/elijahflomen/miniforge3/lib/python3.9/site-packages/sklearn/ensemble/_forest.py?line=452'>453</a>\u001b[0m     \u001b[39m*\u001b[39;49m\u001b[39m*\u001b[39;49m_joblib_parallel_args(prefer\u001b[39m=\u001b[39;49m\u001b[39m\"\u001b[39;49m\u001b[39mthreads\u001b[39;49m\u001b[39m\"\u001b[39;49m),\n\u001b[1;32m    <a href='file:///Users/elijahflomen/miniforge3/lib/python3.9/site-packages/sklearn/ensemble/_forest.py?line=453'>454</a>\u001b[0m )(\n\u001b[1;32m    <a href='file:///Users/elijahflomen/miniforge3/lib/python3.9/site-packages/sklearn/ensemble/_forest.py?line=454'>455</a>\u001b[0m     delayed(_parallel_build_trees)(\n\u001b[1;32m    <a href='file:///Users/elijahflomen/miniforge3/lib/python3.9/site-packages/sklearn/ensemble/_forest.py?line=455'>456</a>\u001b[0m         t,\n\u001b[1;32m    <a href='file:///Users/elijahflomen/miniforge3/lib/python3.9/site-packages/sklearn/ensemble/_forest.py?line=456'>457</a>\u001b[0m         \u001b[39mself\u001b[39;49m,\n\u001b[1;32m    <a href='file:///Users/elijahflomen/miniforge3/lib/python3.9/site-packages/sklearn/ensemble/_forest.py?line=457'>458</a>\u001b[0m         X,\n\u001b[1;32m    <a href='file:///Users/elijahflomen/miniforge3/lib/python3.9/site-packages/sklearn/ensemble/_forest.py?line=458'>459</a>\u001b[0m         y,\n\u001b[1;32m    <a href='file:///Users/elijahflomen/miniforge3/lib/python3.9/site-packages/sklearn/ensemble/_forest.py?line=459'>460</a>\u001b[0m         sample_weight,\n\u001b[1;32m    <a href='file:///Users/elijahflomen/miniforge3/lib/python3.9/site-packages/sklearn/ensemble/_forest.py?line=460'>461</a>\u001b[0m         i,\n\u001b[1;32m    <a href='file:///Users/elijahflomen/miniforge3/lib/python3.9/site-packages/sklearn/ensemble/_forest.py?line=461'>462</a>\u001b[0m         \u001b[39mlen\u001b[39;49m(trees),\n\u001b[1;32m    <a href='file:///Users/elijahflomen/miniforge3/lib/python3.9/site-packages/sklearn/ensemble/_forest.py?line=462'>463</a>\u001b[0m         verbose\u001b[39m=\u001b[39;49m\u001b[39mself\u001b[39;49m\u001b[39m.\u001b[39;49mverbose,\n\u001b[1;32m    <a href='file:///Users/elijahflomen/miniforge3/lib/python3.9/site-packages/sklearn/ensemble/_forest.py?line=463'>464</a>\u001b[0m         class_weight\u001b[39m=\u001b[39;49m\u001b[39mself\u001b[39;49m\u001b[39m.\u001b[39;49mclass_weight,\n\u001b[1;32m    <a href='file:///Users/elijahflomen/miniforge3/lib/python3.9/site-packages/sklearn/ensemble/_forest.py?line=464'>465</a>\u001b[0m         n_samples_bootstrap\u001b[39m=\u001b[39;49mn_samples_bootstrap,\n\u001b[1;32m    <a href='file:///Users/elijahflomen/miniforge3/lib/python3.9/site-packages/sklearn/ensemble/_forest.py?line=465'>466</a>\u001b[0m     )\n\u001b[1;32m    <a href='file:///Users/elijahflomen/miniforge3/lib/python3.9/site-packages/sklearn/ensemble/_forest.py?line=466'>467</a>\u001b[0m     \u001b[39mfor\u001b[39;49;00m i, t \u001b[39min\u001b[39;49;00m \u001b[39menumerate\u001b[39;49m(trees)\n\u001b[1;32m    <a href='file:///Users/elijahflomen/miniforge3/lib/python3.9/site-packages/sklearn/ensemble/_forest.py?line=467'>468</a>\u001b[0m )\n\u001b[1;32m    <a href='file:///Users/elijahflomen/miniforge3/lib/python3.9/site-packages/sklearn/ensemble/_forest.py?line=469'>470</a>\u001b[0m \u001b[39m# Collect newly grown trees\u001b[39;00m\n\u001b[1;32m    <a href='file:///Users/elijahflomen/miniforge3/lib/python3.9/site-packages/sklearn/ensemble/_forest.py?line=470'>471</a>\u001b[0m \u001b[39mself\u001b[39m\u001b[39m.\u001b[39mestimators_\u001b[39m.\u001b[39mextend(trees)\n",
      "File \u001b[0;32m~/miniforge3/lib/python3.9/site-packages/joblib/parallel.py:1046\u001b[0m, in \u001b[0;36mParallel.__call__\u001b[0;34m(self, iterable)\u001b[0m\n\u001b[1;32m   <a href='file:///Users/elijahflomen/miniforge3/lib/python3.9/site-packages/joblib/parallel.py?line=1042'>1043</a>\u001b[0m \u001b[39mif\u001b[39;00m \u001b[39mself\u001b[39m\u001b[39m.\u001b[39mdispatch_one_batch(iterator):\n\u001b[1;32m   <a href='file:///Users/elijahflomen/miniforge3/lib/python3.9/site-packages/joblib/parallel.py?line=1043'>1044</a>\u001b[0m     \u001b[39mself\u001b[39m\u001b[39m.\u001b[39m_iterating \u001b[39m=\u001b[39m \u001b[39mself\u001b[39m\u001b[39m.\u001b[39m_original_iterator \u001b[39mis\u001b[39;00m \u001b[39mnot\u001b[39;00m \u001b[39mNone\u001b[39;00m\n\u001b[0;32m-> <a href='file:///Users/elijahflomen/miniforge3/lib/python3.9/site-packages/joblib/parallel.py?line=1045'>1046</a>\u001b[0m \u001b[39mwhile\u001b[39;00m \u001b[39mself\u001b[39;49m\u001b[39m.\u001b[39;49mdispatch_one_batch(iterator):\n\u001b[1;32m   <a href='file:///Users/elijahflomen/miniforge3/lib/python3.9/site-packages/joblib/parallel.py?line=1046'>1047</a>\u001b[0m     \u001b[39mpass\u001b[39;00m\n\u001b[1;32m   <a href='file:///Users/elijahflomen/miniforge3/lib/python3.9/site-packages/joblib/parallel.py?line=1048'>1049</a>\u001b[0m \u001b[39mif\u001b[39;00m pre_dispatch \u001b[39m==\u001b[39m \u001b[39m\"\u001b[39m\u001b[39mall\u001b[39m\u001b[39m\"\u001b[39m \u001b[39mor\u001b[39;00m n_jobs \u001b[39m==\u001b[39m \u001b[39m1\u001b[39m:\n\u001b[1;32m   <a href='file:///Users/elijahflomen/miniforge3/lib/python3.9/site-packages/joblib/parallel.py?line=1049'>1050</a>\u001b[0m     \u001b[39m# The iterable was consumed all at once by the above for loop.\u001b[39;00m\n\u001b[1;32m   <a href='file:///Users/elijahflomen/miniforge3/lib/python3.9/site-packages/joblib/parallel.py?line=1050'>1051</a>\u001b[0m     \u001b[39m# No need to wait for async callbacks to trigger to\u001b[39;00m\n\u001b[1;32m   <a href='file:///Users/elijahflomen/miniforge3/lib/python3.9/site-packages/joblib/parallel.py?line=1051'>1052</a>\u001b[0m     \u001b[39m# consumption.\u001b[39;00m\n",
      "File \u001b[0;32m~/miniforge3/lib/python3.9/site-packages/joblib/parallel.py:861\u001b[0m, in \u001b[0;36mParallel.dispatch_one_batch\u001b[0;34m(self, iterator)\u001b[0m\n\u001b[1;32m    <a href='file:///Users/elijahflomen/miniforge3/lib/python3.9/site-packages/joblib/parallel.py?line=858'>859</a>\u001b[0m     \u001b[39mreturn\u001b[39;00m \u001b[39mFalse\u001b[39;00m\n\u001b[1;32m    <a href='file:///Users/elijahflomen/miniforge3/lib/python3.9/site-packages/joblib/parallel.py?line=859'>860</a>\u001b[0m \u001b[39melse\u001b[39;00m:\n\u001b[0;32m--> <a href='file:///Users/elijahflomen/miniforge3/lib/python3.9/site-packages/joblib/parallel.py?line=860'>861</a>\u001b[0m     \u001b[39mself\u001b[39;49m\u001b[39m.\u001b[39;49m_dispatch(tasks)\n\u001b[1;32m    <a href='file:///Users/elijahflomen/miniforge3/lib/python3.9/site-packages/joblib/parallel.py?line=861'>862</a>\u001b[0m     \u001b[39mreturn\u001b[39;00m \u001b[39mTrue\u001b[39;00m\n",
      "File \u001b[0;32m~/miniforge3/lib/python3.9/site-packages/joblib/parallel.py:779\u001b[0m, in \u001b[0;36mParallel._dispatch\u001b[0;34m(self, batch)\u001b[0m\n\u001b[1;32m    <a href='file:///Users/elijahflomen/miniforge3/lib/python3.9/site-packages/joblib/parallel.py?line=776'>777</a>\u001b[0m \u001b[39mwith\u001b[39;00m \u001b[39mself\u001b[39m\u001b[39m.\u001b[39m_lock:\n\u001b[1;32m    <a href='file:///Users/elijahflomen/miniforge3/lib/python3.9/site-packages/joblib/parallel.py?line=777'>778</a>\u001b[0m     job_idx \u001b[39m=\u001b[39m \u001b[39mlen\u001b[39m(\u001b[39mself\u001b[39m\u001b[39m.\u001b[39m_jobs)\n\u001b[0;32m--> <a href='file:///Users/elijahflomen/miniforge3/lib/python3.9/site-packages/joblib/parallel.py?line=778'>779</a>\u001b[0m     job \u001b[39m=\u001b[39m \u001b[39mself\u001b[39;49m\u001b[39m.\u001b[39;49m_backend\u001b[39m.\u001b[39;49mapply_async(batch, callback\u001b[39m=\u001b[39;49mcb)\n\u001b[1;32m    <a href='file:///Users/elijahflomen/miniforge3/lib/python3.9/site-packages/joblib/parallel.py?line=779'>780</a>\u001b[0m     \u001b[39m# A job can complete so quickly than its callback is\u001b[39;00m\n\u001b[1;32m    <a href='file:///Users/elijahflomen/miniforge3/lib/python3.9/site-packages/joblib/parallel.py?line=780'>781</a>\u001b[0m     \u001b[39m# called before we get here, causing self._jobs to\u001b[39;00m\n\u001b[1;32m    <a href='file:///Users/elijahflomen/miniforge3/lib/python3.9/site-packages/joblib/parallel.py?line=781'>782</a>\u001b[0m     \u001b[39m# grow. To ensure correct results ordering, .insert is\u001b[39;00m\n\u001b[1;32m    <a href='file:///Users/elijahflomen/miniforge3/lib/python3.9/site-packages/joblib/parallel.py?line=782'>783</a>\u001b[0m     \u001b[39m# used (rather than .append) in the following line\u001b[39;00m\n\u001b[1;32m    <a href='file:///Users/elijahflomen/miniforge3/lib/python3.9/site-packages/joblib/parallel.py?line=783'>784</a>\u001b[0m     \u001b[39mself\u001b[39m\u001b[39m.\u001b[39m_jobs\u001b[39m.\u001b[39minsert(job_idx, job)\n",
      "File \u001b[0;32m~/miniforge3/lib/python3.9/site-packages/joblib/_parallel_backends.py:208\u001b[0m, in \u001b[0;36mSequentialBackend.apply_async\u001b[0;34m(self, func, callback)\u001b[0m\n\u001b[1;32m    <a href='file:///Users/elijahflomen/miniforge3/lib/python3.9/site-packages/joblib/_parallel_backends.py?line=205'>206</a>\u001b[0m \u001b[39mdef\u001b[39;00m \u001b[39mapply_async\u001b[39m(\u001b[39mself\u001b[39m, func, callback\u001b[39m=\u001b[39m\u001b[39mNone\u001b[39;00m):\n\u001b[1;32m    <a href='file:///Users/elijahflomen/miniforge3/lib/python3.9/site-packages/joblib/_parallel_backends.py?line=206'>207</a>\u001b[0m     \u001b[39m\"\"\"Schedule a func to be run\"\"\"\u001b[39;00m\n\u001b[0;32m--> <a href='file:///Users/elijahflomen/miniforge3/lib/python3.9/site-packages/joblib/_parallel_backends.py?line=207'>208</a>\u001b[0m     result \u001b[39m=\u001b[39m ImmediateResult(func)\n\u001b[1;32m    <a href='file:///Users/elijahflomen/miniforge3/lib/python3.9/site-packages/joblib/_parallel_backends.py?line=208'>209</a>\u001b[0m     \u001b[39mif\u001b[39;00m callback:\n\u001b[1;32m    <a href='file:///Users/elijahflomen/miniforge3/lib/python3.9/site-packages/joblib/_parallel_backends.py?line=209'>210</a>\u001b[0m         callback(result)\n",
      "File \u001b[0;32m~/miniforge3/lib/python3.9/site-packages/joblib/_parallel_backends.py:572\u001b[0m, in \u001b[0;36mImmediateResult.__init__\u001b[0;34m(self, batch)\u001b[0m\n\u001b[1;32m    <a href='file:///Users/elijahflomen/miniforge3/lib/python3.9/site-packages/joblib/_parallel_backends.py?line=568'>569</a>\u001b[0m \u001b[39mdef\u001b[39;00m \u001b[39m__init__\u001b[39m(\u001b[39mself\u001b[39m, batch):\n\u001b[1;32m    <a href='file:///Users/elijahflomen/miniforge3/lib/python3.9/site-packages/joblib/_parallel_backends.py?line=569'>570</a>\u001b[0m     \u001b[39m# Don't delay the application, to avoid keeping the input\u001b[39;00m\n\u001b[1;32m    <a href='file:///Users/elijahflomen/miniforge3/lib/python3.9/site-packages/joblib/_parallel_backends.py?line=570'>571</a>\u001b[0m     \u001b[39m# arguments in memory\u001b[39;00m\n\u001b[0;32m--> <a href='file:///Users/elijahflomen/miniforge3/lib/python3.9/site-packages/joblib/_parallel_backends.py?line=571'>572</a>\u001b[0m     \u001b[39mself\u001b[39m\u001b[39m.\u001b[39mresults \u001b[39m=\u001b[39m batch()\n",
      "File \u001b[0;32m~/miniforge3/lib/python3.9/site-packages/joblib/parallel.py:262\u001b[0m, in \u001b[0;36mBatchedCalls.__call__\u001b[0;34m(self)\u001b[0m\n\u001b[1;32m    <a href='file:///Users/elijahflomen/miniforge3/lib/python3.9/site-packages/joblib/parallel.py?line=257'>258</a>\u001b[0m \u001b[39mdef\u001b[39;00m \u001b[39m__call__\u001b[39m(\u001b[39mself\u001b[39m):\n\u001b[1;32m    <a href='file:///Users/elijahflomen/miniforge3/lib/python3.9/site-packages/joblib/parallel.py?line=258'>259</a>\u001b[0m     \u001b[39m# Set the default nested backend to self._backend but do not set the\u001b[39;00m\n\u001b[1;32m    <a href='file:///Users/elijahflomen/miniforge3/lib/python3.9/site-packages/joblib/parallel.py?line=259'>260</a>\u001b[0m     \u001b[39m# change the default number of processes to -1\u001b[39;00m\n\u001b[1;32m    <a href='file:///Users/elijahflomen/miniforge3/lib/python3.9/site-packages/joblib/parallel.py?line=260'>261</a>\u001b[0m     \u001b[39mwith\u001b[39;00m parallel_backend(\u001b[39mself\u001b[39m\u001b[39m.\u001b[39m_backend, n_jobs\u001b[39m=\u001b[39m\u001b[39mself\u001b[39m\u001b[39m.\u001b[39m_n_jobs):\n\u001b[0;32m--> <a href='file:///Users/elijahflomen/miniforge3/lib/python3.9/site-packages/joblib/parallel.py?line=261'>262</a>\u001b[0m         \u001b[39mreturn\u001b[39;00m [func(\u001b[39m*\u001b[39margs, \u001b[39m*\u001b[39m\u001b[39m*\u001b[39mkwargs)\n\u001b[1;32m    <a href='file:///Users/elijahflomen/miniforge3/lib/python3.9/site-packages/joblib/parallel.py?line=262'>263</a>\u001b[0m                 \u001b[39mfor\u001b[39;00m func, args, kwargs \u001b[39min\u001b[39;00m \u001b[39mself\u001b[39m\u001b[39m.\u001b[39mitems]\n",
      "File \u001b[0;32m~/miniforge3/lib/python3.9/site-packages/joblib/parallel.py:262\u001b[0m, in \u001b[0;36m<listcomp>\u001b[0;34m(.0)\u001b[0m\n\u001b[1;32m    <a href='file:///Users/elijahflomen/miniforge3/lib/python3.9/site-packages/joblib/parallel.py?line=257'>258</a>\u001b[0m \u001b[39mdef\u001b[39;00m \u001b[39m__call__\u001b[39m(\u001b[39mself\u001b[39m):\n\u001b[1;32m    <a href='file:///Users/elijahflomen/miniforge3/lib/python3.9/site-packages/joblib/parallel.py?line=258'>259</a>\u001b[0m     \u001b[39m# Set the default nested backend to self._backend but do not set the\u001b[39;00m\n\u001b[1;32m    <a href='file:///Users/elijahflomen/miniforge3/lib/python3.9/site-packages/joblib/parallel.py?line=259'>260</a>\u001b[0m     \u001b[39m# change the default number of processes to -1\u001b[39;00m\n\u001b[1;32m    <a href='file:///Users/elijahflomen/miniforge3/lib/python3.9/site-packages/joblib/parallel.py?line=260'>261</a>\u001b[0m     \u001b[39mwith\u001b[39;00m parallel_backend(\u001b[39mself\u001b[39m\u001b[39m.\u001b[39m_backend, n_jobs\u001b[39m=\u001b[39m\u001b[39mself\u001b[39m\u001b[39m.\u001b[39m_n_jobs):\n\u001b[0;32m--> <a href='file:///Users/elijahflomen/miniforge3/lib/python3.9/site-packages/joblib/parallel.py?line=261'>262</a>\u001b[0m         \u001b[39mreturn\u001b[39;00m [func(\u001b[39m*\u001b[39;49margs, \u001b[39m*\u001b[39;49m\u001b[39m*\u001b[39;49mkwargs)\n\u001b[1;32m    <a href='file:///Users/elijahflomen/miniforge3/lib/python3.9/site-packages/joblib/parallel.py?line=262'>263</a>\u001b[0m                 \u001b[39mfor\u001b[39;00m func, args, kwargs \u001b[39min\u001b[39;00m \u001b[39mself\u001b[39m\u001b[39m.\u001b[39mitems]\n",
      "File \u001b[0;32m~/miniforge3/lib/python3.9/site-packages/sklearn/utils/fixes.py:216\u001b[0m, in \u001b[0;36m_FuncWrapper.__call__\u001b[0;34m(self, *args, **kwargs)\u001b[0m\n\u001b[1;32m    <a href='file:///Users/elijahflomen/miniforge3/lib/python3.9/site-packages/sklearn/utils/fixes.py?line=213'>214</a>\u001b[0m \u001b[39mdef\u001b[39;00m \u001b[39m__call__\u001b[39m(\u001b[39mself\u001b[39m, \u001b[39m*\u001b[39margs, \u001b[39m*\u001b[39m\u001b[39m*\u001b[39mkwargs):\n\u001b[1;32m    <a href='file:///Users/elijahflomen/miniforge3/lib/python3.9/site-packages/sklearn/utils/fixes.py?line=214'>215</a>\u001b[0m     \u001b[39mwith\u001b[39;00m config_context(\u001b[39m*\u001b[39m\u001b[39m*\u001b[39m\u001b[39mself\u001b[39m\u001b[39m.\u001b[39mconfig):\n\u001b[0;32m--> <a href='file:///Users/elijahflomen/miniforge3/lib/python3.9/site-packages/sklearn/utils/fixes.py?line=215'>216</a>\u001b[0m         \u001b[39mreturn\u001b[39;00m \u001b[39mself\u001b[39;49m\u001b[39m.\u001b[39;49mfunction(\u001b[39m*\u001b[39;49margs, \u001b[39m*\u001b[39;49m\u001b[39m*\u001b[39;49mkwargs)\n",
      "File \u001b[0;32m~/miniforge3/lib/python3.9/site-packages/sklearn/ensemble/_forest.py:185\u001b[0m, in \u001b[0;36m_parallel_build_trees\u001b[0;34m(tree, forest, X, y, sample_weight, tree_idx, n_trees, verbose, class_weight, n_samples_bootstrap)\u001b[0m\n\u001b[1;32m    <a href='file:///Users/elijahflomen/miniforge3/lib/python3.9/site-packages/sklearn/ensemble/_forest.py?line=181'>182</a>\u001b[0m     \u001b[39melif\u001b[39;00m class_weight \u001b[39m==\u001b[39m \u001b[39m\"\u001b[39m\u001b[39mbalanced_subsample\u001b[39m\u001b[39m\"\u001b[39m:\n\u001b[1;32m    <a href='file:///Users/elijahflomen/miniforge3/lib/python3.9/site-packages/sklearn/ensemble/_forest.py?line=182'>183</a>\u001b[0m         curr_sample_weight \u001b[39m*\u001b[39m\u001b[39m=\u001b[39m compute_sample_weight(\u001b[39m\"\u001b[39m\u001b[39mbalanced\u001b[39m\u001b[39m\"\u001b[39m, y, indices\u001b[39m=\u001b[39mindices)\n\u001b[0;32m--> <a href='file:///Users/elijahflomen/miniforge3/lib/python3.9/site-packages/sklearn/ensemble/_forest.py?line=184'>185</a>\u001b[0m     tree\u001b[39m.\u001b[39;49mfit(X, y, sample_weight\u001b[39m=\u001b[39;49mcurr_sample_weight, check_input\u001b[39m=\u001b[39;49m\u001b[39mFalse\u001b[39;49;00m)\n\u001b[1;32m    <a href='file:///Users/elijahflomen/miniforge3/lib/python3.9/site-packages/sklearn/ensemble/_forest.py?line=185'>186</a>\u001b[0m \u001b[39melse\u001b[39;00m:\n\u001b[1;32m    <a href='file:///Users/elijahflomen/miniforge3/lib/python3.9/site-packages/sklearn/ensemble/_forest.py?line=186'>187</a>\u001b[0m     tree\u001b[39m.\u001b[39mfit(X, y, sample_weight\u001b[39m=\u001b[39msample_weight, check_input\u001b[39m=\u001b[39m\u001b[39mFalse\u001b[39;00m)\n",
      "File \u001b[0;32m~/miniforge3/lib/python3.9/site-packages/sklearn/tree/_classes.py:937\u001b[0m, in \u001b[0;36mDecisionTreeClassifier.fit\u001b[0;34m(self, X, y, sample_weight, check_input, X_idx_sorted)\u001b[0m\n\u001b[1;32m    <a href='file:///Users/elijahflomen/miniforge3/lib/python3.9/site-packages/sklearn/tree/_classes.py?line=898'>899</a>\u001b[0m \u001b[39mdef\u001b[39;00m \u001b[39mfit\u001b[39m(\n\u001b[1;32m    <a href='file:///Users/elijahflomen/miniforge3/lib/python3.9/site-packages/sklearn/tree/_classes.py?line=899'>900</a>\u001b[0m     \u001b[39mself\u001b[39m, X, y, sample_weight\u001b[39m=\u001b[39m\u001b[39mNone\u001b[39;00m, check_input\u001b[39m=\u001b[39m\u001b[39mTrue\u001b[39;00m, X_idx_sorted\u001b[39m=\u001b[39m\u001b[39m\"\u001b[39m\u001b[39mdeprecated\u001b[39m\u001b[39m\"\u001b[39m\n\u001b[1;32m    <a href='file:///Users/elijahflomen/miniforge3/lib/python3.9/site-packages/sklearn/tree/_classes.py?line=900'>901</a>\u001b[0m ):\n\u001b[1;32m    <a href='file:///Users/elijahflomen/miniforge3/lib/python3.9/site-packages/sklearn/tree/_classes.py?line=901'>902</a>\u001b[0m     \u001b[39m\"\"\"Build a decision tree classifier from the training set (X, y).\u001b[39;00m\n\u001b[1;32m    <a href='file:///Users/elijahflomen/miniforge3/lib/python3.9/site-packages/sklearn/tree/_classes.py?line=902'>903</a>\u001b[0m \n\u001b[1;32m    <a href='file:///Users/elijahflomen/miniforge3/lib/python3.9/site-packages/sklearn/tree/_classes.py?line=903'>904</a>\u001b[0m \u001b[39m    Parameters\u001b[39;00m\n\u001b[0;32m   (...)\u001b[0m\n\u001b[1;32m    <a href='file:///Users/elijahflomen/miniforge3/lib/python3.9/site-packages/sklearn/tree/_classes.py?line=933'>934</a>\u001b[0m \u001b[39m        Fitted estimator.\u001b[39;00m\n\u001b[1;32m    <a href='file:///Users/elijahflomen/miniforge3/lib/python3.9/site-packages/sklearn/tree/_classes.py?line=934'>935</a>\u001b[0m \u001b[39m    \"\"\"\u001b[39;00m\n\u001b[0;32m--> <a href='file:///Users/elijahflomen/miniforge3/lib/python3.9/site-packages/sklearn/tree/_classes.py?line=936'>937</a>\u001b[0m     \u001b[39msuper\u001b[39;49m()\u001b[39m.\u001b[39;49mfit(\n\u001b[1;32m    <a href='file:///Users/elijahflomen/miniforge3/lib/python3.9/site-packages/sklearn/tree/_classes.py?line=937'>938</a>\u001b[0m         X,\n\u001b[1;32m    <a href='file:///Users/elijahflomen/miniforge3/lib/python3.9/site-packages/sklearn/tree/_classes.py?line=938'>939</a>\u001b[0m         y,\n\u001b[1;32m    <a href='file:///Users/elijahflomen/miniforge3/lib/python3.9/site-packages/sklearn/tree/_classes.py?line=939'>940</a>\u001b[0m         sample_weight\u001b[39m=\u001b[39;49msample_weight,\n\u001b[1;32m    <a href='file:///Users/elijahflomen/miniforge3/lib/python3.9/site-packages/sklearn/tree/_classes.py?line=940'>941</a>\u001b[0m         check_input\u001b[39m=\u001b[39;49mcheck_input,\n\u001b[1;32m    <a href='file:///Users/elijahflomen/miniforge3/lib/python3.9/site-packages/sklearn/tree/_classes.py?line=941'>942</a>\u001b[0m         X_idx_sorted\u001b[39m=\u001b[39;49mX_idx_sorted,\n\u001b[1;32m    <a href='file:///Users/elijahflomen/miniforge3/lib/python3.9/site-packages/sklearn/tree/_classes.py?line=942'>943</a>\u001b[0m     )\n\u001b[1;32m    <a href='file:///Users/elijahflomen/miniforge3/lib/python3.9/site-packages/sklearn/tree/_classes.py?line=943'>944</a>\u001b[0m     \u001b[39mreturn\u001b[39;00m \u001b[39mself\u001b[39m\n",
      "File \u001b[0;32m~/miniforge3/lib/python3.9/site-packages/sklearn/tree/_classes.py:420\u001b[0m, in \u001b[0;36mBaseDecisionTree.fit\u001b[0;34m(self, X, y, sample_weight, check_input, X_idx_sorted)\u001b[0m\n\u001b[1;32m    <a href='file:///Users/elijahflomen/miniforge3/lib/python3.9/site-packages/sklearn/tree/_classes.py?line=408'>409</a>\u001b[0m \u001b[39melse\u001b[39;00m:\n\u001b[1;32m    <a href='file:///Users/elijahflomen/miniforge3/lib/python3.9/site-packages/sklearn/tree/_classes.py?line=409'>410</a>\u001b[0m     builder \u001b[39m=\u001b[39m BestFirstTreeBuilder(\n\u001b[1;32m    <a href='file:///Users/elijahflomen/miniforge3/lib/python3.9/site-packages/sklearn/tree/_classes.py?line=410'>411</a>\u001b[0m         splitter,\n\u001b[1;32m    <a href='file:///Users/elijahflomen/miniforge3/lib/python3.9/site-packages/sklearn/tree/_classes.py?line=411'>412</a>\u001b[0m         min_samples_split,\n\u001b[0;32m   (...)\u001b[0m\n\u001b[1;32m    <a href='file:///Users/elijahflomen/miniforge3/lib/python3.9/site-packages/sklearn/tree/_classes.py?line=416'>417</a>\u001b[0m         \u001b[39mself\u001b[39m\u001b[39m.\u001b[39mmin_impurity_decrease,\n\u001b[1;32m    <a href='file:///Users/elijahflomen/miniforge3/lib/python3.9/site-packages/sklearn/tree/_classes.py?line=417'>418</a>\u001b[0m     )\n\u001b[0;32m--> <a href='file:///Users/elijahflomen/miniforge3/lib/python3.9/site-packages/sklearn/tree/_classes.py?line=419'>420</a>\u001b[0m builder\u001b[39m.\u001b[39;49mbuild(\u001b[39mself\u001b[39;49m\u001b[39m.\u001b[39;49mtree_, X, y, sample_weight)\n\u001b[1;32m    <a href='file:///Users/elijahflomen/miniforge3/lib/python3.9/site-packages/sklearn/tree/_classes.py?line=421'>422</a>\u001b[0m \u001b[39mif\u001b[39;00m \u001b[39mself\u001b[39m\u001b[39m.\u001b[39mn_outputs_ \u001b[39m==\u001b[39m \u001b[39m1\u001b[39m \u001b[39mand\u001b[39;00m is_classifier(\u001b[39mself\u001b[39m):\n\u001b[1;32m    <a href='file:///Users/elijahflomen/miniforge3/lib/python3.9/site-packages/sklearn/tree/_classes.py?line=422'>423</a>\u001b[0m     \u001b[39mself\u001b[39m\u001b[39m.\u001b[39mn_classes_ \u001b[39m=\u001b[39m \u001b[39mself\u001b[39m\u001b[39m.\u001b[39mn_classes_[\u001b[39m0\u001b[39m]\n",
      "\u001b[0;31mKeyboardInterrupt\u001b[0m: "
     ]
    }
   ],
   "source": [
    "rf_model = RandomForestClassifier(class_weight=\"balanced\")\n",
    "\n",
    "rf_boost_grid_params = {'n_estimators': [100, 200, 300, 400], \n",
    "                        'max_depth': [4, 6, 8], \n",
    "                        \"min_samples_split\": [2,4,6,8]}\n",
    "\n",
    "# # Fit the random search model\n",
    "grid = RandomizedSearchCV(estimator=rf_model, param_distributions=rf_boost_grid_params, cv=5, scoring=\"roc_auc\", verbose=5, n_iter=10)\n",
    "grid.fit(dev_SMOTE_X, dev_SMOTE_Y)\n",
    "print(f\" Using a random search, the optimal parameters for the XG Boost Tree with SMOTE were found to be {grid.best_params_}, with a top val score of {grid.best_score_}\")"
   ]
  },
  {
   "cell_type": "code",
   "execution_count": null,
   "metadata": {},
   "outputs": [
    {
     "name": "stdout",
     "output_type": "stream",
     "text": [
      "Tuned RF Model has ROC AUC score:  0.5759028176612889\n"
     ]
    },
    {
     "name": "stderr",
     "output_type": "stream",
     "text": [
      "/Users/elijahflomen/miniforge3/lib/python3.9/site-packages/sklearn/utils/deprecation.py:87: FutureWarning: Function plot_confusion_matrix is deprecated; Function `plot_confusion_matrix` is deprecated in 1.0 and will be removed in 1.2. Use one of the class methods: ConfusionMatrixDisplay.from_predictions or ConfusionMatrixDisplay.from_estimator.\n",
      "  warnings.warn(msg, category=FutureWarning)\n"
     ]
    },
    {
     "data": {
      "text/plain": [
       "<sklearn.metrics._plot.confusion_matrix.ConfusionMatrixDisplay at 0x15d41ba90>"
      ]
     },
     "execution_count": 271,
     "metadata": {},
     "output_type": "execute_result"
    },
    {
     "data": {
      "image/png": "[encoded data removed]",
      "text/plain": [
       "<Figure size 432x288 with 2 Axes>"
      ]
     },
     "metadata": {
      "needs_background": "light"
     },
     "output_type": "display_data"
    }
   ],
   "source": [
    "optimal_rf_model = RandomForestClassifier(n_estimators=300, min_samples_split=2, max_depth=8)\n",
    "optimal_rf_model.fit(dev_SMOTE_X, dev_SMOTE_Y)\n",
    "\n",
    "optimal_rf_model_preds = optimal_rf_model.predict(test_X)\n",
    "print(\"Tuned RF Model has ROC AUC score: \", roc_auc_score(test_Y, optimal_rf_model_preds))\n",
    "plot_confusion_matrix(optimal_rf_model, test_X, test_Y)\n"
   ]
  },
  {
   "cell_type": "code",
   "execution_count": null,
   "metadata": {},
   "outputs": [
    {
     "name": "stdout",
     "output_type": "stream",
     "text": [
      "Fitting 5 folds for each of 10 candidates, totalling 50 fits\n",
      "[CV 1/5] END learning_rate=0.23742532921880005, max_depth=5, n_estimators=264, scale_pos_weight=75;, score=0.902 total time=   1.6s\n",
      "[CV 2/5] END learning_rate=0.23742532921880005, max_depth=5, n_estimators=264, scale_pos_weight=75;, score=0.901 total time=   1.5s\n",
      "[CV 3/5] END learning_rate=0.23742532921880005, max_depth=5, n_estimators=264, scale_pos_weight=75;, score=0.912 total time=   1.5s\n",
      "[CV 4/5] END learning_rate=0.23742532921880005, max_depth=5, n_estimators=264, scale_pos_weight=75;, score=0.903 total time=   1.7s\n",
      "[CV 5/5] END learning_rate=0.23742532921880005, max_depth=5, n_estimators=264, scale_pos_weight=75;, score=0.899 total time=   1.5s\n",
      "[CV 1/5] END learning_rate=0.07730457358311023, max_depth=6, n_estimators=264, scale_pos_weight=10;, score=0.886 total time=   1.9s\n",
      "[CV 2/5] END learning_rate=0.07730457358311023, max_depth=6, n_estimators=264, scale_pos_weight=10;, score=0.882 total time=   2.0s\n",
      "[CV 3/5] END learning_rate=0.07730457358311023, max_depth=6, n_estimators=264, scale_pos_weight=10;, score=0.896 total time=   2.0s\n",
      "[CV 4/5] END learning_rate=0.07730457358311023, max_depth=6, n_estimators=264, scale_pos_weight=10;, score=0.879 total time=   2.1s\n",
      "[CV 5/5] END learning_rate=0.07730457358311023, max_depth=6, n_estimators=264, scale_pos_weight=10;, score=0.886 total time=   1.9s\n",
      "[CV 1/5] END learning_rate=0.27096956862739635, max_depth=5, n_estimators=264, scale_pos_weight=50;, score=0.910 total time=   1.7s\n",
      "[CV 2/5] END learning_rate=0.27096956862739635, max_depth=5, n_estimators=264, scale_pos_weight=50;, score=0.909 total time=   1.7s\n",
      "[CV 3/5] END learning_rate=0.27096956862739635, max_depth=5, n_estimators=264, scale_pos_weight=50;, score=0.920 total time=   1.6s\n",
      "[CV 4/5] END learning_rate=0.27096956862739635, max_depth=5, n_estimators=264, scale_pos_weight=50;, score=0.908 total time=   1.6s\n",
      "[CV 5/5] END learning_rate=0.27096956862739635, max_depth=5, n_estimators=264, scale_pos_weight=50;, score=0.912 total time=   1.6s\n",
      "[CV 1/5] END learning_rate=0.27096956862739635, max_depth=4, n_estimators=254, scale_pos_weight=50;, score=0.867 total time=   1.2s\n",
      "[CV 2/5] END learning_rate=0.27096956862739635, max_depth=4, n_estimators=254, scale_pos_weight=50;, score=0.865 total time=   1.4s\n",
      "[CV 3/5] END learning_rate=0.27096956862739635, max_depth=4, n_estimators=254, scale_pos_weight=50;, score=0.874 total time=   2.1s\n",
      "[CV 4/5] END learning_rate=0.27096956862739635, max_depth=4, n_estimators=254, scale_pos_weight=50;, score=0.856 total time=   1.4s\n",
      "[CV 5/5] END learning_rate=0.27096956862739635, max_depth=4, n_estimators=254, scale_pos_weight=50;, score=0.866 total time=   1.5s\n",
      "[CV 1/5] END learning_rate=0.27096956862739635, max_depth=4, n_estimators=253, scale_pos_weight=1;, score=0.865 total time=   1.9s\n",
      "[CV 2/5] END learning_rate=0.27096956862739635, max_depth=4, n_estimators=253, scale_pos_weight=1;, score=0.868 total time=   1.3s\n",
      "[CV 3/5] END learning_rate=0.27096956862739635, max_depth=4, n_estimators=253, scale_pos_weight=1;, score=0.877 total time=   1.2s\n",
      "[CV 4/5] END learning_rate=0.27096956862739635, max_depth=4, n_estimators=253, scale_pos_weight=1;, score=0.861 total time=   1.2s\n",
      "[CV 5/5] END learning_rate=0.27096956862739635, max_depth=4, n_estimators=253, scale_pos_weight=1;, score=0.866 total time=   1.2s\n",
      "[CV 1/5] END learning_rate=0.23742532921880005, max_depth=5, n_estimators=253, scale_pos_weight=1;, score=0.904 total time=   1.5s\n",
      "[CV 2/5] END learning_rate=0.23742532921880005, max_depth=5, n_estimators=253, scale_pos_weight=1;, score=0.899 total time=   1.5s\n",
      "[CV 3/5] END learning_rate=0.23742532921880005, max_depth=5, n_estimators=253, scale_pos_weight=1;, score=0.913 total time=   1.5s\n",
      "[CV 4/5] END learning_rate=0.23742532921880005, max_depth=5, n_estimators=253, scale_pos_weight=1;, score=0.902 total time=   1.4s\n",
      "[CV 5/5] END learning_rate=0.23742532921880005, max_depth=5, n_estimators=253, scale_pos_weight=1;, score=0.903 total time=   1.4s\n",
      "[CV 1/5] END learning_rate=0.07730457358311023, max_depth=4, n_estimators=253, scale_pos_weight=1;, score=0.786 total time=   1.1s\n",
      "[CV 2/5] END learning_rate=0.07730457358311023, max_depth=4, n_estimators=253, scale_pos_weight=1;, score=0.783 total time=   1.1s\n",
      "[CV 3/5] END learning_rate=0.07730457358311023, max_depth=4, n_estimators=253, scale_pos_weight=1;, score=0.797 total time=   1.1s\n",
      "[CV 4/5] END learning_rate=0.07730457358311023, max_depth=4, n_estimators=253, scale_pos_weight=1;, score=0.773 total time=   1.2s\n",
      "[CV 5/5] END learning_rate=0.07730457358311023, max_depth=4, n_estimators=253, scale_pos_weight=1;, score=0.786 total time=   1.2s\n",
      "[CV 1/5] END learning_rate=0.07730457358311023, max_depth=5, n_estimators=253, scale_pos_weight=75;, score=0.828 total time=   1.8s\n",
      "[CV 2/5] END learning_rate=0.07730457358311023, max_depth=5, n_estimators=253, scale_pos_weight=75;, score=0.832 total time=   1.6s\n",
      "[CV 3/5] END learning_rate=0.07730457358311023, max_depth=5, n_estimators=253, scale_pos_weight=75;, score=0.839 total time=   1.6s\n",
      "[CV 4/5] END learning_rate=0.07730457358311023, max_depth=5, n_estimators=253, scale_pos_weight=75;, score=0.827 total time=   1.6s\n",
      "[CV 5/5] END learning_rate=0.07730457358311023, max_depth=5, n_estimators=253, scale_pos_weight=75;, score=0.836 total time=   1.5s\n",
      "[CV 1/5] END learning_rate=0.098377193208489, max_depth=6, n_estimators=380, scale_pos_weight=25;, score=0.914 total time=   2.6s\n",
      "[CV 2/5] END learning_rate=0.098377193208489, max_depth=6, n_estimators=380, scale_pos_weight=25;, score=0.915 total time=   2.5s\n",
      "[CV 3/5] END learning_rate=0.098377193208489, max_depth=6, n_estimators=380, scale_pos_weight=25;, score=0.924 total time=   2.7s\n",
      "[CV 4/5] END learning_rate=0.098377193208489, max_depth=6, n_estimators=380, scale_pos_weight=25;, score=0.909 total time=   2.7s\n",
      "[CV 5/5] END learning_rate=0.098377193208489, max_depth=6, n_estimators=380, scale_pos_weight=25;, score=0.912 total time=   2.9s\n",
      "[CV 1/5] END learning_rate=0.23742532921880005, max_depth=6, n_estimators=253, scale_pos_weight=10;, score=0.936 total time=   1.8s\n",
      "[CV 2/5] END learning_rate=0.23742532921880005, max_depth=6, n_estimators=253, scale_pos_weight=10;, score=0.932 total time=   1.8s\n",
      "[CV 3/5] END learning_rate=0.23742532921880005, max_depth=6, n_estimators=253, scale_pos_weight=10;, score=0.940 total time=   1.9s\n",
      "[CV 4/5] END learning_rate=0.23742532921880005, max_depth=6, n_estimators=253, scale_pos_weight=10;, score=0.931 total time=   1.9s\n",
      "[CV 5/5] END learning_rate=0.23742532921880005, max_depth=6, n_estimators=253, scale_pos_weight=10;, score=0.933 total time=   1.8s\n",
      " Using a random search, the optimal parameters for the XG Boost Tree with Class Weights were found to be {'scale_pos_weight': 10, 'n_estimators': 253, 'max_depth': 6, 'learning_rate': 0.23742532921880005}, with a top val score of 0.9344014529081963\n"
     ]
    }
   ],
   "source": [
    "xg_boost_model = XGBClassifier(use_label_encoder=False, eval_metric=\"mlogloss\")\n",
    "\n",
    "xg_boost_grid_params = {'n_estimators': np.random.randint(100,400,4), \n",
    "                        'max_depth': np.random.randint(1,10,3), \n",
    "                        \"learning_rate\": np.random.uniform(0.01, 0.3, 4),\n",
    "                        \"scale_pos_weight\": [1,10,25,50,75,99]}\n",
    "\n",
    "\n",
    "# # Fit the random search model\n",
    "grid = RandomizedSearchCV(estimator=xg_boost_model, param_distributions=xg_boost_grid_params, cv=5, scoring=\"roc_auc\", verbose=5, n_iter=10)\n",
    "grid.fit(dev_ROS_X, dev_ROS_Y)\n",
    "print(f\" Using a random search, the optimal parameters for the XG Boost Tree with Class Weights were found to be {grid.best_params_}, with a top val score of {grid.best_score_}\")"
   ]
  },
  {
   "cell_type": "code",
   "execution_count": null,
   "metadata": {},
   "outputs": [
    {
     "name": "stdout",
     "output_type": "stream",
     "text": [
      "Tuned XG Model has f1 score:  0.7561659192825112\n"
     ]
    },
    {
     "name": "stderr",
     "output_type": "stream",
     "text": [
      "/Users/elijahflomen/miniforge3/lib/python3.9/site-packages/sklearn/utils/deprecation.py:87: FutureWarning: Function plot_confusion_matrix is deprecated; Function `plot_confusion_matrix` is deprecated in 1.0 and will be removed in 1.2. Use one of the class methods: ConfusionMatrixDisplay.from_predictions or ConfusionMatrixDisplay.from_estimator.\n",
      "  warnings.warn(msg, category=FutureWarning)\n"
     ]
    },
    {
     "data": {
      "text/plain": [
       "<AxesSubplot:title={'center':'Feature importance'}, xlabel='F score', ylabel='Features'>"
      ]
     },
     "execution_count": 279,
     "metadata": {},
     "output_type": "execute_result"
    },
    {
     "data": {
      "image/png": "[encoded data removed]",
      "text/plain": [
       "<Figure size 432x288 with 2 Axes>"
      ]
     },
     "metadata": {
      "needs_background": "light"
     },
     "output_type": "display_data"
    },
    {
     "data": {
      "image/png": "[encoded data removed]",
      "text/plain": [
       "<Figure size 432x288 with 1 Axes>"
      ]
     },
     "metadata": {
      "needs_background": "light"
     },
     "output_type": "display_data"
    }
   ],
   "source": [
    "optimal_XG_model = XGBClassifier(n_estimators=253, max_depth=6, learning_rate=0.23742532921880005)\n",
    "optimal_XG_model.fit(dev_ROS_X, dev_ROS_Y)\n",
    "optimal_XG_model_preds = optimal_XG_model.predict(test_X)\n",
    "print(\"Tuned XG Model has f1 score: \", accuracy_score(test_Y, optimal_XG_model_preds))\n",
    "plot_confusion_matrix(optimal_XG_model, test_X, test_Y)\n",
    "plot_importance(optimal_XG_model)"
   ]
  },
  {
   "cell_type": "code",
   "execution_count": null,
   "metadata": {},
   "outputs": [],
   "source": [
    "# visualization\n"
   ]
  }
 ],
 "metadata": {
  "interpreter": {
   "hash": "e876919fc5c3e66711ba6d537c9b85fa7db18633fa5b08df3a2ed870f4a0b619"
  },
  "kernelspec": {
   "display_name": "Python 3.9.7",
   "language": "python",
   "name": "python3"
  },
  "language_info": {
   "codemirror_mode": {
    "name": "ipython",
    "version": 3
   },
   "file_extension": ".py",
   "mimetype": "text/x-python",
   "name": "python",
   "nbconvert_exporter": "python",
   "pygments_lexer": "ipython3",
   "version": "3.9.10"
  },
  "orig_nbformat": 4
 },
 "nbformat": 4,
 "nbformat_minor": 2
}
