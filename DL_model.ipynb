{
  "cells": [
    {
      "cell_type": "markdown",
      "metadata": {
        "id": "Z-GMayK_Cneu"
      },
      "source": [
        "# Model training"
      ]
    },
    {
      "cell_type": "code",
      "execution_count": 166,
      "metadata": {
        "colab": {
          "base_uri": "https://localhost:8080/",
          "height": 317
        },
        "id": "Rh7wx5KeCnev",
        "outputId": "c1b24803-531a-4196-c170-af1a7bc7e995"
      },
      "outputs": [
        {
          "data": {
            "text/html": [
              "\n",
              "  <div id=\"df-d35fc9c0-a376-4a36-98df-c2bfd8003d86\">\n",
              "    <div class=\"colab-df-container\">\n",
              "      <div>\n",
              "<style scoped>\n",
              "    .dataframe tbody tr th:only-of-type {\n",
              "        vertical-align: middle;\n",
              "    }\n",
              "\n",
              "    .dataframe tbody tr th {\n",
              "        vertical-align: top;\n",
              "    }\n",
              "\n",
              "    .dataframe thead th {\n",
              "        text-align: right;\n",
              "    }\n",
              "</style>\n",
              "<table border=\"1\" class=\"dataframe\">\n",
              "  <thead>\n",
              "    <tr style=\"text-align: right;\">\n",
              "      <th></th>\n",
              "      <th>Unnamed: 0</th>\n",
              "      <th>CAMIS</th>\n",
              "      <th>ZIPCODE</th>\n",
              "      <th>CUISINE DESCRIPTION</th>\n",
              "      <th>GRADE</th>\n",
              "      <th>ClosestWorkingTankDis</th>\n",
              "      <th>ClosestBadTankDis</th>\n",
              "      <th>BORO_Bronx</th>\n",
              "      <th>BORO_Brooklyn</th>\n",
              "      <th>BORO_Manhattan</th>\n",
              "      <th>...</th>\n",
              "      <th>BORO_Staten Island</th>\n",
              "      <th>RESULT</th>\n",
              "      <th>Pop</th>\n",
              "      <th>White</th>\n",
              "      <th>Black</th>\n",
              "      <th>Hispanic</th>\n",
              "      <th>Native</th>\n",
              "      <th>Asian</th>\n",
              "      <th>Inc</th>\n",
              "      <th>Unemp</th>\n",
              "    </tr>\n",
              "  </thead>\n",
              "  <tbody>\n",
              "    <tr>\n",
              "      <th>0</th>\n",
              "      <td>0</td>\n",
              "      <td>30112340</td>\n",
              "      <td>2.801389</td>\n",
              "      <td>2.913240</td>\n",
              "      <td>3.0</td>\n",
              "      <td>0.226460</td>\n",
              "      <td>4.392523</td>\n",
              "      <td>0.0</td>\n",
              "      <td>1.0</td>\n",
              "      <td>0.0</td>\n",
              "      <td>...</td>\n",
              "      <td>0.0</td>\n",
              "      <td>0.0</td>\n",
              "      <td>2501.0</td>\n",
              "      <td>12.2</td>\n",
              "      <td>63.2</td>\n",
              "      <td>18.4</td>\n",
              "      <td>2.4</td>\n",
              "      <td>1.6</td>\n",
              "      <td>35028.0</td>\n",
              "      <td>11.5</td>\n",
              "    </tr>\n",
              "    <tr>\n",
              "      <th>1</th>\n",
              "      <td>1</td>\n",
              "      <td>30112340</td>\n",
              "      <td>2.801389</td>\n",
              "      <td>2.913240</td>\n",
              "      <td>2.0</td>\n",
              "      <td>0.226460</td>\n",
              "      <td>4.392523</td>\n",
              "      <td>0.0</td>\n",
              "      <td>1.0</td>\n",
              "      <td>0.0</td>\n",
              "      <td>...</td>\n",
              "      <td>0.0</td>\n",
              "      <td>0.0</td>\n",
              "      <td>2501.0</td>\n",
              "      <td>12.2</td>\n",
              "      <td>63.2</td>\n",
              "      <td>18.4</td>\n",
              "      <td>2.4</td>\n",
              "      <td>1.6</td>\n",
              "      <td>35028.0</td>\n",
              "      <td>11.5</td>\n",
              "    </tr>\n",
              "    <tr>\n",
              "      <th>2</th>\n",
              "      <td>2</td>\n",
              "      <td>30191841</td>\n",
              "      <td>2.831125</td>\n",
              "      <td>2.814634</td>\n",
              "      <td>3.0</td>\n",
              "      <td>0.004614</td>\n",
              "      <td>1.120030</td>\n",
              "      <td>0.0</td>\n",
              "      <td>0.0</td>\n",
              "      <td>1.0</td>\n",
              "      <td>...</td>\n",
              "      <td>0.0</td>\n",
              "      <td>0.0</td>\n",
              "      <td>5195.0</td>\n",
              "      <td>72.9</td>\n",
              "      <td>3.6</td>\n",
              "      <td>8.4</td>\n",
              "      <td>0.0</td>\n",
              "      <td>12.3</td>\n",
              "      <td>141678.0</td>\n",
              "      <td>4.7</td>\n",
              "    </tr>\n",
              "    <tr>\n",
              "      <th>3</th>\n",
              "      <td>3</td>\n",
              "      <td>30191841</td>\n",
              "      <td>2.831125</td>\n",
              "      <td>2.814634</td>\n",
              "      <td>3.0</td>\n",
              "      <td>0.004614</td>\n",
              "      <td>1.120030</td>\n",
              "      <td>0.0</td>\n",
              "      <td>0.0</td>\n",
              "      <td>1.0</td>\n",
              "      <td>...</td>\n",
              "      <td>0.0</td>\n",
              "      <td>0.0</td>\n",
              "      <td>5195.0</td>\n",
              "      <td>72.9</td>\n",
              "      <td>3.6</td>\n",
              "      <td>8.4</td>\n",
              "      <td>0.0</td>\n",
              "      <td>12.3</td>\n",
              "      <td>141678.0</td>\n",
              "      <td>4.7</td>\n",
              "    </tr>\n",
              "    <tr>\n",
              "      <th>4</th>\n",
              "      <td>4</td>\n",
              "      <td>40356018</td>\n",
              "      <td>2.868895</td>\n",
              "      <td>2.834724</td>\n",
              "      <td>3.0</td>\n",
              "      <td>0.315359</td>\n",
              "      <td>9.367778</td>\n",
              "      <td>0.0</td>\n",
              "      <td>1.0</td>\n",
              "      <td>0.0</td>\n",
              "      <td>...</td>\n",
              "      <td>0.0</td>\n",
              "      <td>0.0</td>\n",
              "      <td>2185.0</td>\n",
              "      <td>38.0</td>\n",
              "      <td>2.2</td>\n",
              "      <td>40.8</td>\n",
              "      <td>0.0</td>\n",
              "      <td>19.1</td>\n",
              "      <td>20040.0</td>\n",
              "      <td>12.2</td>\n",
              "    </tr>\n",
              "  </tbody>\n",
              "</table>\n",
              "<p>5 rows × 21 columns</p>\n",
              "</div>\n",
              "      <button class=\"colab-df-convert\" onclick=\"convertToInteractive('df-d35fc9c0-a376-4a36-98df-c2bfd8003d86')\"\n",
              "              title=\"Convert this dataframe to an interactive table.\"\n",
              "              style=\"display:none;\">\n",
              "        \n",
              "  <svg xmlns=\"http://www.w3.org/2000/svg\" height=\"24px\"viewBox=\"0 0 24 24\"\n",
              "       width=\"24px\">\n",
              "    <path d=\"M0 0h24v24H0V0z\" fill=\"none\"/>\n",
              "    <path d=\"M18.56 5.44l.94 2.06.94-2.06 2.06-.94-2.06-.94-.94-2.06-.94 2.06-2.06.94zm-11 1L8.5 8.5l.94-2.06 2.06-.94-2.06-.94L8.5 2.5l-.94 2.06-2.06.94zm10 10l.94 2.06.94-2.06 2.06-.94-2.06-.94-.94-2.06-.94 2.06-2.06.94z\"/><path d=\"M17.41 7.96l-1.37-1.37c-.4-.4-.92-.59-1.43-.59-.52 0-1.04.2-1.43.59L10.3 9.45l-7.72 7.72c-.78.78-.78 2.05 0 2.83L4 21.41c.39.39.9.59 1.41.59.51 0 1.02-.2 1.41-.59l7.78-7.78 2.81-2.81c.8-.78.8-2.07 0-2.86zM5.41 20L4 18.59l7.72-7.72 1.47 1.35L5.41 20z\"/>\n",
              "  </svg>\n",
              "      </button>\n",
              "      \n",
              "  <style>\n",
              "    .colab-df-container {\n",
              "      display:flex;\n",
              "      flex-wrap:wrap;\n",
              "      gap: 12px;\n",
              "    }\n",
              "\n",
              "    .colab-df-convert {\n",
              "      background-color: #E8F0FE;\n",
              "      border: none;\n",
              "      border-radius: 50%;\n",
              "      cursor: pointer;\n",
              "      display: none;\n",
              "      fill: #1967D2;\n",
              "      height: 32px;\n",
              "      padding: 0 0 0 0;\n",
              "      width: 32px;\n",
              "    }\n",
              "\n",
              "    .colab-df-convert:hover {\n",
              "      background-color: #E2EBFA;\n",
              "      box-shadow: 0px 1px 2px rgba(60, 64, 67, 0.3), 0px 1px 3px 1px rgba(60, 64, 67, 0.15);\n",
              "      fill: #174EA6;\n",
              "    }\n",
              "\n",
              "    [theme=dark] .colab-df-convert {\n",
              "      background-color: #3B4455;\n",
              "      fill: #D2E3FC;\n",
              "    }\n",
              "\n",
              "    [theme=dark] .colab-df-convert:hover {\n",
              "      background-color: #434B5C;\n",
              "      box-shadow: 0px 1px 3px 1px rgba(0, 0, 0, 0.15);\n",
              "      filter: drop-shadow(0px 1px 2px rgba(0, 0, 0, 0.3));\n",
              "      fill: #FFFFFF;\n",
              "    }\n",
              "  </style>\n",
              "\n",
              "      <script>\n",
              "        const buttonEl =\n",
              "          document.querySelector('#df-d35fc9c0-a376-4a36-98df-c2bfd8003d86 button.colab-df-convert');\n",
              "        buttonEl.style.display =\n",
              "          google.colab.kernel.accessAllowed ? 'block' : 'none';\n",
              "\n",
              "        async function convertToInteractive(key) {\n",
              "          const element = document.querySelector('#df-d35fc9c0-a376-4a36-98df-c2bfd8003d86');\n",
              "          const dataTable =\n",
              "            await google.colab.kernel.invokeFunction('convertToInteractive',\n",
              "                                                     [key], {});\n",
              "          if (!dataTable) return;\n",
              "\n",
              "          const docLinkHtml = 'Like what you see? Visit the ' +\n",
              "            '<a target=\"_blank\" href=https://colab.research.google.com/notebooks/data_table.ipynb>data table notebook</a>'\n",
              "            + ' to learn more about interactive tables.';\n",
              "          element.innerHTML = '';\n",
              "          dataTable['output_type'] = 'display_data';\n",
              "          await google.colab.output.renderOutput(dataTable, element);\n",
              "          const docLink = document.createElement('div');\n",
              "          docLink.innerHTML = docLinkHtml;\n",
              "          element.appendChild(docLink);\n",
              "        }\n",
              "      </script>\n",
              "    </div>\n",
              "  </div>\n",
              "  "
            ],
            "text/plain": [
              "   Unnamed: 0     CAMIS   ZIPCODE  CUISINE DESCRIPTION  GRADE  \\\n",
              "0           0  30112340  2.801389             2.913240    3.0   \n",
              "1           1  30112340  2.801389             2.913240    2.0   \n",
              "2           2  30191841  2.831125             2.814634    3.0   \n",
              "3           3  30191841  2.831125             2.814634    3.0   \n",
              "4           4  40356018  2.868895             2.834724    3.0   \n",
              "\n",
              "   ClosestWorkingTankDis  ClosestBadTankDis  BORO_Bronx  BORO_Brooklyn  \\\n",
              "0               0.226460           4.392523         0.0            1.0   \n",
              "1               0.226460           4.392523         0.0            1.0   \n",
              "2               0.004614           1.120030         0.0            0.0   \n",
              "3               0.004614           1.120030         0.0            0.0   \n",
              "4               0.315359           9.367778         0.0            1.0   \n",
              "\n",
              "   BORO_Manhattan  ...  BORO_Staten Island  RESULT     Pop  White  Black  \\\n",
              "0             0.0  ...                 0.0     0.0  2501.0   12.2   63.2   \n",
              "1             0.0  ...                 0.0     0.0  2501.0   12.2   63.2   \n",
              "2             1.0  ...                 0.0     0.0  5195.0   72.9    3.6   \n",
              "3             1.0  ...                 0.0     0.0  5195.0   72.9    3.6   \n",
              "4             0.0  ...                 0.0     0.0  2185.0   38.0    2.2   \n",
              "\n",
              "   Hispanic  Native  Asian       Inc  Unemp  \n",
              "0      18.4     2.4    1.6   35028.0   11.5  \n",
              "1      18.4     2.4    1.6   35028.0   11.5  \n",
              "2       8.4     0.0   12.3  141678.0    4.7  \n",
              "3       8.4     0.0   12.3  141678.0    4.7  \n",
              "4      40.8     0.0   19.1   20040.0   12.2  \n",
              "\n",
              "[5 rows x 21 columns]"
            ]
          },
          "execution_count": 166,
          "metadata": {},
          "output_type": "execute_result"
        }
      ],
      "source": [
        "import pandas as pd\n",
        "import numpy as np\n",
        "import seaborn as sn\n",
        "import matplotlib.pyplot as plt\n",
        "\n",
        "from sklearn.preprocessing import OneHotEncoder\n",
        "from sklearn.model_selection import train_test_split\n",
        "\n",
        "from sklearn.metrics import accuracy_score\n",
        "from sklearn.metrics import confusion_matrix\n",
        "from sklearn.metrics import plot_confusion_matrix\n",
        "\n",
        "from sklearn.utils.class_weight import compute_sample_weight\n",
        "\n",
        "from sklearn.linear_model import LogisticRegression\n",
        "\n",
        "from sklearn.model_selection import cross_validate\n",
        "from sklearn.model_selection import RandomizedSearchCV\n",
        "\n",
        "from imblearn.under_sampling import RandomUnderSampler\n",
        "from imblearn.over_sampling import SMOTE\n",
        "from imblearn.over_sampling import RandomOverSampler\n",
        "from imblearn.pipeline import make_pipeline as imb_make_pipeline\n",
        "from  sklearn.preprocessing import StandardScaler\n",
        "ss=StandardScaler()\n",
        "#df_final = pd.read_csv(\"preprocessed_data/RestWaterRodent_data.csv\")\n",
        "df_try = pd.read_csv(\"preprocessed_data/data_for_model.csv\")\n",
        "df_try.head()"
      ]
    },
    {
      "cell_type": "code",
      "execution_count": 167,
      "metadata": {
        "id": "ccCd34gLCnev"
      },
      "outputs": [],
      "source": [
        "# Keep columns not for training as metadata\n",
        "#print(df_final.shape)\n",
        "#meta_final = df_final[['CAMIS', 'GRADE DATE', 'VIOLATION CODE','ClosestWorkingTankDate', 'ClosestBadTankDate', 'PREV_GRADE DATE', 'INSPECTION_DATE']]\n",
        "# data for model training\n",
        "# data = df_final.drop(columns=['CAMIS', 'GRADE DATE', 'VIOLATION CODE','ClosestWorkingTankDate', 'ClosestBadTankDate', 'PREV_GRADE DATE', 'INSPECTION_DATE'])\n",
        "data = df_try.drop(columns=['CAMIS'])"
      ]
    },
    {
      "cell_type": "markdown",
      "metadata": {
        "id": "rtULev0AvoyP"
      },
      "source": [
        "# New Section"
      ]
    },
    {
      "cell_type": "code",
      "execution_count": 168,
      "metadata": {
        "id": "GU-hrkGsxk9F"
      },
      "outputs": [],
      "source": [
        "#We can see here that the classes are grade 1 and grade 2\n",
        "# data['GRADE'] = data['GRADE'].map({3.0: 2, 2.0 : 1,1.0:1})\n",
        "data['GRADE'] = data['GRADE'].map({3.0: 0, 2.0 : 1,1.0:1})\n",
        "pd.unique(data['GRADE'])\n",
        "from sklearn.linear_model import LinearRegression\n",
        "import matplotlib.pyplot as plt\n",
        "y=data['GRADE']\n",
        "#X=data.drop(['Unnamed: 0','BBL','CRITICAL FLAG_Not Critical','GRADE','RECENCY'],axis=1)\n",
        "#data[['Asian','Black','Pop','Black','Inc','Unemp']]=ss.fit_transform(data[['Asian','Black','Pop','Black','Inc','Unemp']])\n",
        "X=data.drop(['Unnamed: 0','GRADE'],axis=1)\n",
        "from sklearn.model_selection import train_test_split\n",
        "X_train, X_test,y_train,y_test= train_test_split(X, y, test_size=0.2) "
      ]
    },
    {
      "cell_type": "code",
      "execution_count": 169,
      "metadata": {
        "id": "s_h8nAuszq7b"
      },
      "outputs": [],
      "source": [
        "##data = pd.concat([data.drop('PREV_GRADE', axis=1), pd.get_dummies(data['PREV_GRADE'])], axis=1)"
      ]
    },
    {
      "cell_type": "code",
      "execution_count": 170,
      "metadata": {
        "id": "KU2p7G3Czqp0"
      },
      "outputs": [],
      "source": [
        "#data.drop(['RECENCY',0.0,1.0,2.0,3.0], axis=0)"
      ]
    },
    {
      "cell_type": "code",
      "execution_count": 171,
      "metadata": {
        "id": "5humSDmPUxsN"
      },
      "outputs": [],
      "source": [
        "#StandardScaler\n",
        "X_train[['Asian','Black','Pop','Black','Inc','Unemp']]=ss.fit_transform(X_train[['Asian','Black','Pop','Black','Inc','Unemp']])\n",
        "X_test[['Asian','Black','Pop','Black','Inc','Unemp']]=ss.transform(X_test[['Asian','Black','Pop','Black','Inc','Unemp']])"
      ]
    },
    {
      "cell_type": "code",
      "execution_count": 172,
      "metadata": {
        "id": "FhAIly-IdZhF"
      },
      "outputs": [],
      "source": [
        "#Smote on train\n",
        "sm=SMOTE()\n",
        "X_train,y_train=sm.fit_resample(X_train,y_train)"
      ]
    },
    {
      "cell_type": "code",
      "execution_count": 173,
      "metadata": {
        "id": "xOaMk2s7Cnew"
      },
      "outputs": [],
      "source": [
        "# train_test_split\n",
        "import tensorflow.keras\n",
        "from keras.utils import np_utils\n",
        "y_train=np.asarray(y_train)\n",
        "y_train_new=np_utils.to_categorical(y_train)\n",
        "y_train=y_train.astype('int')"
      ]
    },
    {
      "cell_type": "code",
      "execution_count": 220,
      "metadata": {
        "id": "kEWTYajmCnex"
      },
      "outputs": [],
      "source": [
        "# build model/\n",
        "#We used two nodes (even though was possible with just 1 output node and sigmoid) so that we could adapt previous code\n",
        "#Therefore we decided to use softmax as the output  function\n",
        "import keras\n",
        "from tensorflow.keras import layers\n",
        "from keras.layers import Activation, Dense\n",
        "model=keras.Sequential([\n",
        "    Dense(325,input_shape=(18,),activation='relu'),\n",
        "    Dense(144,activation= 'relu'),\n",
        "    Dense(32,activation= 'relu'),\n",
        "    Dense(2,activation='softmax')\n",
        "])\n",
        "# validation\n",
        "model.compile('adam','categorical_crossentropy','accuracy')\n",
        "X_train=np.asarray(X_train)\n",
        "y_train_new=np.asarray(y_train_new)\n",
        "# X_trainn, X_valn,y_trainn,y_valn= train_test_split(X_train, y_train_new, test_size=0.2,stratify=y_train_new)\n",
        "X_trainn, X_valn,y_trainn,y_valn= train_test_split(X_train, y_train_new, test_size=0.2) "
      ]
    },
    {
      "cell_type": "code",
      "execution_count": 221,
      "metadata": {
        "colab": {
          "base_uri": "https://localhost:8080/"
        },
        "id": "ddbOjS1UCnex",
        "outputId": "9c366a5d-05a1-4039-e14f-ca28c4a28d1e"
      },
      "outputs": [
        {
          "name": "stdout",
          "output_type": "stream",
          "text": [
            "Epoch 1/20\n",
            "800/800 [==============================] - 3s 4ms/step - loss: 0.6973 - accuracy: 0.5398 - val_loss: 0.6849 - val_accuracy: 0.5557\n",
            "Epoch 2/20\n",
            "800/800 [==============================] - 3s 3ms/step - loss: 0.6856 - accuracy: 0.5542 - val_loss: 0.6819 - val_accuracy: 0.5584\n",
            "Epoch 3/20\n",
            "800/800 [==============================] - 3s 3ms/step - loss: 0.6847 - accuracy: 0.5532 - val_loss: 0.6815 - val_accuracy: 0.5637\n",
            "Epoch 4/20\n",
            "800/800 [==============================] - 3s 3ms/step - loss: 0.6841 - accuracy: 0.5565 - val_loss: 0.6809 - val_accuracy: 0.5544\n",
            "Epoch 5/20\n",
            "800/800 [==============================] - 3s 3ms/step - loss: 0.6837 - accuracy: 0.5561 - val_loss: 0.6786 - val_accuracy: 0.5673\n",
            "Epoch 6/20\n",
            "800/800 [==============================] - 3s 3ms/step - loss: 0.6830 - accuracy: 0.5575 - val_loss: 0.6773 - val_accuracy: 0.5654\n",
            "Epoch 7/20\n",
            "800/800 [==============================] - 3s 4ms/step - loss: 0.6816 - accuracy: 0.5618 - val_loss: 0.6783 - val_accuracy: 0.5659\n",
            "Epoch 8/20\n",
            "800/800 [==============================] - 3s 4ms/step - loss: 0.6795 - accuracy: 0.5656 - val_loss: 0.6737 - val_accuracy: 0.5736\n",
            "Epoch 9/20\n",
            "800/800 [==============================] - 3s 3ms/step - loss: 0.6770 - accuracy: 0.5708 - val_loss: 0.6738 - val_accuracy: 0.5747\n",
            "Epoch 10/20\n",
            "800/800 [==============================] - 3s 3ms/step - loss: 0.6738 - accuracy: 0.5753 - val_loss: 0.6705 - val_accuracy: 0.5797\n",
            "Epoch 11/20\n",
            "800/800 [==============================] - 3s 3ms/step - loss: 0.6696 - accuracy: 0.5816 - val_loss: 0.6652 - val_accuracy: 0.5890\n",
            "Epoch 12/20\n",
            "800/800 [==============================] - 3s 4ms/step - loss: 0.6653 - accuracy: 0.5850 - val_loss: 0.6610 - val_accuracy: 0.5907\n",
            "Epoch 13/20\n",
            "800/800 [==============================] - 3s 4ms/step - loss: 0.6627 - accuracy: 0.5884 - val_loss: 0.6581 - val_accuracy: 0.5911\n",
            "Epoch 14/20\n",
            "800/800 [==============================] - 3s 4ms/step - loss: 0.6581 - accuracy: 0.5943 - val_loss: 0.6571 - val_accuracy: 0.5971\n",
            "Epoch 15/20\n",
            "800/800 [==============================] - 3s 4ms/step - loss: 0.6543 - accuracy: 0.5996 - val_loss: 0.6567 - val_accuracy: 0.5995\n",
            "Epoch 16/20\n",
            "800/800 [==============================] - 3s 4ms/step - loss: 0.6512 - accuracy: 0.6019 - val_loss: 0.6472 - val_accuracy: 0.6075\n",
            "Epoch 17/20\n",
            "800/800 [==============================] - 3s 3ms/step - loss: 0.6472 - accuracy: 0.6052 - val_loss: 0.6420 - val_accuracy: 0.6121\n",
            "Epoch 18/20\n",
            "800/800 [==============================] - 3s 3ms/step - loss: 0.6420 - accuracy: 0.6128 - val_loss: 0.6413 - val_accuracy: 0.6131\n",
            "Epoch 19/20\n",
            "800/800 [==============================] - 3s 3ms/step - loss: 0.6383 - accuracy: 0.6178 - val_loss: 0.6343 - val_accuracy: 0.6247\n",
            "Epoch 20/20\n",
            "800/800 [==============================] - 3s 3ms/step - loss: 0.6329 - accuracy: 0.6218 - val_loss: 0.6315 - val_accuracy: 0.6272\n"
          ]
        }
      ],
      "source": [
        "# visualization\n",
        "hist=model.fit(X_trainn,y_trainn,validation_data=(X_valn,y_valn),epochs=20,batch_size=64)"
      ]
    },
    {
      "cell_type": "code",
      "execution_count": 222,
      "metadata": {
        "colab": {
          "base_uri": "https://localhost:8080/",
          "height": 313
        },
        "id": "6UTzh-2NCnex",
        "outputId": "b398f48e-c03b-4128-dd8d-566af568f65c"
      },
      "outputs": [
        {
          "data": {
            "text/plain": [
              "Text(0, 0.5, 'loss')"
            ]
          },
          "execution_count": 222,
          "metadata": {},
          "output_type": "execute_result"
        },
        {
          "data": {
            "image/png": "[encoded data removed]",
            "text/plain": [
              "<Figure size 432x288 with 1 Axes>"
            ]
          },
          "metadata": {
            "needs_background": "light"
          },
          "output_type": "display_data"
        }
      ],
      "source": [
        "import pandas as pd\n",
        "#No consistent sign of overfitting.\n",
        "history=pd.DataFrame(hist.history)\n",
        "fig,ax=plt.subplots()\n",
        "plt.title('Loss validation and training')\n",
        "line1=ax.plot(history.index, history['loss'],label='Training')\n",
        "line2=ax.plot(history.index, history['val_loss'],label=\"Validation\")\n",
        "ax.legend()\n",
        "ax.set_xlabel('epoch')\n",
        "ax.set_ylabel('loss')"
      ]
    },
    {
      "cell_type": "code",
      "execution_count": 223,
      "metadata": {
        "colab": {
          "base_uri": "https://localhost:8080/",
          "height": 313
        },
        "id": "kDGc9B-fDgsR",
        "outputId": "5870114a-ac62-48f6-b9e0-774a1f2243c0"
      },
      "outputs": [
        {
          "data": {
            "text/plain": [
              "Text(0, 0.5, 'accuracy')"
            ]
          },
          "execution_count": 223,
          "metadata": {},
          "output_type": "execute_result"
        },
        {
          "data": {
            "image/png": "[encoded data removed]",
            "text/plain": [
              "<Figure size 432x288 with 1 Axes>"
            ]
          },
          "metadata": {
            "needs_background": "light"
          },
          "output_type": "display_data"
        }
      ],
      "source": [
        "fig,ax=plt.subplots()\n",
        "ax.plot(history.index, history['accuracy'],label='Training')\n",
        "ax.plot(history.index,history['val_accuracy'],label='Validation')\n",
        "plt.title('Accuracy validation and training')\n",
        "ax.set_xlabel('epoch')\n",
        "ax.set_ylabel('accuracy')"
      ]
    },
    {
      "cell_type": "code",
      "execution_count": 224,
      "metadata": {
        "colab": {
          "base_uri": "https://localhost:8080/"
        },
        "id": "y7t1qY0gUuy6",
        "outputId": "c500f1dd-a08a-4989-d9ea-3c82a4c54810"
      },
      "outputs": [
        {
          "data": {
            "text/plain": [
              "11102    0\n",
              "13108    0\n",
              "20353    0\n",
              "39135    1\n",
              "2680     1\n",
              "        ..\n",
              "25625    0\n",
              "29748    0\n",
              "28599    0\n",
              "19705    0\n",
              "20140    1\n",
              "Name: GRADE, Length: 8958, dtype: int64"
            ]
          },
          "execution_count": 224,
          "metadata": {},
          "output_type": "execute_result"
        }
      ],
      "source": [
        "#y_test=y_test-1\n",
        "y_test"
      ]
    },
    {
      "cell_type": "code",
      "execution_count": 225,
      "metadata": {
        "colab": {
          "base_uri": "https://localhost:8080/",
          "height": 948
        },
        "id": "gq-EGnX7DiWt",
        "outputId": "6ed64777-edf3-463b-b16a-baab251f8324"
      },
      "outputs": [
        {
          "data": {
            "image/png": "[encoded data removed]",
            "text/plain": [
              "<Figure size 1152x1152 with 2 Axes>"
            ]
          },
          "metadata": {
            "needs_background": "light"
          },
          "output_type": "display_data"
        }
      ],
      "source": [
        "import sklearn.metrics\n",
        "from sklearn.metrics import confusion_matrix\n",
        "import seaborn as sn\n",
        "ypred=model.predict(X_test)\n",
        "matrix=confusion_matrix(y_test,ypred.argmax(axis=1))\n",
        "plt.figure(figsize=(16,16))\n",
        "ax=sn.heatmap(matrix,annot=True)\n",
        "ax.set_title(\"Confusion Matrix\")\n",
        "ax.set_xlabel('Predicted Values')\n",
        "ax.set_ylabel('Actual Values ');\n",
        "#Unfortunately it is still very hard to predict the minority class!"
      ]
    },
    {
      "cell_type": "code",
      "execution_count": 226,
      "metadata": {
        "colab": {
          "base_uri": "https://localhost:8080/"
        },
        "id": "Pp9m3WUlKRIr",
        "outputId": "9b4f11cf-5d4e-4d00-d0d3-b2235d5b2d14"
      },
      "outputs": [
        {
          "name": "stdout",
          "output_type": "stream",
          "text": [
            "0.6291582942621121\n"
          ]
        }
      ],
      "source": [
        "accuracy=(matrix[0][0]+matrix[1][1])/np.sum(matrix)\n",
        "print(accuracy)\n",
        "ypred=ypred.argmax(axis=1)"
      ]
    },
    {
      "cell_type": "code",
      "execution_count": 227,
      "metadata": {
        "colab": {
          "base_uri": "https://localhost:8080/"
        },
        "id": "SYD6sTBuK6BH",
        "outputId": "1756146c-2b27-469b-b85a-5c2d54878ab0"
      },
      "outputs": [
        {
          "data": {
            "text/plain": [
              "0.5746732860353619"
            ]
          },
          "execution_count": 227,
          "metadata": {},
          "output_type": "execute_result"
        }
      ],
      "source": [
        "from sklearn.metrics import roc_auc_score\n",
        "roc_auc_score(y_test,ypred)\n",
        "#Best achieved at 0.58"
      ]
    },
    {
      "cell_type": "code",
      "execution_count": 227,
      "metadata": {
        "id": "2IcioqPIbNhL"
      },
      "outputs": [],
      "source": []
    }
  ],
  "metadata": {
    "colab": {
      "name": "model_training.ipynb",
      "provenance": []
    },
    "kernelspec": {
      "display_name": "project",
      "language": "python",
      "name": "project"
    },
    "language_info": {
      "codemirror_mode": {
        "name": "ipython",
        "version": 3
      },
      "file_extension": ".py",
      "mimetype": "text/x-python",
      "name": "python",
      "nbconvert_exporter": "python",
      "pygments_lexer": "ipython3",
      "version": "3.9.7"
    }
  },
  "nbformat": 4,
  "nbformat_minor": 0
}
