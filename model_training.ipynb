{
 "cells": [
  {
   "cell_type": "markdown",
   "metadata": {},
   "source": [
    "# Model training"
   ]
  },
  {
   "cell_type": "code",
   "execution_count": 188,
   "metadata": {},
   "outputs": [],
   "source": [
    "import pandas as pd\n",
    "import numpy as np\n",
    "import seaborn as sn\n",
    "import matplotlib.pyplot as plt\n",
    "\n",
    "from category_encoders import TargetEncoder\n",
    "from sklearn.preprocessing import OneHotEncoder\n",
    "from sklearn.preprocessing import StandardScaler\n",
    "from sklearn.model_selection import train_test_split\n",
    "\n",
    "from xgboost import XGBRFRegressor\n",
    "from xgboost import XGBClassifier\n",
    "\n",
    "from sklearn.metrics import accuracy_score\n",
    "from sklearn.metrics import confusion_matrix\n",
    "from sklearn.metrics import plot_confusion_matrix\n",
    "from sklearn.metrics import f1_score\n",
    "\n",
    "\n",
    "from sklearn.utils.class_weight import compute_sample_weight\n",
    "\n",
    "from sklearn.linear_model import LogisticRegression\n",
    "\n",
    "from sklearn.model_selection import cross_validate\n",
    "from sklearn.model_selection import RandomizedSearchCV\n",
    "\n",
    "from imblearn.over_sampling import SMOTE\n",
    "from imblearn.over_sampling import RandomOverSampler\n",
    "from imblearn.pipeline import make_pipeline as imb_make_pipeline"
   ]
  },
  {
   "cell_type": "code",
   "execution_count": 227,
   "metadata": {},
   "outputs": [
    {
     "data": {
      "text/plain": [
       "Index(['Unnamed: 0', 'CAMIS', 'GRADE DATE', 'ZIPCODE', 'CUISINE DESCRIPTION',\n",
       "       'VIOLATION CODE', 'GRADE', 'BBL', 'ClosestWorkingTankDis',\n",
       "       'ClosestBadTankDis', 'BORO_Bronx', 'BORO_Brooklyn', 'BORO_Manhattan',\n",
       "       'BORO_Queens', 'BORO_Staten Island', 'CRITICAL FLAG_Not Critical',\n",
       "       'ClosestWorkingTankDate', 'ClosestBadTankDate', 'INSPECTION_DATE',\n",
       "       'RESULT'],\n",
       "      dtype='object')"
      ]
     },
     "execution_count": 227,
     "metadata": {},
     "output_type": "execute_result"
    }
   ],
   "source": [
    "df_final = pd.read_csv(\"RestWaterRodent_data.csv.zip\")"
   ]
  },
  {
   "cell_type": "code",
   "execution_count": 219,
   "metadata": {},
   "outputs": [
    {
     "name": "stdout",
     "output_type": "stream",
     "text": [
      "(56449, 20)\n",
      "Index(['Unnamed: 0', 'CAMIS', 'GRADE DATE', 'ZIPCODE', 'CUISINE DESCRIPTION',\n",
      "       'VIOLATION CODE', 'GRADE', 'BBL', 'ClosestWorkingTankDis',\n",
      "       'ClosestBadTankDis', 'BORO_Bronx', 'BORO_Brooklyn', 'BORO_Manhattan',\n",
      "       'BORO_Queens', 'BORO_Staten Island', 'CRITICAL FLAG_Not Critical',\n",
      "       'ClosestWorkingTankDate', 'ClosestBadTankDate', 'INSPECTION_DATE',\n",
      "       'RESULT'],\n",
      "      dtype='object')\n"
     ]
    },
    {
     "data": {
      "text/html": [
       "<div>\n",
       "<style scoped>\n",
       "    .dataframe tbody tr th:only-of-type {\n",
       "        vertical-align: middle;\n",
       "    }\n",
       "\n",
       "    .dataframe tbody tr th {\n",
       "        vertical-align: top;\n",
       "    }\n",
       "\n",
       "    .dataframe thead th {\n",
       "        text-align: right;\n",
       "    }\n",
       "</style>\n",
       "<table border=\"1\" class=\"dataframe\">\n",
       "  <thead>\n",
       "    <tr style=\"text-align: right;\">\n",
       "      <th></th>\n",
       "      <th>ZIPCODE</th>\n",
       "      <th>CUISINE DESCRIPTION</th>\n",
       "      <th>ClosestWorkingTankDis</th>\n",
       "      <th>ClosestBadTankDis</th>\n",
       "      <th>BORO_Bronx</th>\n",
       "      <th>BORO_Brooklyn</th>\n",
       "      <th>BORO_Manhattan</th>\n",
       "      <th>BORO_Queens</th>\n",
       "      <th>BORO_Staten Island</th>\n",
       "      <th>RESULT</th>\n",
       "      <th>GRADE</th>\n",
       "    </tr>\n",
       "  </thead>\n",
       "  <tbody>\n",
       "    <tr>\n",
       "      <th>0</th>\n",
       "      <td>2.876777</td>\n",
       "      <td>2.778831</td>\n",
       "      <td>0.484806</td>\n",
       "      <td>7.207183</td>\n",
       "      <td>1.0</td>\n",
       "      <td>0.0</td>\n",
       "      <td>0.0</td>\n",
       "      <td>0.0</td>\n",
       "      <td>0.0</td>\n",
       "      <td>NaN</td>\n",
       "      <td>3.0</td>\n",
       "    </tr>\n",
       "    <tr>\n",
       "      <th>1</th>\n",
       "      <td>2.876777</td>\n",
       "      <td>2.778831</td>\n",
       "      <td>0.484806</td>\n",
       "      <td>7.207183</td>\n",
       "      <td>1.0</td>\n",
       "      <td>0.0</td>\n",
       "      <td>0.0</td>\n",
       "      <td>0.0</td>\n",
       "      <td>0.0</td>\n",
       "      <td>NaN</td>\n",
       "      <td>3.0</td>\n",
       "    </tr>\n",
       "    <tr>\n",
       "      <th>2</th>\n",
       "      <td>2.876777</td>\n",
       "      <td>2.778831</td>\n",
       "      <td>0.484806</td>\n",
       "      <td>7.207183</td>\n",
       "      <td>1.0</td>\n",
       "      <td>0.0</td>\n",
       "      <td>0.0</td>\n",
       "      <td>0.0</td>\n",
       "      <td>0.0</td>\n",
       "      <td>NaN</td>\n",
       "      <td>3.0</td>\n",
       "    </tr>\n",
       "    <tr>\n",
       "      <th>3</th>\n",
       "      <td>2.801389</td>\n",
       "      <td>2.913240</td>\n",
       "      <td>0.226460</td>\n",
       "      <td>4.392523</td>\n",
       "      <td>0.0</td>\n",
       "      <td>1.0</td>\n",
       "      <td>0.0</td>\n",
       "      <td>0.0</td>\n",
       "      <td>0.0</td>\n",
       "      <td>0.0</td>\n",
       "      <td>3.0</td>\n",
       "    </tr>\n",
       "    <tr>\n",
       "      <th>4</th>\n",
       "      <td>2.801389</td>\n",
       "      <td>2.913240</td>\n",
       "      <td>0.226460</td>\n",
       "      <td>4.392523</td>\n",
       "      <td>0.0</td>\n",
       "      <td>1.0</td>\n",
       "      <td>0.0</td>\n",
       "      <td>0.0</td>\n",
       "      <td>0.0</td>\n",
       "      <td>0.0</td>\n",
       "      <td>2.0</td>\n",
       "    </tr>\n",
       "  </tbody>\n",
       "</table>\n",
       "</div>"
      ],
      "text/plain": [
       "    ZIPCODE  CUISINE DESCRIPTION  ClosestWorkingTankDis  ClosestBadTankDis  \\\n",
       "0  2.876777             2.778831               0.484806           7.207183   \n",
       "1  2.876777             2.778831               0.484806           7.207183   \n",
       "2  2.876777             2.778831               0.484806           7.207183   \n",
       "3  2.801389             2.913240               0.226460           4.392523   \n",
       "4  2.801389             2.913240               0.226460           4.392523   \n",
       "\n",
       "   BORO_Bronx  BORO_Brooklyn  BORO_Manhattan  BORO_Queens  BORO_Staten Island  \\\n",
       "0         1.0            0.0             0.0          0.0                 0.0   \n",
       "1         1.0            0.0             0.0          0.0                 0.0   \n",
       "2         1.0            0.0             0.0          0.0                 0.0   \n",
       "3         0.0            1.0             0.0          0.0                 0.0   \n",
       "4         0.0            1.0             0.0          0.0                 0.0   \n",
       "\n",
       "   RESULT  GRADE  \n",
       "0     NaN    3.0  \n",
       "1     NaN    3.0  \n",
       "2     NaN    3.0  \n",
       "3     0.0    3.0  \n",
       "4     0.0    2.0  "
      ]
     },
     "execution_count": 219,
     "metadata": {},
     "output_type": "execute_result"
    }
   ],
   "source": [
    "# Keep columns not for training as metadata\n",
    "print(df_final.shape)\n",
    "# meta_final = df_final[['CAMIS', 'GRADE DATE', 'VIOLATION CODE','ClosestWorkingTankDate', 'ClosestBadTankDate', 'PREV_GRADE DATE', 'INSPECTION_DATE']]\n",
    "\n",
    "# data for model training\n",
    "data = df_final[[\"ZIPCODE\", \n",
    "                 \"CUISINE DESCRIPTION\", \n",
    "                 \"ClosestWorkingTankDis\", \n",
    "                 \"ClosestBadTankDis\", \n",
    "                 \"BORO_Bronx\",\n",
    "                 \"BORO_Brooklyn\",\n",
    "                 \"BORO_Manhattan\",\n",
    "                 \"BORO_Queens\",\n",
    "                 \"BORO_Staten Island\",\n",
    "                 \"RESULT\",\n",
    "                 \"GRADE\"\n",
    "                 ]]\n",
    "data.head()"
   ]
  },
  {
   "cell_type": "code",
   "execution_count": 222,
   "metadata": {},
   "outputs": [
    {
     "name": "stderr",
     "output_type": "stream",
     "text": [
      "/var/folders/cy/jnrmf1615fdcrhvg9x4t1s9w0000gn/T/ipykernel_44972/2741377900.py:2: SettingWithCopyWarning: \n",
      "A value is trying to be set on a copy of a slice from a DataFrame\n",
      "\n",
      "See the caveats in the documentation: https://pandas.pydata.org/pandas-docs/stable/user_guide/indexing.html#returning-a-view-versus-a-copy\n",
      "  data.loc[data['GRADE'] == 1, 'GRADE'] = 1\n",
      "/var/folders/cy/jnrmf1615fdcrhvg9x4t1s9w0000gn/T/ipykernel_44972/2741377900.py:3: SettingWithCopyWarning: \n",
      "A value is trying to be set on a copy of a slice from a DataFrame\n",
      "\n",
      "See the caveats in the documentation: https://pandas.pydata.org/pandas-docs/stable/user_guide/indexing.html#returning-a-view-versus-a-copy\n",
      "  data.loc[data['GRADE'] == 2, \"GRADE\"] = 1\n",
      "/var/folders/cy/jnrmf1615fdcrhvg9x4t1s9w0000gn/T/ipykernel_44972/2741377900.py:4: SettingWithCopyWarning: \n",
      "A value is trying to be set on a copy of a slice from a DataFrame\n",
      "\n",
      "See the caveats in the documentation: https://pandas.pydata.org/pandas-docs/stable/user_guide/indexing.html#returning-a-view-versus-a-copy\n",
      "  data.loc[data['GRADE'] == 3, \"GRADE\"] = 0\n"
     ]
    },
    {
     "data": {
      "text/html": [
       "<div>\n",
       "<style scoped>\n",
       "    .dataframe tbody tr th:only-of-type {\n",
       "        vertical-align: middle;\n",
       "    }\n",
       "\n",
       "    .dataframe tbody tr th {\n",
       "        vertical-align: top;\n",
       "    }\n",
       "\n",
       "    .dataframe thead th {\n",
       "        text-align: right;\n",
       "    }\n",
       "</style>\n",
       "<table border=\"1\" class=\"dataframe\">\n",
       "  <thead>\n",
       "    <tr style=\"text-align: right;\">\n",
       "      <th></th>\n",
       "      <th>ZIPCODE</th>\n",
       "      <th>CUISINE DESCRIPTION</th>\n",
       "      <th>ClosestWorkingTankDis</th>\n",
       "      <th>ClosestBadTankDis</th>\n",
       "      <th>BORO_Bronx</th>\n",
       "      <th>BORO_Brooklyn</th>\n",
       "      <th>BORO_Manhattan</th>\n",
       "      <th>BORO_Queens</th>\n",
       "      <th>BORO_Staten Island</th>\n",
       "      <th>RESULT</th>\n",
       "      <th>GRADE</th>\n",
       "    </tr>\n",
       "  </thead>\n",
       "  <tbody>\n",
       "    <tr>\n",
       "      <th>54707</th>\n",
       "      <td>2.849024</td>\n",
       "      <td>2.885072</td>\n",
       "      <td>0.154976</td>\n",
       "      <td>3.399063</td>\n",
       "      <td>0.0</td>\n",
       "      <td>1.0</td>\n",
       "      <td>0.0</td>\n",
       "      <td>0.0</td>\n",
       "      <td>0.0</td>\n",
       "      <td>0.0</td>\n",
       "      <td>0.0</td>\n",
       "    </tr>\n",
       "    <tr>\n",
       "      <th>13856</th>\n",
       "      <td>2.670737</td>\n",
       "      <td>2.778831</td>\n",
       "      <td>0.162700</td>\n",
       "      <td>4.996674</td>\n",
       "      <td>0.0</td>\n",
       "      <td>0.0</td>\n",
       "      <td>0.0</td>\n",
       "      <td>1.0</td>\n",
       "      <td>0.0</td>\n",
       "      <td>0.0</td>\n",
       "      <td>0.0</td>\n",
       "    </tr>\n",
       "    <tr>\n",
       "      <th>55278</th>\n",
       "      <td>2.876777</td>\n",
       "      <td>2.832645</td>\n",
       "      <td>0.260804</td>\n",
       "      <td>7.411024</td>\n",
       "      <td>1.0</td>\n",
       "      <td>0.0</td>\n",
       "      <td>0.0</td>\n",
       "      <td>0.0</td>\n",
       "      <td>0.0</td>\n",
       "      <td>0.0</td>\n",
       "      <td>0.0</td>\n",
       "    </tr>\n",
       "    <tr>\n",
       "      <th>22629</th>\n",
       "      <td>2.784988</td>\n",
       "      <td>2.885072</td>\n",
       "      <td>0.000456</td>\n",
       "      <td>0.870361</td>\n",
       "      <td>0.0</td>\n",
       "      <td>0.0</td>\n",
       "      <td>1.0</td>\n",
       "      <td>0.0</td>\n",
       "      <td>0.0</td>\n",
       "      <td>0.0</td>\n",
       "      <td>0.0</td>\n",
       "    </tr>\n",
       "    <tr>\n",
       "      <th>28139</th>\n",
       "      <td>2.776629</td>\n",
       "      <td>2.689030</td>\n",
       "      <td>1.161435</td>\n",
       "      <td>7.563288</td>\n",
       "      <td>0.0</td>\n",
       "      <td>1.0</td>\n",
       "      <td>0.0</td>\n",
       "      <td>0.0</td>\n",
       "      <td>0.0</td>\n",
       "      <td>0.0</td>\n",
       "      <td>0.0</td>\n",
       "    </tr>\n",
       "  </tbody>\n",
       "</table>\n",
       "</div>"
      ],
      "text/plain": [
       "        ZIPCODE  CUISINE DESCRIPTION  ClosestWorkingTankDis  \\\n",
       "54707  2.849024             2.885072               0.154976   \n",
       "13856  2.670737             2.778831               0.162700   \n",
       "55278  2.876777             2.832645               0.260804   \n",
       "22629  2.784988             2.885072               0.000456   \n",
       "28139  2.776629             2.689030               1.161435   \n",
       "\n",
       "       ClosestBadTankDis  BORO_Bronx  BORO_Brooklyn  BORO_Manhattan  \\\n",
       "54707           3.399063         0.0            1.0             0.0   \n",
       "13856           4.996674         0.0            0.0             0.0   \n",
       "55278           7.411024         1.0            0.0             0.0   \n",
       "22629           0.870361         0.0            0.0             1.0   \n",
       "28139           7.563288         0.0            1.0             0.0   \n",
       "\n",
       "       BORO_Queens  BORO_Staten Island  RESULT  GRADE  \n",
       "54707          0.0                 0.0     0.0    0.0  \n",
       "13856          1.0                 0.0     0.0    0.0  \n",
       "55278          0.0                 0.0     0.0    0.0  \n",
       "22629          0.0                 0.0     0.0    0.0  \n",
       "28139          0.0                 0.0     0.0    0.0  "
      ]
     },
     "execution_count": 222,
     "metadata": {},
     "output_type": "execute_result"
    }
   ],
   "source": [
    "# Train test split\n",
    "data.loc[data['GRADE'] == 1, 'GRADE'] = 1\n",
    "data.loc[data['GRADE'] == 2, \"GRADE\"] = 1\n",
    "data.loc[data['GRADE'] == 3, \"GRADE\"] = 0\n",
    "\n",
    "dev, test = train_test_split(data, test_size=0.2, random_state=42)\n",
    "# train, val = train_test_split(dev, test_size=0.2, random_state=42)\n",
    "\n",
    "dev_Y = dev[\"GRADE\"].astype(int)\n",
    "# train_Y = train[\"GRADE\"].astype(int)\n",
    "# val_Y = val[\"GRADE\"].astype(int)\n",
    "test_Y = test[\"GRADE\"].astype(int)\n",
    "\n",
    "dev_X = dev.drop(columns=[\"GRADE\"])\n",
    "test_X = test.drop(columns=[\"GRADE\"])\n",
    "\n",
    "# scaling recency\n",
    "scaler = StandardScaler()\n",
    "\n",
    "# dev_X[\"RECENCY\"] = scaler.fit_transform(np.reshape(np.array(dev_X[\"RECENCY\"]), (-1, 1)))\n",
    "# test_X[\"RECENCY\"] = scaler.transform(np.reshape(np.array(test_X[\"RECENCY\"]), (-1, 1)))\n",
    "\n",
    "\n",
    "dev_X[\"ClosestBadTankDis\"] = scaler.fit_transform(np.reshape(np.array(dev_X[\"ClosestBadTankDis\"]), (-1, 1)))\n",
    "test_X[\"ClosestBadTankDis\"] = scaler.transform(np.reshape(np.array(test_X[\"ClosestBadTankDis\"]), (-1, 1)))\n",
    "\n",
    "# Maybe should drop the time-series aspect... makes sampling and validation so complicated\n",
    "\n",
    "# dev_X = dev_X.drop(columns=[\"PREV_GRADE\", \"RECENCY\", \"INSPECTION_DATE\"])\n",
    "# test_X = test_X.drop(columns=[\"PREV_GRADE\", \"RECENCY\"])\n",
    "\n",
    "# Final columns to use for training:\n",
    "# dev_X.head()\n",
    "dev_X = dev_X.fillna(0)\n",
    "test_X = test_X.fillna(0)\n",
    "dev.head()"
   ]
  },
  {
   "cell_type": "markdown",
   "metadata": {},
   "source": [
    "### Baseline Model"
   ]
  },
  {
   "cell_type": "code",
   "execution_count": 223,
   "metadata": {},
   "outputs": [
    {
     "name": "stdout",
     "output_type": "stream",
     "text": [
      "Accuracy from constant prediction model:  0.8930912311780337\n",
      "Macro-F1 from constant prediction model:  0.4717634398540214\n"
     ]
    },
    {
     "data": {
      "text/plain": [
       "<AxesSubplot:>"
      ]
     },
     "execution_count": 223,
     "metadata": {},
     "output_type": "execute_result"
    },
    {
     "data": {
      "image/png": "[encoded data removed]",
      "text/plain": [
       "<Figure size 720x504 with 2 Axes>"
      ]
     },
     "metadata": {
      "needs_background": "light"
     },
     "output_type": "display_data"
    }
   ],
   "source": [
    "# Baseline model -- would just predict 3 everytime\n",
    "constant_pred = np.repeat(0, test.shape[0])\n",
    "base_acc = accuracy_score(constant_pred, test_Y)\n",
    "# base_roc_auc = roc_auc_score(constant_pred, test_Y)\n",
    "print(\"Accuracy from constant prediction model: \", base_acc)\n",
    "print(\"Macro-F1 from constant prediction model: \", f1_score(test_Y, constant_pred, average=\"macro\"))\n",
    "\n",
    "base_conf = confusion_matrix(constant_pred, test_Y)\n",
    "\n",
    "plt.figure(figsize = (10,7))\n",
    "sn.heatmap(base_conf, annot=True,  fmt='g')\n"
   ]
  },
  {
   "cell_type": "markdown",
   "metadata": {},
   "source": [
    "### ROS"
   ]
  },
  {
   "cell_type": "code",
   "execution_count": 224,
   "metadata": {},
   "outputs": [],
   "source": [
    "# resampling or other feature engineering techniques\n",
    "ros = RandomOverSampler()\n",
    "dev_ROS = ros.fit_resample(dev_X, dev_Y)\n",
    "dev_ROS_X = dev_ROS[0]\n",
    "dev_ROS_Y = dev_ROS[1]\n"
   ]
  },
  {
   "cell_type": "markdown",
   "metadata": {},
   "source": [
    "### Lets see how a baseline logistic regression model does on our ROS, SMOTE and class-weighting"
   ]
  },
  {
   "cell_type": "code",
   "execution_count": 225,
   "metadata": {},
   "outputs": [
    {
     "name": "stdout",
     "output_type": "stream",
     "text": [
      "Index(['ZIPCODE', 'CUISINE DESCRIPTION', 'ClosestWorkingTankDis',\n",
      "       'ClosestBadTankDis', 'BORO_Bronx', 'BORO_Brooklyn', 'BORO_Manhattan',\n",
      "       'BORO_Queens', 'BORO_Staten Island', 'RESULT'],\n",
      "      dtype='object')\n",
      "Index(['ZIPCODE', 'CUISINE DESCRIPTION', 'ClosestWorkingTankDis',\n",
      "       'ClosestBadTankDis', 'BORO_Bronx', 'BORO_Brooklyn', 'BORO_Manhattan',\n",
      "       'BORO_Queens', 'BORO_Staten Island', 'RESULT'],\n",
      "      dtype='object')\n",
      "Log. Reg F1 score (SMOTE) 0.503844545150791\n"
     ]
    },
    {
     "name": "stderr",
     "output_type": "stream",
     "text": [
      "/Users/elijahflomen/miniconda3/lib/python3.9/site-packages/sklearn/linear_model/_logistic.py:814: ConvergenceWarning: lbfgs failed to converge (status=1):\n",
      "STOP: TOTAL NO. of ITERATIONS REACHED LIMIT.\n",
      "\n",
      "Increase the number of iterations (max_iter) or scale the data as shown in:\n",
      "    https://scikit-learn.org/stable/modules/preprocessing.html\n",
      "Please also refer to the documentation for alternative solver options:\n",
      "    https://scikit-learn.org/stable/modules/linear_model.html#logistic-regression\n",
      "  n_iter_i = _check_optimize_result(\n",
      "/Users/elijahflomen/miniconda3/lib/python3.9/site-packages/sklearn/utils/deprecation.py:87: FutureWarning: Function plot_confusion_matrix is deprecated; Function `plot_confusion_matrix` is deprecated in 1.0 and will be removed in 1.2. Use one of the class methods: ConfusionMatrixDisplay.from_predictions or ConfusionMatrixDisplay.from_estimator.\n",
      "  warnings.warn(msg, category=FutureWarning)\n"
     ]
    },
    {
     "data": {
      "image/png": "[encoded data removed]",
      "text/plain": [
       "<Figure size 432x288 with 2 Axes>"
      ]
     },
     "metadata": {
      "needs_background": "light"
     },
     "output_type": "display_data"
    }
   ],
   "source": [
    "# validation\n",
    "print(dev_ROS_X.columns)\n",
    "print(test_X.columns)\n",
    "lr_SMOTE = LogisticRegression()\n",
    "lr_SMOTE.fit(dev_ROS_X, dev_ROS_Y)\n",
    "lr_SMOTE_preds = lr_SMOTE.predict(test_X)\n",
    "plot_confusion_matrix(lr_SMOTE, test_X, test_Y)\n",
    "# print(\"Log. Reg ROC AUC score (SMOTE)\", myscore(lr_SMOTE, test_X, test_Y))\n",
    "print(\"Log. Reg F1 score (SMOTE)\", f1_score(test_Y, lr_SMOTE_preds, average=\"macro\"))"
   ]
  },
  {
   "cell_type": "code",
   "execution_count": null,
   "metadata": {},
   "outputs": [],
   "source": [
    "# visualization"
   ]
  }
 ],
 "metadata": {
  "language_info": {
   "name": "python"
  },
  "orig_nbformat": 4
 },
 "nbformat": 4,
 "nbformat_minor": 2
}
