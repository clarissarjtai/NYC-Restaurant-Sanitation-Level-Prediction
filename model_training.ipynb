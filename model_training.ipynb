{
 "cells": [
  {
   "cell_type": "markdown",
   "metadata": {},
   "source": [
    "# Model training"
   ]
  },
  {
   "cell_type": "code",
   "execution_count": 1,
   "metadata": {},
   "outputs": [
    {
     "name": "stderr",
     "output_type": "stream",
     "text": [
      "/Users/elijahflomen/miniconda3/lib/python3.9/site-packages/xgboost/compat.py:36: FutureWarning: pandas.Int64Index is deprecated and will be removed from pandas in a future version. Use pandas.Index with the appropriate dtype instead.\n",
      "  from pandas import MultiIndex, Int64Index\n"
     ]
    }
   ],
   "source": [
    "import pandas as pd\n",
    "import numpy as np\n",
    "import seaborn as sn\n",
    "import matplotlib.pyplot as plt\n",
    "\n",
    "from category_encoders import TargetEncoder\n",
    "from sklearn.preprocessing import OneHotEncoder\n",
    "from sklearn.preprocessing import StandardScaler\n",
    "\n",
    "from sklearn.model_selection import train_test_split\n",
    "\n",
    "from xgboost import XGBRFRegressor\n",
    "from xgboost import XGBClassifier\n",
    "from xgboost import plot_importance\n",
    "\n",
    "from sklearn.metrics import accuracy_score\n",
    "from sklearn.metrics import confusion_matrix\n",
    "from sklearn.metrics import plot_confusion_matrix\n",
    "\n",
    "from sklearn.utils.class_weight import compute_sample_weight\n",
    "\n",
    "from sklearn.linear_model import LogisticRegression\n",
    "\n",
    "from sklearn.model_selection import cross_validate\n",
    "from sklearn.model_selection import RandomizedSearchCV\n",
    "from sklearn.model_selection import GridSearchCV\n",
    "\n",
    "from imblearn.over_sampling import SMOTE\n",
    "from imblearn.over_sampling import RandomOverSampler\n",
    "from imblearn.pipeline import make_pipeline as imb_make_pipeline"
   ]
  },
  {
   "cell_type": "code",
   "execution_count": 2,
   "metadata": {},
   "outputs": [],
   "source": [
    "df_final = pd.read_csv(\"preprocessed_data/RestWaterRodent_data.csv.zip\")"
   ]
  },
  {
   "cell_type": "code",
   "execution_count": 3,
   "metadata": {},
   "outputs": [
    {
     "name": "stdout",
     "output_type": "stream",
     "text": [
      "(36880, 23)\n"
     ]
    },
    {
     "data": {
      "text/html": [
       "<div>\n",
       "<style scoped>\n",
       "    .dataframe tbody tr th:only-of-type {\n",
       "        vertical-align: middle;\n",
       "    }\n",
       "\n",
       "    .dataframe tbody tr th {\n",
       "        vertical-align: top;\n",
       "    }\n",
       "\n",
       "    .dataframe thead th {\n",
       "        text-align: right;\n",
       "    }\n",
       "</style>\n",
       "<table border=\"1\" class=\"dataframe\">\n",
       "  <thead>\n",
       "    <tr style=\"text-align: right;\">\n",
       "      <th></th>\n",
       "      <th>Unnamed: 0</th>\n",
       "      <th>ZIPCODE</th>\n",
       "      <th>CUISINE DESCRIPTION</th>\n",
       "      <th>GRADE</th>\n",
       "      <th>ClosestWorkingTankDis</th>\n",
       "      <th>ClosestBadTankDis</th>\n",
       "      <th>BORO_Bronx</th>\n",
       "      <th>BORO_Brooklyn</th>\n",
       "      <th>BORO_Manhattan</th>\n",
       "      <th>BORO_Queens</th>\n",
       "      <th>BORO_Staten Island</th>\n",
       "      <th>PREV_GRADE</th>\n",
       "      <th>RECENCY</th>\n",
       "      <th>RESULT</th>\n",
       "    </tr>\n",
       "  </thead>\n",
       "  <tbody>\n",
       "    <tr>\n",
       "      <th>0</th>\n",
       "      <td>0</td>\n",
       "      <td>2.876777</td>\n",
       "      <td>2.778831</td>\n",
       "      <td>3.0</td>\n",
       "      <td>0.484806</td>\n",
       "      <td>7.207183</td>\n",
       "      <td>1.0</td>\n",
       "      <td>0.0</td>\n",
       "      <td>0.0</td>\n",
       "      <td>0.0</td>\n",
       "      <td>0.0</td>\n",
       "      <td>0.0</td>\n",
       "      <td>0.0</td>\n",
       "      <td>0.0</td>\n",
       "    </tr>\n",
       "    <tr>\n",
       "      <th>1</th>\n",
       "      <td>1</td>\n",
       "      <td>2.876777</td>\n",
       "      <td>2.778831</td>\n",
       "      <td>3.0</td>\n",
       "      <td>0.484806</td>\n",
       "      <td>7.207183</td>\n",
       "      <td>1.0</td>\n",
       "      <td>0.0</td>\n",
       "      <td>0.0</td>\n",
       "      <td>0.0</td>\n",
       "      <td>0.0</td>\n",
       "      <td>3.0</td>\n",
       "      <td>146.0</td>\n",
       "      <td>0.0</td>\n",
       "    </tr>\n",
       "    <tr>\n",
       "      <th>2</th>\n",
       "      <td>2</td>\n",
       "      <td>2.876777</td>\n",
       "      <td>2.778831</td>\n",
       "      <td>3.0</td>\n",
       "      <td>0.484806</td>\n",
       "      <td>7.207183</td>\n",
       "      <td>1.0</td>\n",
       "      <td>0.0</td>\n",
       "      <td>0.0</td>\n",
       "      <td>0.0</td>\n",
       "      <td>0.0</td>\n",
       "      <td>3.0</td>\n",
       "      <td>645.0</td>\n",
       "      <td>0.0</td>\n",
       "    </tr>\n",
       "    <tr>\n",
       "      <th>3</th>\n",
       "      <td>3</td>\n",
       "      <td>2.801389</td>\n",
       "      <td>2.913240</td>\n",
       "      <td>3.0</td>\n",
       "      <td>0.226460</td>\n",
       "      <td>4.392523</td>\n",
       "      <td>0.0</td>\n",
       "      <td>1.0</td>\n",
       "      <td>0.0</td>\n",
       "      <td>0.0</td>\n",
       "      <td>0.0</td>\n",
       "      <td>0.0</td>\n",
       "      <td>0.0</td>\n",
       "      <td>0.0</td>\n",
       "    </tr>\n",
       "    <tr>\n",
       "      <th>4</th>\n",
       "      <td>4</td>\n",
       "      <td>2.801389</td>\n",
       "      <td>2.913240</td>\n",
       "      <td>2.0</td>\n",
       "      <td>0.226460</td>\n",
       "      <td>4.392523</td>\n",
       "      <td>0.0</td>\n",
       "      <td>1.0</td>\n",
       "      <td>0.0</td>\n",
       "      <td>0.0</td>\n",
       "      <td>0.0</td>\n",
       "      <td>3.0</td>\n",
       "      <td>885.0</td>\n",
       "      <td>0.0</td>\n",
       "    </tr>\n",
       "  </tbody>\n",
       "</table>\n",
       "</div>"
      ],
      "text/plain": [
       "   Unnamed: 0   ZIPCODE  CUISINE DESCRIPTION  GRADE  ClosestWorkingTankDis  \\\n",
       "0           0  2.876777             2.778831    3.0               0.484806   \n",
       "1           1  2.876777             2.778831    3.0               0.484806   \n",
       "2           2  2.876777             2.778831    3.0               0.484806   \n",
       "3           3  2.801389             2.913240    3.0               0.226460   \n",
       "4           4  2.801389             2.913240    2.0               0.226460   \n",
       "\n",
       "   ClosestBadTankDis  BORO_Bronx  BORO_Brooklyn  BORO_Manhattan  BORO_Queens  \\\n",
       "0           7.207183         1.0            0.0             0.0          0.0   \n",
       "1           7.207183         1.0            0.0             0.0          0.0   \n",
       "2           7.207183         1.0            0.0             0.0          0.0   \n",
       "3           4.392523         0.0            1.0             0.0          0.0   \n",
       "4           4.392523         0.0            1.0             0.0          0.0   \n",
       "\n",
       "   BORO_Staten Island  PREV_GRADE  RECENCY  RESULT  \n",
       "0                 0.0         0.0      0.0     0.0  \n",
       "1                 0.0         3.0    146.0     0.0  \n",
       "2                 0.0         3.0    645.0     0.0  \n",
       "3                 0.0         0.0      0.0     0.0  \n",
       "4                 0.0         3.0    885.0     0.0  "
      ]
     },
     "execution_count": 3,
     "metadata": {},
     "output_type": "execute_result"
    }
   ],
   "source": [
    "# Keep columns not for training as metadata\n",
    "print(df_final.shape)\n",
    "meta_final = df_final[['CAMIS', 'GRADE DATE', 'VIOLATION CODE','ClosestWorkingTankDate', 'ClosestBadTankDate', 'PREV_GRADE DATE', 'INSPECTION_DATE']].sort_values(\"INSPECTION_DATE\")\n",
    "\n",
    "# data for model training\n",
    "data = df_final.drop(columns=['CAMIS', \"BBL\", \"CRITICAL FLAG_Not Critical\", 'GRADE DATE', 'VIOLATION CODE','ClosestWorkingTankDate', 'ClosestBadTankDate', 'PREV_GRADE DATE', 'INSPECTION_DATE'])\n",
    "data.head()"
   ]
  },
  {
   "cell_type": "code",
   "execution_count": 4,
   "metadata": {},
   "outputs": [],
   "source": [
    "# train_test_split\n",
    "dev, test = train_test_split(data, test_size=0.2, random_state=42, stratify=data[\"GRADE\"])\n",
    "dev_Y = dev[\"GRADE\"].astype(int)\n",
    "test_Y = test[\"GRADE\"].astype(int)\n",
    "\n",
    "dev_X = dev.drop([\"GRADE\"], axis=1)\n",
    "test_X = test.drop([\"GRADE\"], axis=1)\n",
    "\n",
    "# scaling recency\n",
    "scaler = StandardScaler()\n",
    "\n",
    "dev_X[\"RECENCY\"] = scaler.fit_transform(np.reshape(np.array(dev_X[\"RECENCY\"]), (-1, 1)))\n",
    "test_X[\"RECENCY\"] = scaler.fit_transform(np.reshape(np.array(test_X[\"RECENCY\"]), (-1, 1)))\n"
   ]
  },
  {
   "cell_type": "code",
   "execution_count": 5,
   "metadata": {},
   "outputs": [
    {
     "name": "stdout",
     "output_type": "stream",
     "text": [
      "Accuracy from constant prediction model:  0.8983188720173536\n"
     ]
    },
    {
     "data": {
      "text/plain": [
       "<AxesSubplot:>"
      ]
     },
     "execution_count": 5,
     "metadata": {},
     "output_type": "execute_result"
    },
    {
     "data": {
      "image/png": "[encoded data removed]",
      "text/plain": [
       "<Figure size 720x504 with 2 Axes>"
      ]
     },
     "metadata": {
      "needs_background": "light"
     },
     "output_type": "display_data"
    }
   ],
   "source": [
    "# Baseline model -- would just predict 3 everytime\n",
    "\n",
    "constant_pred = np.repeat(3, test.shape[0])\n",
    "constant_pred = np.repeat(3, test.shape[0])\n",
    "\n",
    "base_acc = accuracy_score(constant_pred, test_Y)\n",
    "print(\"Accuracy from constant prediction model: \", base_acc)\n",
    "base_conf = confusion_matrix(constant_pred, test_Y)\n",
    "\n",
    "plt.figure(figsize = (10,7))\n",
    "sn.heatmap(base_conf, annot=True,  fmt='g')\n"
   ]
  },
  {
   "cell_type": "code",
   "execution_count": 6,
   "metadata": {},
   "outputs": [],
   "source": [
    "# resampling or other feature engineering techniques\n",
    "sm = SMOTE()\n",
    "dev_SMOTE = sm.fit_resample(dev_X, dev_Y)\n",
    "dev_SMOTE_X = dev_SMOTE[0]\n",
    "dev_SMOTE_Y = dev_SMOTE[1]"
   ]
  },
  {
   "cell_type": "code",
   "execution_count": 7,
   "metadata": {},
   "outputs": [
    {
     "name": "stderr",
     "output_type": "stream",
     "text": [
      "/Users/elijahflomen/miniconda3/lib/python3.9/site-packages/xgboost/sklearn.py:1224: UserWarning: The use of label encoder in XGBClassifier is deprecated and will be removed in a future release. To remove this warning, do the following: 1) Pass option use_label_encoder=False when constructing XGBClassifier object; and 2) Encode your labels (y) as integers starting with 0, i.e. 0, 1, 2, ..., [num_class - 1].\n",
      "  warnings.warn(label_encoder_deprecation_msg, UserWarning)\n",
      "/Users/elijahflomen/miniconda3/lib/python3.9/site-packages/xgboost/data.py:250: FutureWarning: pandas.Int64Index is deprecated and will be removed from pandas in a future version. Use pandas.Index with the appropriate dtype instead.\n",
      "  elif isinstance(data.columns, (pd.Int64Index, pd.RangeIndex)):\n"
     ]
    },
    {
     "name": "stdout",
     "output_type": "stream",
     "text": [
      "[23:11:47] WARNING: ../src/learner.cc:1115: Starting in XGBoost 1.3.0, the default evaluation metric used with the objective 'multi:softprob' was changed from 'merror' to 'mlogloss'. Explicitly set eval_metric if you'd like to restore the old behavior.\n",
      "Accuracy from default XG Boost: 0.886117136659436\n"
     ]
    },
    {
     "name": "stderr",
     "output_type": "stream",
     "text": [
      "/Users/elijahflomen/miniconda3/lib/python3.9/site-packages/sklearn/utils/deprecation.py:87: FutureWarning: Function plot_confusion_matrix is deprecated; Function `plot_confusion_matrix` is deprecated in 1.0 and will be removed in 1.2. Use one of the class methods: ConfusionMatrixDisplay.from_predictions or ConfusionMatrixDisplay.from_estimator.\n",
      "  warnings.warn(msg, category=FutureWarning)\n"
     ]
    },
    {
     "data": {
      "text/plain": [
       "<sklearn.metrics._plot.confusion_matrix.ConfusionMatrixDisplay at 0x1360a7dc0>"
      ]
     },
     "execution_count": 7,
     "metadata": {},
     "output_type": "execute_result"
    },
    {
     "data": {
      "image/png": "[encoded data removed]",
      "text/plain": [
       "<Figure size 432x288 with 2 Axes>"
      ]
     },
     "metadata": {
      "needs_background": "light"
     },
     "output_type": "display_data"
    }
   ],
   "source": [
    "# build model\n",
    "xg = XGBClassifier()\n",
    "xg.fit(dev_SMOTE_X, dev_SMOTE_Y)\n",
    "preds = xg.predict(test_X)\n",
    "xg_acc = accuracy_score(test_Y, preds)\n",
    "print(\"Accuracy from default XG Boost:\", xg_acc)\n",
    "plot_confusion_matrix(xg, test_X, test_Y)"
   ]
  },
  {
   "cell_type": "code",
   "execution_count": 9,
   "metadata": {},
   "outputs": [
    {
     "name": "stdout",
     "output_type": "stream",
     "text": [
      "Untuned XGBoost model has a performance of : 0.886117136659436\n"
     ]
    },
    {
     "ename": "AttributeError",
     "evalue": "'GridSearchCV' object has no attribute 'best_params_'",
     "output_type": "error",
     "traceback": [
      "\u001b[0;31m---------------------------------------------------------------------------\u001b[0m",
      "\u001b[0;31mAttributeError\u001b[0m                            Traceback (most recent call last)",
      "\u001b[0;32m/var/folders/cy/jnrmf1615fdcrhvg9x4t1s9w0000gn/T/ipykernel_24628/1906468971.py\u001b[0m in \u001b[0;36m<module>\u001b[0;34m\u001b[0m\n\u001b[1;32m     10\u001b[0m \u001b[0;31m# # Fit the random search model\u001b[0m\u001b[0;34m\u001b[0m\u001b[0;34m\u001b[0m\u001b[0m\n\u001b[1;32m     11\u001b[0m \u001b[0;34m\u001b[0m\u001b[0m\n\u001b[0;32m---> 12\u001b[0;31m \u001b[0mprint\u001b[0m\u001b[0;34m(\u001b[0m\u001b[0;34mf\" The optimal XG Boost params were found to be {xg_boost_rand.best_params_}, with a validation score of {xg_boost_rand.best_score_}\"\u001b[0m\u001b[0;34m)\u001b[0m\u001b[0;34m\u001b[0m\u001b[0;34m\u001b[0m\u001b[0m\n\u001b[0m\u001b[1;32m     13\u001b[0m \u001b[0mplot_confusion_matrix\u001b[0m\u001b[0;34m(\u001b[0m\u001b[0mxg_boost_rand\u001b[0m\u001b[0;34m,\u001b[0m \u001b[0mtest_X\u001b[0m\u001b[0;34m,\u001b[0m \u001b[0mtest_Y\u001b[0m\u001b[0;34m)\u001b[0m\u001b[0;34m\u001b[0m\u001b[0;34m\u001b[0m\u001b[0m\n",
      "\u001b[0;31mAttributeError\u001b[0m: 'GridSearchCV' object has no attribute 'best_params_'"
     ]
    }
   ],
   "source": [
    "# validation\n",
    "xg_boost_model = XGBClassifier(eval_metric='logloss')\n",
    "xg_boost_model.fit(dev_SMOTE_X, dev_SMOTE_Y)\n",
    "xg_bost_score = xg_boost_model.score(test_X, test_Y)\n",
    "print(f\"Untuned XGBoost model has a performance of : {xg_bost_score}\")\n",
    "\n",
    "xg_boost_grid_params = {'n_estimators': [100, 200, 300], 'learning_rate': [0.05, 0.1, 0.3], 'max_depth': [2, 4, 6]}\n",
    "\n",
    "xg_boost_rand = GridSearchCV(estimator = xg_boost_model, param_grid= xg_boost_grid_params, verbose=5, cv=5)\n",
    "# # Fit the random search model\n",
    "xg_boost_rand.fit(dev_SMOTE_X, dev_SMOTE_Y)\n",
    "\n",
    "print(f\" The optimal XG Boost params were found to be {xg_boost_rand.best_params_}, with a validation score of {xg_boost_rand.best_score_}\")\n",
    "plot_confusion_matrix(xg_boost_rand, test_X, test_Y)"
   ]
  },
  {
   "cell_type": "code",
   "execution_count": null,
   "metadata": {},
   "outputs": [
    {
     "name": "stdout",
     "output_type": "stream",
     "text": [
      "[22:56:07] WARNING: ../src/learner.cc:1115: Starting in XGBoost 1.3.0, the default evaluation metric used with the objective 'multi:softprob' was changed from 'merror' to 'mlogloss'. Explicitly set eval_metric if you'd like to restore the old behavior.\n"
     ]
    }
   ],
   "source": [
    "optimal_xg = XGBClassifier(eta = 0.05, max_depth = 6, n_estimators= 100)\n",
    "optimal_xg = optimal_xg.fit(dev_SMOTE_X, dev_SMOTE_Y)"
   ]
  },
  {
   "cell_type": "code",
   "execution_count": null,
   "metadata": {},
   "outputs": [
    {
     "data": {
      "text/plain": [
       "<AxesSubplot:title={'center':'Feature importance'}, xlabel='F score', ylabel='Features'>"
      ]
     },
     "execution_count": 71,
     "metadata": {},
     "output_type": "execute_result"
    },
    {
     "data": {
      "image/png": "[encoded data removed]",
      "text/plain": [
       "<Figure size 432x288 with 1 Axes>"
      ]
     },
     "metadata": {
      "needs_background": "light"
     },
     "output_type": "display_data"
    }
   ],
   "source": [
    "plot_importance(optimal_xg)"
   ]
  },
  {
   "cell_type": "code",
   "execution_count": null,
   "metadata": {},
   "outputs": [],
   "source": [
    "# visualization"
   ]
  }
 ],
 "metadata": {
  "interpreter": {
   "hash": "e876919fc5c3e66711ba6d537c9b85fa7db18633fa5b08df3a2ed870f4a0b619"
  },
  "kernelspec": {
   "display_name": "Python 3.9.7",
   "language": "python",
   "name": "python3"
  },
  "language_info": {
   "codemirror_mode": {
    "name": "ipython",
    "version": 3
   },
   "file_extension": ".py",
   "mimetype": "text/x-python",
   "name": "python",
   "nbconvert_exporter": "python",
   "pygments_lexer": "ipython3",
   "version": "3.9.7"
  },
  "orig_nbformat": 4
 },
 "nbformat": 4,
 "nbformat_minor": 2
}
