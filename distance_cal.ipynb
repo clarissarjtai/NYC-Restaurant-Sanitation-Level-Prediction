{
 "cells": [
  {
   "cell_type": "code",
   "execution_count": 1,
   "id": "c65ccb46",
   "metadata": {},
   "outputs": [],
   "source": [
    "import numpy as np\n",
    "import pandas as pd\n",
    "import seaborn as sns\n",
    "import matplotlib.pyplot as plt\n",
    "from numpy.linalg import inv\n",
    "import folium\n",
    "from folium import plugins\n",
    "%matplotlib inline"
   ]
  },
  {
   "cell_type": "code",
   "execution_count": 31,
   "id": "1c788a32",
   "metadata": {},
   "outputs": [],
   "source": [
    "water_tank = pd.read_csv('data/Self-Reported_Drinking_Water_Tank_Inspection_Results.csv')\n",
    "fea = ['BIN','BOROUGH','ZIP','STREET_NAME','BLOCK', 'LOT','CONFIRMATION_NUM','REPORTING_YEAR',\\\n",
    "                              'INSPECTION_DATE','MEET_STANDARDS','LATITUDE','LONGITUDE','BBL']\n",
    "water_tank_clean = water_tank[fea].dropna()\n",
    "df_2020_c = water_tank_clean[water_tank_clean.REPORTING_YEAR >= 2020]\n",
    "df_2020_c = df_2020_c[df_2020_c.MEET_STANDARDS == 'Y']\n",
    "df_2020_c.index = np.arange(0,len(df_2020_c.index))"
   ]
  },
  {
   "cell_type": "code",
   "execution_count": 32,
   "id": "163c690e",
   "metadata": {},
   "outputs": [],
   "source": [
    "restaurant_csv_path = \"data/DOHMH_New_York_City_Restaurant_Inspection_Results.csv\"\n",
    "df_insp = pd.read_csv(restaurant_csv_path).copy()\n",
    "df_insp = df_insp.dropna()\n",
    "df_insp.index = np.arange(0,len(df_insp.index))"
   ]
  },
  {
   "cell_type": "code",
   "execution_count": 33,
   "id": "e2c63136",
   "metadata": {},
   "outputs": [],
   "source": [
    "df_2020_c_sorted = df_2020_c.sort_values(by = ['INSPECTION_DATE'])\n",
    "dup = df_2020_c_sorted.duplicated(subset=['LATITUDE'], keep='first')\n",
    "ind = [not i for i in dup]\n",
    "df_2020_c_uni = df_2020_c_sorted[ind].sort_values(by = ['INSPECTION_DATE'])\n",
    "df_2020_c_uni.index = np.arange(0,len(df_2020_c_uni.index))"
   ]
  },
  {
   "cell_type": "code",
   "execution_count": 53,
   "id": "2bce4984",
   "metadata": {},
   "outputs": [
    {
     "name": "stdout",
     "output_type": "stream",
     "text": [
      "0\n",
      "10000\n",
      "20000\n",
      "30000\n",
      "40000\n",
      "50000\n",
      "60000\n",
      "70000\n",
      "80000\n",
      "90000\n",
      "100000\n",
      "110000\n",
      "120000\n",
      "130000\n",
      "140000\n"
     ]
    }
   ],
   "source": [
    "from geopy.distance import geodesic\n",
    "df_insp['ClosestWorkingTankDis'] = 0\n",
    "df_insp['ClosestWorkingTankDate'] = 'NA'\n",
    "df_insp['ClosestWorkingTankConfirmNum'] = 'NA'\n",
    "\n",
    "df_insp_Lat = df_insp['Latitude']\n",
    "df_insp_Long = df_insp['Longitude']\n",
    "c_shape = df_2020_c_uni.shape[0]\n",
    "df_2020_c_Lat = df_2020_c_uni['LATITUDE']\n",
    "df_2020_c_Long = df_2020_c_uni['LONGITUDE']\n",
    "df_2020_c_Date = df_2020_c_uni['INSPECTION_DATE']\n",
    "df_2020_c_ConfirmNum = df_2020_c_uni['CONFIRMATION_NUM']\n",
    "\n",
    "ClosestDis = []\n",
    "ClosestDate = []\n",
    "ClosestConfirmNum = []\n",
    "\n",
    "for i in range(df_insp.shape[0]):\n",
    "    if(i%10000 == 0):\n",
    "        print(i)\n",
    "    loc1 = df_insp_Lat[i], df_insp_Long[i]\n",
    "    dis = []\n",
    "    for j in range(c_shape):\n",
    "        loc2 = (df_2020_c_Lat[j], df_2020_c_Long[j])\n",
    "        tem_dis = geodesic(loc1, loc2).miles\n",
    "        dis.append(tem_dis)\n",
    "    index = np.argmin(dis)\n",
    "    ClosestDis.append(dis[index])\n",
    "    ClosestDate.append(df_2020_c_Date[index])\n",
    "    ClosestConfirmNum.append(df_2020_c_ConfirmNum[index])"
   ]
  },
  {
   "cell_type": "code",
   "execution_count": 54,
   "id": "76454304",
   "metadata": {},
   "outputs": [],
   "source": [
    "df_insp['ClosestWorkingTankDis'] = ClosestDis\n",
    "df_insp['ClosestWorkingTankDate'] = ClosestDate\n",
    "df_insp['ClosestWorkingTankConfirmNum'] = ClosestConfirmNum"
   ]
  },
  {
   "cell_type": "code",
   "execution_count": 55,
   "id": "8a922134",
   "metadata": {},
   "outputs": [],
   "source": [
    "df_insp['ClosestBadTankDis'] = 0\n",
    "df_insp['ClosestBadTankDate'] = 'NA'\n",
    "df_insp['ClosestBadTankConfirmNum'] = 'NA'\n",
    "\n",
    "df_bad_tank = water_tank_clean[water_tank_clean.MEET_STANDARDS == 'N']\n",
    "df_bad_tank_sorted = df_bad_tank.sort_values(by = ['INSPECTION_DATE'])\n",
    "dup_bad = df_bad_tank_sorted.duplicated(subset=['LATITUDE'], keep='first')\n",
    "ind_bad = [not i for i in dup_bad]\n",
    "df_bad_tank_uni = df_bad_tank_sorted[ind_bad].sort_values(by = ['INSPECTION_DATE'])\n",
    "df_bad_tank_uni.index = np.arange(0,len(df_bad_tank_uni.index))\n",
    "\n",
    "df_insp_Lat = df_insp['Latitude']\n",
    "df_insp_Long = df_insp['Longitude']\n",
    "bad_tank_shape = df_bad_tank_uni.shape[0]\n",
    "df_2020_c_Bad_Lat = df_bad_tank_uni['LATITUDE']\n",
    "df_2020_c_Bad_Long = df_bad_tank_uni['LONGITUDE']\n",
    "df_2020_c_Bad_Date = df_bad_tank_uni['INSPECTION_DATE']\n",
    "df_2020_c_Bad_ConfirmNum = df_bad_tank_uni['CONFIRMATION_NUM']\n"
   ]
  },
  {
   "cell_type": "code",
   "execution_count": 56,
   "id": "5734e6bb",
   "metadata": {},
   "outputs": [],
   "source": [
    "ClosestBadDis = []\n",
    "ClosestBadDate = []\n",
    "ClosestBadConfirmNum = []\n",
    "for i in range(df_insp.shape[0]):\n",
    "    loc1 = df_insp_Lat[i], df_insp_Long[i]\n",
    "    dis = []\n",
    "    for j in range(bad_tank_shape):\n",
    "        loc2 = (df_2020_c_Bad_Lat[j], df_2020_c_Bad_Long[j])\n",
    "        tem_dis = geodesic(loc1, loc2).miles\n",
    "        dis.append(tem_dis)\n",
    "    index = np.argmin(dis)\n",
    "    ClosestBadDis.append(dis[index])\n",
    "    ClosestBadDate.append(df_2020_c_Bad_Date[index])\n",
    "    ClosestBadConfirmNum.append(df_2020_c_Bad_ConfirmNum[index])"
   ]
  },
  {
   "cell_type": "code",
   "execution_count": 60,
   "id": "8c56d3c7",
   "metadata": {},
   "outputs": [],
   "source": [
    "df_insp['ClosestBadTankDis'] = ClosestBadDis\n",
    "df_insp['ClosestBadTankDate'] = ClosestBadDate\n",
    "df_insp['ClosestBadTankConfirmNum'] = ClosestBadConfirmNum"
   ]
  },
  {
   "cell_type": "code",
   "execution_count": 61,
   "id": "d12f4501",
   "metadata": {},
   "outputs": [],
   "source": [
    "#df_insp.to_csv('df_insp_with_distance-v1.csv')"
   ]
  },
  {
   "cell_type": "code",
   "execution_count": 65,
   "id": "d771063d",
   "metadata": {},
   "outputs": [],
   "source": [
    "df_insp.iloc[:,0:-1].to_csv('df_insp_with_distance-v2.csv')"
   ]
  },
  {
   "cell_type": "code",
   "execution_count": null,
   "id": "27106849",
   "metadata": {},
   "outputs": [],
   "source": []
  }
 ],
 "metadata": {
  "kernelspec": {
   "display_name": "eods-f21",
   "language": "python",
   "name": "eods-f21"
  },
  "language_info": {
   "codemirror_mode": {
    "name": "ipython",
    "version": 3
   },
   "file_extension": ".py",
   "mimetype": "text/x-python",
   "name": "python",
   "nbconvert_exporter": "python",
   "pygments_lexer": "ipython3",
   "version": "3.8.12"
  }
 },
 "nbformat": 4,
 "nbformat_minor": 5
}
