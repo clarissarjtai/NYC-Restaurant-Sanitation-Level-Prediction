{
 "cells": [
  {
   "cell_type": "code",
   "execution_count": 1,
   "id": "c65ccb46",
   "metadata": {},
   "outputs": [],
   "source": [
    "import numpy as np\n",
    "import pandas as pd\n",
    "import seaborn as sns\n",
    "import matplotlib.pyplot as plt\n",
    "from numpy.linalg import inv\n",
    "import folium\n",
    "from folium import plugins\n",
    "%matplotlib inline"
   ]
  },
  {
   "cell_type": "code",
   "execution_count": 2,
   "id": "1c788a32",
   "metadata": {},
   "outputs": [],
   "source": [
    "water_tank = pd.read_csv('Self-Reported_Drinking_Water_Tank_Inspection_Results.csv')\n",
    "fea = ['BIN','BOROUGH','ZIP','STREET_NAME','BLOCK', 'LOT','CONFIRMATION_NUM','REPORTING_YEAR',\\\n",
    "                              'INSPECTION_DATE','MEET_STANDARDS','LATITUDE','LONGITUDE','BBL']\n",
    "water_tank_clean = water_tank[fea].dropna()\n",
    "df_2020_c = water_tank_clean[water_tank_clean.REPORTING_YEAR == 2020]\n",
    "df_2020_c = df_2020_c[df_2020_c.MEET_STANDARDS == 'Y']\n",
    "df_2020_c.index = np.arange(0,len(df_2020_c.index))"
   ]
  },
  {
   "cell_type": "code",
   "execution_count": 3,
   "id": "163c690e",
   "metadata": {},
   "outputs": [],
   "source": [
    "restaurant_csv_path = \"DOHMH_New_York_City_Restaurant_Inspection_Results.csv\"\n",
    "df_insp = pd.read_csv(restaurant_csv_path).copy()\n",
    "df_insp = df_insp.dropna()\n",
    "df_insp.index = np.arange(0,len(df_insp.index))"
   ]
  },
  {
   "cell_type": "code",
   "execution_count": 4,
   "id": "e2c63136",
   "metadata": {},
   "outputs": [],
   "source": [
    "df_2020_c_sorted = df_2020_c.sort_values(by = ['INSPECTION_DATE'])\n",
    "dup = df_2020_c_sorted.duplicated(subset=['LATITUDE'], keep='first')\n",
    "ind = [not i for i in dup]\n",
    "df_2020_c_uni = df_2020_c[ind].sort_values(by = ['INSPECTION_DATE'])\n",
    "df_2020_c_uni.index = np.arange(0,len(df_2020_c_uni.index))"
   ]
  },
  {
   "cell_type": "code",
   "execution_count": null,
   "id": "2bce4984",
   "metadata": {},
   "outputs": [
    {
     "name": "stdout",
     "output_type": "stream",
     "text": [
      "0\n",
      "10000\n",
      "20000\n",
      "30000\n"
     ]
    }
   ],
   "source": [
    "from geopy.distance import geodesic\n",
    "df_insp['ClosestWorkingTankDis'] = 0\n",
    "df_insp['ClosestWorkingTankDate'] = 'NA'\n",
    "\n",
    "df_insp_Lat = df_insp['Latitude']\n",
    "df_insp_Long = df_insp['Longitude']\n",
    "c_shape = df_2020_c_uni.shape[0]\n",
    "df_2020_c_Lat = df_2020_c_uni['LATITUDE']\n",
    "df_2020_c_Long = df_2020_c_uni['LONGITUDE']\n",
    "df_2020_c_Date = df_2020_c_uni['INSPECTION_DATE']\n",
    "\n",
    "\n",
    "ClosestDis = []\n",
    "ClosestDate = []\n",
    "for i in range(df_insp.shape[0]):\n",
    "    if(i%10000 == 0):\n",
    "        print(i)\n",
    "    loc1 = df_insp_Lat[i], df_insp_Long[i]\n",
    "    dis = []\n",
    "    for j in range(c_shape):\n",
    "        loc2 = (df_2020_c_Lat[j], df_2020_c_Long[j])\n",
    "        tem_dis = geodesic(loc1, loc2).miles\n",
    "        dis.append(tem_dis)\n",
    "    index = np.argmin(dis)\n",
    "    ClosestDis.append(dis[index])\n",
    "    ClosestDate.append(df_2020_c_Date[index])"
   ]
  },
  {
   "cell_type": "code",
   "execution_count": null,
   "id": "76454304",
   "metadata": {},
   "outputs": [],
   "source": []
  },
  {
   "cell_type": "code",
   "execution_count": null,
   "id": "8a922134",
   "metadata": {},
   "outputs": [],
   "source": []
  },
  {
   "cell_type": "code",
   "execution_count": null,
   "id": "5734e6bb",
   "metadata": {},
   "outputs": [],
   "source": []
  },
  {
   "cell_type": "code",
   "execution_count": null,
   "id": "8c56d3c7",
   "metadata": {},
   "outputs": [],
   "source": []
  }
 ],
 "metadata": {
  "kernelspec": {
   "display_name": "eods-f21",
   "language": "python",
   "name": "eods-f21"
  },
  "language_info": {
   "codemirror_mode": {
    "name": "ipython",
    "version": 3
   },
   "file_extension": ".py",
   "mimetype": "text/x-python",
   "name": "python",
   "nbconvert_exporter": "python",
   "pygments_lexer": "ipython3",
   "version": "3.8.12"
  }
 },
 "nbformat": 4,
 "nbformat_minor": 5
}
